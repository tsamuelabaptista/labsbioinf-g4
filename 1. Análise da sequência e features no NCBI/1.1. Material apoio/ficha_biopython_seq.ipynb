{
 "cells": [
  {
   "cell_type": "markdown",
   "metadata": {},
   "source": [
    "## Ficha BioPython - módulo Seq"
   ]
  },
  {
   "cell_type": "markdown",
   "metadata": {},
   "source": [
    "Carregamento do package e dos módulos necessários"
   ]
  },
  {
   "cell_type": "code",
   "execution_count": 2,
   "metadata": {},
   "outputs": [],
   "source": [
    "from Bio import Seq\n",
    "from Bio import SeqIO"
   ]
  },
  {
   "cell_type": "markdown",
   "metadata": {},
   "source": [
    "Leitura da sequência do ficheiro no formato FASTA (note-se que previamente esta sequência foi gravada do NCBI, correspondendo ao gene yaaX da Escherichia coli)."
   ]
  },
  {
   "cell_type": "code",
   "execution_count": 3,
   "metadata": {},
   "outputs": [],
   "source": [
    "record = SeqIO.read(\"NC_000913.fasta\", \"fasta\")"
   ]
  },
  {
   "cell_type": "code",
   "execution_count": 4,
   "metadata": {},
   "outputs": [
    {
     "data": {
      "text/plain": [
       "Seq('CTCCGGATATCGACCCATAACGGGCAATGATAAAAGGAGTAACCTGTGAAAAAG...TGC')"
      ]
     },
     "execution_count": 4,
     "metadata": {},
     "output_type": "execute_result"
    }
   ],
   "source": [
    "seq = record.seq\n",
    "seq"
   ]
  },
  {
   "cell_type": "markdown",
   "metadata": {},
   "source": [
    "1.Calcule o comprimento da sequência."
   ]
  },
  {
   "cell_type": "code",
   "execution_count": 7,
   "metadata": {},
   "outputs": [
    {
     "data": {
      "text/plain": [
       "385"
      ]
     },
     "execution_count": 7,
     "metadata": {},
     "output_type": "execute_result"
    }
   ],
   "source": [
    "len(seq)"
   ]
  },
  {
   "cell_type": "markdown",
   "metadata": {},
   "source": [
    "2.Calcule o conteúdo \"GC\" da sequência (i.e. qual a proproção de nucleótidos \"G\" ou \"C\")"
   ]
  },
  {
   "cell_type": "code",
   "execution_count": 15,
   "metadata": {},
   "outputs": [
    {
     "name": "stdout",
     "output_type": "stream",
     "text": [
      "GC content: 52.98701298701298 %\n"
     ]
    }
   ],
   "source": [
    "print(\"GC content:\", ((seq.count('G') + seq.count('C'))/len(seq))*100, \"%\")"
   ]
  },
  {
   "cell_type": "markdown",
   "metadata": {},
   "source": [
    "3.Obtenha a sequência complementar inversa"
   ]
  },
  {
   "cell_type": "code",
   "execution_count": 16,
   "metadata": {},
   "outputs": [
    {
     "name": "stdout",
     "output_type": "stream",
     "text": [
      "GCATCAGGCGCTGAATGCCGGATTGTTACCCGGCATTTGTCATTTAGCGGTGATGTTTGCCTGGACCATGACCGCCGTGATGATCATGAGGAGCTTTCTTATGGTGGCGCGGCGGTGGCGGCGGTCCGTGTAGGTGCCAGCGATTGCCTCGCCATTCATAATGTTGTTTCCACCAGCCGTGGTCGCGCCAGTGACCTCCATCCCAGTAATAGCCACGATTATCACGATCGCCTATCTGTAATTTTACTGACGGGACTAACGTAATTTCCGCAGCCTGTGCTGCCATGGGAGCGACCAGAACCAGGGAAAGTGCGAGTACGATAGATTGCATCTTTTTCACAGGTTACTCCTTTTATCATTGCCCGTTATGGGTCGATATCCGGAG\n"
     ]
    }
   ],
   "source": [
    "coding_dna = seq\n",
    "template_dna = coding_dna.reverse_complement()\n",
    "print(template_dna)"
   ]
  },
  {
   "cell_type": "markdown",
   "metadata": {},
   "source": [
    "4.Obtenha e imprima a sequência correspondente à transcrição da sequência original."
   ]
  },
  {
   "cell_type": "code",
   "execution_count": 42,
   "metadata": {},
   "outputs": [
    {
     "data": {
      "text/plain": [
       "Seq('CUCCGGAUAUCGACCCAUAACGGGCAAUGAUAAAAGGAGUAACCUGUGAAAAAG...UGC')"
      ]
     },
     "execution_count": 42,
     "metadata": {},
     "output_type": "execute_result"
    }
   ],
   "source": [
    "seq.transcribe()"
   ]
  },
  {
   "cell_type": "markdown",
   "metadata": {},
   "source": [
    "5.Esta sequência representa o gene tendo a zona codificante, mas também alguns pb’s da região regulatória anterior e da região que se segue. Neste caso, o codão start é o “GTG”. Descubra a posição onde se inicia a zona codificante, sabendo que ela corresponde à primeira posição onde ocorre o “GTG” na sequência."
   ]
  },
  {
   "cell_type": "code",
   "execution_count": 44,
   "metadata": {},
   "outputs": [
    {
     "data": {
      "text/plain": [
       "45"
      ]
     },
     "execution_count": 44,
     "metadata": {},
     "output_type": "execute_result"
    }
   ],
   "source": [
    "seq.find('GTG')"
   ]
  },
  {
   "cell_type": "markdown",
   "metadata": {},
   "source": [
    "6.a) O codão stop é o “TAA” e está presente nas posições 339 a 341. Verifique esta informação."
   ]
  },
  {
   "cell_type": "code",
   "execution_count": 41,
   "metadata": {},
   "outputs": [
    {
     "data": {
      "text/plain": [
       "Seq('TAA')"
      ]
     },
     "execution_count": 41,
     "metadata": {},
     "output_type": "execute_result"
    }
   ],
   "source": [
    "seq[339:342]"
   ]
  },
  {
   "cell_type": "markdown",
   "metadata": {},
   "source": [
    "6.b) Crie uma nova sequência apenas com a zona codificante. "
   ]
  },
  {
   "cell_type": "code",
   "execution_count": 48,
   "metadata": {},
   "outputs": [
    {
     "data": {
      "text/plain": [
       "Seq('GTGAAAAAGATGCAATCTATCGTACTCGCACTTTCCCTGGTTCTGGTCGCTCCC...TAA')"
      ]
     },
     "execution_count": 48,
     "metadata": {},
     "output_type": "execute_result"
    }
   ],
   "source": [
    "cds = seq[45:342]\n",
    "cds"
   ]
  },
  {
   "cell_type": "markdown",
   "metadata": {},
   "source": [
    "6.c) Verifique que a zona codificante tem um comprimento que é múltiplo de 3. Calcule o número de aminoácidos que terá a proteína resultante."
   ]
  },
  {
   "cell_type": "code",
   "execution_count": 55,
   "metadata": {},
   "outputs": [
    {
     "data": {
      "text/plain": [
       "True"
      ]
     },
     "execution_count": 55,
     "metadata": {},
     "output_type": "execute_result"
    }
   ],
   "source": [
    "len(cds) % 3 == 0"
   ]
  },
  {
   "cell_type": "code",
   "execution_count": 57,
   "metadata": {},
   "outputs": [
    {
     "data": {
      "text/plain": [
       "98"
      ]
     },
     "execution_count": 57,
     "metadata": {},
     "output_type": "execute_result"
    }
   ],
   "source": [
    "int(len(cds)/3)-1"
   ]
  },
  {
   "cell_type": "markdown",
   "metadata": {},
   "source": [
    "7.a) Sabendo que se trata de uma bactéria, selecione qual a tabela de tradução mais adequada. Note que as tabelas de tradução estão organizadas num dicionário CodonTable.unambiguous_dna_by_name, onde a chave é a sua designação. Explore o seu conteúdo."
   ]
  },
  {
   "cell_type": "code",
   "execution_count": 59,
   "metadata": {},
   "outputs": [
    {
     "data": {
      "text/plain": [
       "['Standard',\n",
       " 'SGC0',\n",
       " 'Vertebrate Mitochondrial',\n",
       " 'SGC1',\n",
       " 'Yeast Mitochondrial',\n",
       " 'SGC2',\n",
       " 'Mold Mitochondrial',\n",
       " 'Protozoan Mitochondrial',\n",
       " 'Coelenterate Mitochondrial',\n",
       " 'Mycoplasma',\n",
       " 'Spiroplasma',\n",
       " 'SGC3',\n",
       " 'Invertebrate Mitochondrial',\n",
       " 'SGC4',\n",
       " 'Ciliate Nuclear',\n",
       " 'Dasycladacean Nuclear',\n",
       " 'Hexamita Nuclear',\n",
       " 'SGC5',\n",
       " 'Echinoderm Mitochondrial',\n",
       " 'Flatworm Mitochondrial',\n",
       " 'SGC8',\n",
       " 'Euplotid Nuclear',\n",
       " 'SGC9',\n",
       " 'Bacterial',\n",
       " 'Archaeal',\n",
       " 'Plant Plastid',\n",
       " 'Alternative Yeast Nuclear',\n",
       " 'Ascidian Mitochondrial',\n",
       " 'Alternative Flatworm Mitochondrial',\n",
       " 'Blepharisma Macronuclear',\n",
       " 'Chlorophycean Mitochondrial',\n",
       " 'Trematode Mitochondrial',\n",
       " 'Scenedesmus obliquus Mitochondrial',\n",
       " 'Thraustochytrium Mitochondrial',\n",
       " 'Pterobranchia Mitochondrial',\n",
       " 'Candidate Division SR1',\n",
       " 'Gracilibacteria',\n",
       " 'Pachysolen tannophilus Nuclear',\n",
       " 'Karyorelict Nuclear',\n",
       " 'Condylostoma Nuclear',\n",
       " 'Mesodinium Nuclear',\n",
       " 'Peritrich Nuclear',\n",
       " 'Blastocrithidia Nuclear',\n",
       " 'Balanophoraceae Plastid',\n",
       " 'Cephalodiscidae Mitochondrial']"
      ]
     },
     "execution_count": 59,
     "metadata": {},
     "output_type": "execute_result"
    }
   ],
   "source": [
    "from Bio.Data import CodonTable\n",
    "list(CodonTable.unambiguous_dna_by_name.keys())"
   ]
  },
  {
   "cell_type": "code",
   "execution_count": 71,
   "metadata": {},
   "outputs": [
    {
     "name": "stdout",
     "output_type": "stream",
     "text": [
      "Table 11 Bacterial, Archaeal, Plant Plastid\n",
      "\n",
      "  |  T      |  C      |  A      |  G      |\n",
      "--+---------+---------+---------+---------+--\n",
      "T | TTT F   | TCT S   | TAT Y   | TGT C   | T\n",
      "T | TTC F   | TCC S   | TAC Y   | TGC C   | C\n",
      "T | TTA L   | TCA S   | TAA Stop| TGA Stop| A\n",
      "T | TTG L(s)| TCG S   | TAG Stop| TGG W   | G\n",
      "--+---------+---------+---------+---------+--\n",
      "C | CTT L   | CCT P   | CAT H   | CGT R   | T\n",
      "C | CTC L   | CCC P   | CAC H   | CGC R   | C\n",
      "C | CTA L   | CCA P   | CAA Q   | CGA R   | A\n",
      "C | CTG L(s)| CCG P   | CAG Q   | CGG R   | G\n",
      "--+---------+---------+---------+---------+--\n",
      "A | ATT I(s)| ACT T   | AAT N   | AGT S   | T\n",
      "A | ATC I(s)| ACC T   | AAC N   | AGC S   | C\n",
      "A | ATA I(s)| ACA T   | AAA K   | AGA R   | A\n",
      "A | ATG M(s)| ACG T   | AAG K   | AGG R   | G\n",
      "--+---------+---------+---------+---------+--\n",
      "G | GTT V   | GCT A   | GAT D   | GGT G   | T\n",
      "G | GTC V   | GCC A   | GAC D   | GGC G   | C\n",
      "G | GTA V   | GCA A   | GAA E   | GGA G   | A\n",
      "G | GTG V(s)| GCG A   | GAG E   | GGG G   | G\n",
      "--+---------+---------+---------+---------+--\n"
     ]
    }
   ],
   "source": [
    "bact_table = CodonTable.unambiguous_dna_by_name[\"Bacterial\"]\n",
    "print(bact_table)"
   ]
  },
  {
   "cell_type": "markdown",
   "metadata": {},
   "source": [
    "7.b) Verifique que nesta tabela o \"GTG\" faz parte dos codões start."
   ]
  },
  {
   "cell_type": "code",
   "execution_count": 72,
   "metadata": {},
   "outputs": [
    {
     "data": {
      "text/plain": [
       "['TTG', 'CTG', 'ATT', 'ATC', 'ATA', 'ATG', 'GTG']"
      ]
     },
     "execution_count": 72,
     "metadata": {},
     "output_type": "execute_result"
    }
   ],
   "source": [
    "bact_table.start_codons"
   ]
  },
  {
   "cell_type": "markdown",
   "metadata": {},
   "source": [
    "7.c) Verifique quais os codões stop."
   ]
  },
  {
   "cell_type": "code",
   "execution_count": 73,
   "metadata": {},
   "outputs": [
    {
     "data": {
      "text/plain": [
       "['TAA', 'TAG', 'TGA']"
      ]
     },
     "execution_count": 73,
     "metadata": {},
     "output_type": "execute_result"
    }
   ],
   "source": [
    "bact_table.stop_codons"
   ]
  },
  {
   "cell_type": "markdown",
   "metadata": {},
   "source": [
    "8.a) Usando a tabela selecionada, faça a tradução das sequência. "
   ]
  },
  {
   "cell_type": "code",
   "execution_count": 74,
   "metadata": {},
   "outputs": [
    {
     "data": {
      "text/plain": [
       "Seq('VKKMQSIVLALSLVLVAPMAAQAAEITLVPSVKLQIGDRDNRGYYWDGGHWRDH...HR*')"
      ]
     },
     "execution_count": 74,
     "metadata": {},
     "output_type": "execute_result"
    }
   ],
   "source": [
    "cds.translate(table = \"Bacterial\")"
   ]
  },
  {
   "cell_type": "markdown",
   "metadata": {},
   "source": [
    "8.b) Verifique que o aminoácido inicial não é o start. Use a opção cds = True para conseguir o resultado correto (esta opção indica que o GTG é codão start e neste caso, em vez da Valina, traduz para Metionina)."
   ]
  },
  {
   "cell_type": "code",
   "execution_count": 76,
   "metadata": {},
   "outputs": [
    {
     "data": {
      "text/plain": [
       "Seq('MKKMQSIVLALSLVLVAPMAAQAAEITLVPSVKLQIGDRDNRGYYWDGGHWRDH...HHR')"
      ]
     },
     "execution_count": 76,
     "metadata": {},
     "output_type": "execute_result"
    }
   ],
   "source": [
    "prot = cds.translate(table = \"Bacterial\", cds = True)\n",
    "prot"
   ]
  },
  {
   "cell_type": "markdown",
   "metadata": {},
   "source": [
    "8.c) Confirme o nº de aminoácidos da proteína."
   ]
  },
  {
   "cell_type": "code",
   "execution_count": 77,
   "metadata": {},
   "outputs": [
    {
     "data": {
      "text/plain": [
       "98"
      ]
     },
     "execution_count": 77,
     "metadata": {},
     "output_type": "execute_result"
    }
   ],
   "source": [
    "len(prot)"
   ]
  },
  {
   "cell_type": "markdown",
   "metadata": {},
   "source": [
    "8.d) Verifique que a sequência de aminoácidos não contém stops."
   ]
  },
  {
   "cell_type": "code",
   "execution_count": 78,
   "metadata": {},
   "outputs": [
    {
     "data": {
      "text/plain": [
       "-1"
      ]
     },
     "execution_count": 78,
     "metadata": {},
     "output_type": "execute_result"
    }
   ],
   "source": [
    "prot.find(\"*\")"
   ]
  },
  {
   "cell_type": "markdown",
   "metadata": {},
   "source": [
    "9.a) Conte o número de ocorrências dos aminoácidos representados pelas letras K e L."
   ]
  },
  {
   "cell_type": "code",
   "execution_count": 82,
   "metadata": {},
   "outputs": [
    {
     "name": "stdout",
     "output_type": "stream",
     "text": [
      "7\n"
     ]
    }
   ],
   "source": [
    "print(prot.count(\"K\"))"
   ]
  },
  {
   "cell_type": "code",
   "execution_count": 83,
   "metadata": {},
   "outputs": [
    {
     "name": "stdout",
     "output_type": "stream",
     "text": [
      "7\n"
     ]
    }
   ],
   "source": [
    "print(prot.count(\"L\"))"
   ]
  },
  {
   "cell_type": "markdown",
   "metadata": {},
   "source": [
    "9.b) Quantas vezes ocorre na sequência o aparecimento de duas Alaninas consecutivas."
   ]
  },
  {
   "cell_type": "code",
   "execution_count": 81,
   "metadata": {},
   "outputs": [
    {
     "name": "stdout",
     "output_type": "stream",
     "text": [
      "2\n"
     ]
    }
   ],
   "source": [
    "print(prot.count(\"AA\"))"
   ]
  },
  {
   "cell_type": "markdown",
   "metadata": {},
   "source": [
    "9.c) Calcule o número de ocorrências de cada aminoácido. Qual o aminoácido mais comum na sequência?"
   ]
  },
  {
   "cell_type": "code",
   "execution_count": null,
   "metadata": {},
   "outputs": [],
   "source": []
  }
 ],
 "metadata": {
  "kernelspec": {
   "display_name": "Python 3 (ipykernel)",
   "language": "python",
   "name": "python3"
  },
  "language_info": {
   "codemirror_mode": {
    "name": "ipython",
    "version": 3
   },
   "file_extension": ".py",
   "mimetype": "text/x-python",
   "name": "python",
   "nbconvert_exporter": "python",
   "pygments_lexer": "ipython3",
   "version": "3.9.13"
  }
 },
 "nbformat": 4,
 "nbformat_minor": 4
}
