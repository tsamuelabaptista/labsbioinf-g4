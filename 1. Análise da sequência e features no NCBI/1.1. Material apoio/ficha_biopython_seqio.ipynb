{
 "cells": [
  {
   "cell_type": "markdown",
   "metadata": {},
   "source": [
    "## Ficha BioPython - módulo SeqIO"
   ]
  },
  {
   "cell_type": "markdown",
   "metadata": {},
   "source": [
    "Carregamento do package e dos módulos necessários"
   ]
  },
  {
   "cell_type": "code",
   "execution_count": 1,
   "metadata": {},
   "outputs": [],
   "source": [
    "from Bio import Seq\n",
    "from Bio import SeqIO\n",
    "from Bio.SeqRecord import SeqRecord\n",
    "from Bio import SeqFeature"
   ]
  },
  {
   "cell_type": "markdown",
   "metadata": {},
   "source": [
    "Procure no site NCBI o registo Genbank correspondente ao gene humano BRCA1, neste [link](http://www.ncbi.nlm.nih.gov/nuccore/NC_000017.10?report=genbank&from=41184133&to=41289677&strand=true). Grave o ficheiro no formato “genbank”.\n",
    "\n"
   ]
  },
  {
   "cell_type": "markdown",
   "metadata": {},
   "source": [
    "1.a) Usando o BioPython, carregue o ficheiro anterior para análise. "
   ]
  },
  {
   "cell_type": "code",
   "execution_count": 2,
   "metadata": {},
   "outputs": [
    {
     "name": "stdout",
     "output_type": "stream",
     "text": [
      "ID: NC_000017.10\n",
      "Name: NC_000017\n",
      "Description: Homo sapiens chromosome 17, GRCh37.p13 Primary Assembly\n",
      "Database cross-references: BioProject:PRJNA168, Assembly:GCF_000001405.25\n",
      "Number of features: 17\n",
      "/molecule_type=DNA\n",
      "/topology=linear\n",
      "/data_file_division=CON\n",
      "/date=13-AUG-2013\n",
      "/accessions=['NC_000017', 'REGION:', 'complement(41184133..41289677)']\n",
      "/sequence_version=10\n",
      "/keywords=['RefSeq']\n",
      "/source=Homo sapiens (human)\n",
      "/organism=Homo sapiens\n",
      "/taxonomy=['Eukaryota', 'Metazoa', 'Chordata', 'Craniata', 'Vertebrata', 'Euteleostomi', 'Mammalia', 'Eutheria', 'Euarchontoglires', 'Primates', 'Haplorrhini', 'Catarrhini', 'Hominidae', 'Homo']\n",
      "/references=[Reference(title='DNA sequence of human chromosome 17 and analysis of rearrangement in the human lineage', ...), Reference(title='Finishing the euchromatic sequence of the human genome', ...), Reference(title='Initial sequencing and analysis of the human genome', ...)]\n",
      "/comment=REFSEQ INFORMATION: The reference sequence is identical to\n",
      "CM000679.1.\n",
      "[WARNING] On Feb 3, 2014 this sequence was replaced by\n",
      "NC_000017.11.\n",
      "On Jun 10, 2009 this sequence version replaced NC_000017.9.\n",
      "Assembly Name: GRCh37.p13 Primary Assembly\n",
      "The DNA sequence is composed of genomic sequence, primarily\n",
      "finished clones that were sequenced as part of the Human Genome\n",
      "Project. PCR products and WGS shotgun sequence have been added\n",
      "where necessary to fill gaps or correct errors. All such additions\n",
      "are manually curated by GRC staff. For more information see:\n",
      "http://genomereference.org.\n",
      "/structured_comment=OrderedDict([('Genome-Annotation-Data', OrderedDict([('Annotation Provider', 'NCBI'), ('Annotation Status', 'Full annotation'), ('Annotation Version', 'Homo sapiens Annotation Release 105'), ('Annotation Pipeline', 'NCBI eukaryotic genome annotation pipeline'), ('Annotation Software Version', '5.1'), ('Annotation Method', 'Best-placed RefSeq; Gnomon'), ('Features Annotated', 'Gene; mRNA; CDS; ncRNA')]))])\n",
      "Seq('GATCCGCTCACCTTGACCTCCCAAAGTGCTGGGATTAAAGGCATGAGCCACTGT...GCC')\n"
     ]
    }
   ],
   "source": [
    "record = SeqIO.read(\"BRCA.gb\", \"genbank\")\n",
    "print(record)"
   ]
  },
  {
   "cell_type": "markdown",
   "metadata": {},
   "source": [
    "1.b) Verifique o tamanho da respetiva sequência de DNA."
   ]
  },
  {
   "cell_type": "code",
   "execution_count": 3,
   "metadata": {},
   "outputs": [
    {
     "data": {
      "text/plain": [
       "105545"
      ]
     },
     "execution_count": 3,
     "metadata": {},
     "output_type": "execute_result"
    }
   ],
   "source": [
    "len(record)"
   ]
  },
  {
   "cell_type": "markdown",
   "metadata": {},
   "source": [
    "1.c) Verifique o ID, a descrição e o nome deste registo."
   ]
  },
  {
   "cell_type": "code",
   "execution_count": 4,
   "metadata": {},
   "outputs": [
    {
     "data": {
      "text/plain": [
       "'NC_000017.10'"
      ]
     },
     "execution_count": 4,
     "metadata": {},
     "output_type": "execute_result"
    }
   ],
   "source": [
    "record.id"
   ]
  },
  {
   "cell_type": "code",
   "execution_count": 5,
   "metadata": {},
   "outputs": [
    {
     "data": {
      "text/plain": [
       "'Homo sapiens chromosome 17, GRCh37.p13 Primary Assembly'"
      ]
     },
     "execution_count": 5,
     "metadata": {},
     "output_type": "execute_result"
    }
   ],
   "source": [
    "record.description"
   ]
  },
  {
   "cell_type": "code",
   "execution_count": 6,
   "metadata": {},
   "outputs": [
    {
     "data": {
      "text/plain": [
       "'NC_000017'"
      ]
     },
     "execution_count": 6,
     "metadata": {},
     "output_type": "execute_result"
    }
   ],
   "source": [
    "record.name"
   ]
  },
  {
   "cell_type": "markdown",
   "metadata": {},
   "source": [
    "2.a) Verifique a lista de anotações para este registo."
   ]
  },
  {
   "cell_type": "code",
   "execution_count": 7,
   "metadata": {},
   "outputs": [
    {
     "data": {
      "text/plain": [
       "{'molecule_type': 'DNA',\n",
       " 'topology': 'linear',\n",
       " 'data_file_division': 'CON',\n",
       " 'date': '13-AUG-2013',\n",
       " 'accessions': ['NC_000017', 'REGION:', 'complement(41184133..41289677)'],\n",
       " 'sequence_version': 10,\n",
       " 'keywords': ['RefSeq'],\n",
       " 'source': 'Homo sapiens (human)',\n",
       " 'organism': 'Homo sapiens',\n",
       " 'taxonomy': ['Eukaryota',\n",
       "  'Metazoa',\n",
       "  'Chordata',\n",
       "  'Craniata',\n",
       "  'Vertebrata',\n",
       "  'Euteleostomi',\n",
       "  'Mammalia',\n",
       "  'Eutheria',\n",
       "  'Euarchontoglires',\n",
       "  'Primates',\n",
       "  'Haplorrhini',\n",
       "  'Catarrhini',\n",
       "  'Hominidae',\n",
       "  'Homo'],\n",
       " 'references': [Reference(title='DNA sequence of human chromosome 17 and analysis of rearrangement in the human lineage', ...),\n",
       "  Reference(title='Finishing the euchromatic sequence of the human genome', ...),\n",
       "  Reference(title='Initial sequencing and analysis of the human genome', ...)],\n",
       " 'comment': 'REFSEQ INFORMATION: The reference sequence is identical to\\nCM000679.1.\\n[WARNING] On Feb 3, 2014 this sequence was replaced by\\nNC_000017.11.\\nOn Jun 10, 2009 this sequence version replaced NC_000017.9.\\nAssembly Name: GRCh37.p13 Primary Assembly\\nThe DNA sequence is composed of genomic sequence, primarily\\nfinished clones that were sequenced as part of the Human Genome\\nProject. PCR products and WGS shotgun sequence have been added\\nwhere necessary to fill gaps or correct errors. All such additions\\nare manually curated by GRC staff. For more information see:\\nhttp://genomereference.org.',\n",
       " 'structured_comment': OrderedDict([('Genome-Annotation-Data',\n",
       "               OrderedDict([('Annotation Provider', 'NCBI'),\n",
       "                            ('Annotation Status', 'Full annotation'),\n",
       "                            ('Annotation Version',\n",
       "                             'Homo sapiens Annotation Release 105'),\n",
       "                            ('Annotation Pipeline',\n",
       "                             'NCBI eukaryotic genome annotation pipeline'),\n",
       "                            ('Annotation Software Version', '5.1'),\n",
       "                            ('Annotation Method',\n",
       "                             'Best-placed RefSeq; Gnomon'),\n",
       "                            ('Features Annotated',\n",
       "                             'Gene; mRNA; CDS; ncRNA')]))])}"
      ]
     },
     "execution_count": 7,
     "metadata": {},
     "output_type": "execute_result"
    }
   ],
   "source": [
    "record.annotations"
   ]
  },
  {
   "cell_type": "markdown",
   "metadata": {},
   "source": [
    "2.b) Através das anotações do registo, determine o organismo a que a sequência pertence e a sua classificação taxonómica completa."
   ]
  },
  {
   "cell_type": "code",
   "execution_count": 8,
   "metadata": {},
   "outputs": [
    {
     "data": {
      "text/plain": [
       "'Homo sapiens (human)'"
      ]
     },
     "execution_count": 8,
     "metadata": {},
     "output_type": "execute_result"
    }
   ],
   "source": [
    "record.annotations[\"source\"]"
   ]
  },
  {
   "cell_type": "code",
   "execution_count": 9,
   "metadata": {},
   "outputs": [
    {
     "data": {
      "text/plain": [
       "'Homo sapiens'"
      ]
     },
     "execution_count": 9,
     "metadata": {},
     "output_type": "execute_result"
    }
   ],
   "source": [
    "record.annotations[\"organism\"]"
   ]
  },
  {
   "cell_type": "code",
   "execution_count": 10,
   "metadata": {},
   "outputs": [
    {
     "data": {
      "text/plain": [
       "['Eukaryota',\n",
       " 'Metazoa',\n",
       " 'Chordata',\n",
       " 'Craniata',\n",
       " 'Vertebrata',\n",
       " 'Euteleostomi',\n",
       " 'Mammalia',\n",
       " 'Eutheria',\n",
       " 'Euarchontoglires',\n",
       " 'Primates',\n",
       " 'Haplorrhini',\n",
       " 'Catarrhini',\n",
       " 'Hominidae',\n",
       " 'Homo']"
      ]
     },
     "execution_count": 10,
     "metadata": {},
     "output_type": "execute_result"
    }
   ],
   "source": [
    "record.annotations[\"taxonomy\"]"
   ]
  },
  {
   "cell_type": "markdown",
   "metadata": {},
   "source": [
    "3. Verifique a lista de features do registo, nomeadamente o seu tipo e localização."
   ]
  },
  {
   "cell_type": "code",
   "execution_count": 11,
   "metadata": {},
   "outputs": [
    {
     "data": {
      "text/plain": [
       "[SeqFeature(FeatureLocation(ExactPosition(0), ExactPosition(105545), strand=1), type='source'),\n",
       " SeqFeature(FeatureLocation(BeforePosition(0), ExactPosition(12078), strand=-1), type='gene'),\n",
       " SeqFeature(CompoundLocation([FeatureLocation(ExactPosition(11890), ExactPosition(12078), strand=-1), FeatureLocation(BeforePosition(6390), ExactPosition(6453), strand=-1)], 'join'), type='misc_RNA', location_operator='join'),\n",
       " SeqFeature(FeatureLocation(ExactPosition(12177), AfterPosition(93366), strand=1), type='gene'),\n",
       " SeqFeature(CompoundLocation([FeatureLocation(ExactPosition(12177), ExactPosition(12390), strand=1), FeatureLocation(ExactPosition(13545), ExactPosition(13644), strand=1), FeatureLocation(ExactPosition(21881), ExactPosition(21935), strand=1), FeatureLocation(ExactPosition(31127), ExactPosition(31205), strand=1), FeatureLocation(ExactPosition(32704), ExactPosition(32793), strand=1), FeatureLocation(ExactPosition(33399), ExactPosition(33539), strand=1), FeatureLocation(ExactPosition(37780), ExactPosition(37886), strand=1), FeatureLocation(ExactPosition(40371), ExactPosition(40417), strand=1), FeatureLocation(ExactPosition(41738), ExactPosition(41815), strand=1), FeatureLocation(ExactPosition(42800), ExactPosition(46226), strand=1), FeatureLocation(ExactPosition(46628), ExactPosition(46717), strand=1), FeatureLocation(ExactPosition(55085), ExactPosition(55257), strand=1), FeatureLocation(ExactPosition(61046), ExactPosition(61173), strand=1), FeatureLocation(ExactPosition(63139), ExactPosition(63330), strand=1), FeatureLocation(ExactPosition(66422), ExactPosition(66733), strand=1), FeatureLocation(ExactPosition(69965), ExactPosition(70053), strand=1), FeatureLocation(ExactPosition(73709), ExactPosition(73787), strand=1), FeatureLocation(ExactPosition(74287), ExactPosition(74328), strand=1), FeatureLocation(ExactPosition(80525), ExactPosition(80609), strand=1), FeatureLocation(ExactPosition(86543), ExactPosition(86598), strand=1), FeatureLocation(ExactPosition(88466), ExactPosition(88540), strand=1), FeatureLocation(ExactPosition(89957), ExactPosition(90018), strand=1), FeatureLocation(ExactPosition(91858), ExactPosition(93366), strand=1)], 'join'), type='mRNA', location_operator='join'),\n",
       " SeqFeature(CompoundLocation([FeatureLocation(ExactPosition(12177), ExactPosition(12390), strand=1), FeatureLocation(ExactPosition(13545), ExactPosition(13644), strand=1), FeatureLocation(ExactPosition(21881), ExactPosition(21935), strand=1), FeatureLocation(ExactPosition(31127), ExactPosition(31205), strand=1), FeatureLocation(ExactPosition(32704), ExactPosition(32793), strand=1), FeatureLocation(ExactPosition(33399), ExactPosition(33539), strand=1), FeatureLocation(ExactPosition(37780), ExactPosition(37886), strand=1), FeatureLocation(ExactPosition(40371), ExactPosition(40417), strand=1), FeatureLocation(ExactPosition(41738), ExactPosition(41815), strand=1), FeatureLocation(ExactPosition(42800), ExactPosition(46226), strand=1), FeatureLocation(ExactPosition(46628), ExactPosition(46717), strand=1), FeatureLocation(ExactPosition(55085), ExactPosition(55257), strand=1), FeatureLocation(ExactPosition(58261), ExactPosition(58327), strand=1), FeatureLocation(ExactPosition(61049), ExactPosition(61173), strand=1), FeatureLocation(ExactPosition(63139), ExactPosition(63330), strand=1), FeatureLocation(ExactPosition(66422), ExactPosition(66733), strand=1), FeatureLocation(ExactPosition(69965), ExactPosition(70053), strand=1), FeatureLocation(ExactPosition(73709), ExactPosition(73787), strand=1), FeatureLocation(ExactPosition(74287), ExactPosition(74328), strand=1), FeatureLocation(ExactPosition(80525), ExactPosition(80609), strand=1), FeatureLocation(ExactPosition(86543), ExactPosition(86598), strand=1), FeatureLocation(ExactPosition(88466), ExactPosition(88540), strand=1), FeatureLocation(ExactPosition(89957), ExactPosition(90018), strand=1), FeatureLocation(ExactPosition(91858), ExactPosition(93366), strand=1)], 'join'), type='mRNA', location_operator='join'),\n",
       " SeqFeature(CompoundLocation([FeatureLocation(ExactPosition(12209), ExactPosition(12384), strand=1), FeatureLocation(ExactPosition(13545), ExactPosition(13644), strand=1), FeatureLocation(ExactPosition(31127), ExactPosition(31205), strand=1), FeatureLocation(ExactPosition(32704), ExactPosition(32793), strand=1), FeatureLocation(ExactPosition(33399), ExactPosition(33539), strand=1), FeatureLocation(ExactPosition(37780), ExactPosition(37886), strand=1), FeatureLocation(ExactPosition(40371), ExactPosition(40417), strand=1), FeatureLocation(ExactPosition(41738), ExactPosition(41815), strand=1), FeatureLocation(ExactPosition(42800), ExactPosition(46226), strand=1), FeatureLocation(ExactPosition(46628), ExactPosition(46717), strand=1), FeatureLocation(ExactPosition(55085), ExactPosition(55257), strand=1), FeatureLocation(ExactPosition(61046), ExactPosition(61173), strand=1), FeatureLocation(ExactPosition(63139), ExactPosition(63330), strand=1), FeatureLocation(ExactPosition(66422), ExactPosition(66733), strand=1), FeatureLocation(ExactPosition(69965), ExactPosition(70053), strand=1), FeatureLocation(ExactPosition(73709), ExactPosition(73787), strand=1), FeatureLocation(ExactPosition(74287), ExactPosition(74328), strand=1), FeatureLocation(ExactPosition(80525), ExactPosition(80609), strand=1), FeatureLocation(ExactPosition(86543), ExactPosition(86598), strand=1), FeatureLocation(ExactPosition(88466), ExactPosition(88540), strand=1), FeatureLocation(ExactPosition(89957), ExactPosition(90018), strand=1), FeatureLocation(ExactPosition(91858), ExactPosition(93366), strand=1)], 'join'), type='mRNA', location_operator='join'),\n",
       " SeqFeature(CompoundLocation([FeatureLocation(ExactPosition(12209), ExactPosition(12384), strand=1), FeatureLocation(ExactPosition(13545), ExactPosition(13644), strand=1), FeatureLocation(ExactPosition(21881), ExactPosition(21935), strand=1), FeatureLocation(ExactPosition(31127), ExactPosition(31205), strand=1), FeatureLocation(ExactPosition(32704), ExactPosition(32793), strand=1), FeatureLocation(ExactPosition(33399), ExactPosition(33539), strand=1), FeatureLocation(ExactPosition(37780), ExactPosition(37886), strand=1), FeatureLocation(ExactPosition(40371), ExactPosition(40417), strand=1), FeatureLocation(ExactPosition(41738), ExactPosition(41815), strand=1), FeatureLocation(ExactPosition(42800), ExactPosition(42917), strand=1), FeatureLocation(ExactPosition(46628), ExactPosition(46717), strand=1), FeatureLocation(ExactPosition(55085), ExactPosition(55257), strand=1), FeatureLocation(ExactPosition(61049), ExactPosition(61173), strand=1), FeatureLocation(ExactPosition(63139), ExactPosition(63330), strand=1), FeatureLocation(ExactPosition(66422), ExactPosition(66733), strand=1), FeatureLocation(ExactPosition(69965), ExactPosition(70053), strand=1), FeatureLocation(ExactPosition(73709), ExactPosition(73787), strand=1), FeatureLocation(ExactPosition(74287), ExactPosition(74328), strand=1), FeatureLocation(ExactPosition(80525), ExactPosition(80609), strand=1), FeatureLocation(ExactPosition(86543), ExactPosition(86598), strand=1), FeatureLocation(ExactPosition(89957), ExactPosition(90018), strand=1), FeatureLocation(ExactPosition(91858), ExactPosition(93366), strand=1)], 'join'), type='mRNA', location_operator='join'),\n",
       " SeqFeature(CompoundLocation([FeatureLocation(ExactPosition(12337), ExactPosition(12479), strand=1), FeatureLocation(ExactPosition(13545), ExactPosition(13644), strand=1), FeatureLocation(ExactPosition(21881), ExactPosition(21935), strand=1), FeatureLocation(ExactPosition(31127), ExactPosition(31183), strand=1), FeatureLocation(ExactPosition(32704), ExactPosition(32793), strand=1), FeatureLocation(ExactPosition(33399), ExactPosition(33539), strand=1), FeatureLocation(ExactPosition(37783), ExactPosition(37886), strand=1), FeatureLocation(ExactPosition(40371), ExactPosition(40417), strand=1), FeatureLocation(ExactPosition(41738), ExactPosition(41815), strand=1), FeatureLocation(ExactPosition(42800), ExactPosition(46226), strand=1), FeatureLocation(ExactPosition(46628), ExactPosition(46717), strand=1), FeatureLocation(ExactPosition(55085), ExactPosition(55257), strand=1), FeatureLocation(ExactPosition(61046), ExactPosition(61173), strand=1), FeatureLocation(ExactPosition(63139), ExactPosition(63330), strand=1), FeatureLocation(ExactPosition(66422), ExactPosition(66733), strand=1), FeatureLocation(ExactPosition(69965), ExactPosition(70053), strand=1), FeatureLocation(ExactPosition(73709), ExactPosition(73787), strand=1), FeatureLocation(ExactPosition(74287), ExactPosition(74328), strand=1), FeatureLocation(ExactPosition(80525), ExactPosition(80609), strand=1), FeatureLocation(ExactPosition(86543), ExactPosition(86598), strand=1), FeatureLocation(ExactPosition(88466), ExactPosition(88540), strand=1), FeatureLocation(ExactPosition(89957), ExactPosition(90018), strand=1), FeatureLocation(ExactPosition(91858), AfterPosition(93366), strand=1)], 'join'), type='misc_RNA', location_operator='join'),\n",
       " SeqFeature(CompoundLocation([FeatureLocation(ExactPosition(13545), ExactPosition(13644), strand=1), FeatureLocation(ExactPosition(21881), ExactPosition(21935), strand=1), FeatureLocation(ExactPosition(31127), ExactPosition(31205), strand=1), FeatureLocation(ExactPosition(32704), ExactPosition(32793), strand=1), FeatureLocation(ExactPosition(33399), ExactPosition(33539), strand=1), FeatureLocation(ExactPosition(37780), ExactPosition(37886), strand=1), FeatureLocation(ExactPosition(40371), ExactPosition(40417), strand=1), FeatureLocation(ExactPosition(41738), ExactPosition(41815), strand=1), FeatureLocation(ExactPosition(42800), ExactPosition(42917), strand=1), FeatureLocation(ExactPosition(46628), ExactPosition(46717), strand=1), FeatureLocation(ExactPosition(55085), ExactPosition(55257), strand=1), FeatureLocation(ExactPosition(61049), ExactPosition(61173), strand=1), FeatureLocation(ExactPosition(63139), ExactPosition(63330), strand=1), FeatureLocation(ExactPosition(66422), ExactPosition(66733), strand=1), FeatureLocation(ExactPosition(69965), ExactPosition(70053), strand=1), FeatureLocation(ExactPosition(73709), ExactPosition(73787), strand=1), FeatureLocation(ExactPosition(74287), ExactPosition(74328), strand=1), FeatureLocation(ExactPosition(80525), ExactPosition(80609), strand=1), FeatureLocation(ExactPosition(86543), ExactPosition(86598), strand=1), FeatureLocation(ExactPosition(88466), ExactPosition(88540), strand=1), FeatureLocation(ExactPosition(89957), ExactPosition(90018), strand=1), FeatureLocation(ExactPosition(91858), ExactPosition(93366), strand=1)], 'join'), type='mRNA', location_operator='join'),\n",
       " SeqFeature(CompoundLocation([FeatureLocation(ExactPosition(13564), ExactPosition(13644), strand=1), FeatureLocation(ExactPosition(21881), ExactPosition(21935), strand=1), FeatureLocation(ExactPosition(31127), ExactPosition(31205), strand=1), FeatureLocation(ExactPosition(32704), ExactPosition(32793), strand=1), FeatureLocation(ExactPosition(33399), ExactPosition(33539), strand=1), FeatureLocation(ExactPosition(37780), ExactPosition(37886), strand=1), FeatureLocation(ExactPosition(40371), ExactPosition(40417), strand=1), FeatureLocation(ExactPosition(41738), ExactPosition(41815), strand=1), FeatureLocation(ExactPosition(42800), ExactPosition(42917), strand=1), FeatureLocation(ExactPosition(46628), ExactPosition(46717), strand=1), FeatureLocation(ExactPosition(55085), ExactPosition(55257), strand=1), FeatureLocation(ExactPosition(61049), ExactPosition(61173), strand=1), FeatureLocation(ExactPosition(63139), ExactPosition(63330), strand=1), FeatureLocation(ExactPosition(66422), ExactPosition(66733), strand=1), FeatureLocation(ExactPosition(69965), ExactPosition(70053), strand=1), FeatureLocation(ExactPosition(73709), ExactPosition(73787), strand=1), FeatureLocation(ExactPosition(74287), ExactPosition(74328), strand=1), FeatureLocation(ExactPosition(80525), ExactPosition(80609), strand=1), FeatureLocation(ExactPosition(86543), ExactPosition(86598), strand=1), FeatureLocation(ExactPosition(88466), ExactPosition(88540), strand=1), FeatureLocation(ExactPosition(89957), ExactPosition(90018), strand=1), FeatureLocation(ExactPosition(91858), ExactPosition(91983), strand=1)], 'join'), type='CDS', location_operator='join'),\n",
       " SeqFeature(CompoundLocation([FeatureLocation(ExactPosition(13564), ExactPosition(13644), strand=1), FeatureLocation(ExactPosition(21881), ExactPosition(21935), strand=1), FeatureLocation(ExactPosition(31127), ExactPosition(31205), strand=1), FeatureLocation(ExactPosition(32704), ExactPosition(32793), strand=1), FeatureLocation(ExactPosition(33399), ExactPosition(33539), strand=1), FeatureLocation(ExactPosition(37780), ExactPosition(37886), strand=1), FeatureLocation(ExactPosition(40371), ExactPosition(40417), strand=1), FeatureLocation(ExactPosition(41738), ExactPosition(41815), strand=1), FeatureLocation(ExactPosition(42800), ExactPosition(46226), strand=1), FeatureLocation(ExactPosition(46628), ExactPosition(46717), strand=1), FeatureLocation(ExactPosition(55085), ExactPosition(55257), strand=1), FeatureLocation(ExactPosition(61046), ExactPosition(61173), strand=1), FeatureLocation(ExactPosition(63139), ExactPosition(63330), strand=1), FeatureLocation(ExactPosition(66422), ExactPosition(66733), strand=1), FeatureLocation(ExactPosition(69965), ExactPosition(70053), strand=1), FeatureLocation(ExactPosition(73709), ExactPosition(73787), strand=1), FeatureLocation(ExactPosition(74287), ExactPosition(74328), strand=1), FeatureLocation(ExactPosition(80525), ExactPosition(80609), strand=1), FeatureLocation(ExactPosition(86543), ExactPosition(86598), strand=1), FeatureLocation(ExactPosition(88466), ExactPosition(88540), strand=1), FeatureLocation(ExactPosition(89957), ExactPosition(90018), strand=1), FeatureLocation(ExactPosition(91858), ExactPosition(91983), strand=1)], 'join'), type='CDS', location_operator='join'),\n",
       " SeqFeature(CompoundLocation([FeatureLocation(ExactPosition(13564), ExactPosition(13644), strand=1), FeatureLocation(ExactPosition(21881), ExactPosition(21935), strand=1), FeatureLocation(ExactPosition(31127), ExactPosition(31205), strand=1), FeatureLocation(ExactPosition(32704), ExactPosition(32793), strand=1), FeatureLocation(ExactPosition(33399), ExactPosition(33539), strand=1), FeatureLocation(ExactPosition(37780), ExactPosition(37886), strand=1), FeatureLocation(ExactPosition(40371), ExactPosition(40417), strand=1), FeatureLocation(ExactPosition(41738), ExactPosition(41815), strand=1), FeatureLocation(ExactPosition(42800), ExactPosition(46226), strand=1), FeatureLocation(ExactPosition(46628), ExactPosition(46717), strand=1), FeatureLocation(ExactPosition(55085), ExactPosition(55257), strand=1), FeatureLocation(ExactPosition(58261), ExactPosition(58327), strand=1), FeatureLocation(ExactPosition(61049), ExactPosition(61173), strand=1), FeatureLocation(ExactPosition(63139), ExactPosition(63330), strand=1), FeatureLocation(ExactPosition(66422), ExactPosition(66733), strand=1), FeatureLocation(ExactPosition(69965), ExactPosition(70053), strand=1), FeatureLocation(ExactPosition(73709), ExactPosition(73787), strand=1), FeatureLocation(ExactPosition(74287), ExactPosition(74328), strand=1), FeatureLocation(ExactPosition(80525), ExactPosition(80609), strand=1), FeatureLocation(ExactPosition(86543), ExactPosition(86598), strand=1), FeatureLocation(ExactPosition(88466), ExactPosition(88540), strand=1), FeatureLocation(ExactPosition(89957), ExactPosition(90018), strand=1), FeatureLocation(ExactPosition(91858), ExactPosition(91983), strand=1)], 'join'), type='CDS', location_operator='join'),\n",
       " SeqFeature(CompoundLocation([FeatureLocation(ExactPosition(13564), ExactPosition(13644), strand=1), FeatureLocation(ExactPosition(21881), ExactPosition(21935), strand=1), FeatureLocation(ExactPosition(31127), ExactPosition(31205), strand=1), FeatureLocation(ExactPosition(32704), ExactPosition(32793), strand=1), FeatureLocation(ExactPosition(33399), ExactPosition(33539), strand=1), FeatureLocation(ExactPosition(37780), ExactPosition(37886), strand=1), FeatureLocation(ExactPosition(40371), ExactPosition(40417), strand=1), FeatureLocation(ExactPosition(41738), ExactPosition(41815), strand=1), FeatureLocation(ExactPosition(42800), ExactPosition(42917), strand=1), FeatureLocation(ExactPosition(46628), ExactPosition(46717), strand=1), FeatureLocation(ExactPosition(55085), ExactPosition(55257), strand=1), FeatureLocation(ExactPosition(61049), ExactPosition(61173), strand=1), FeatureLocation(ExactPosition(63139), ExactPosition(63330), strand=1), FeatureLocation(ExactPosition(66422), ExactPosition(66733), strand=1), FeatureLocation(ExactPosition(69965), ExactPosition(70053), strand=1), FeatureLocation(ExactPosition(73709), ExactPosition(73787), strand=1), FeatureLocation(ExactPosition(74287), ExactPosition(74328), strand=1), FeatureLocation(ExactPosition(80525), ExactPosition(80609), strand=1), FeatureLocation(ExactPosition(86543), ExactPosition(86598), strand=1), FeatureLocation(ExactPosition(89957), ExactPosition(90018), strand=1), FeatureLocation(ExactPosition(91858), ExactPosition(91877), strand=1)], 'join'), type='CDS', location_operator='join'),\n",
       " SeqFeature(CompoundLocation([FeatureLocation(ExactPosition(31134), ExactPosition(31205), strand=1), FeatureLocation(ExactPosition(32704), ExactPosition(32793), strand=1), FeatureLocation(ExactPosition(33399), ExactPosition(33539), strand=1), FeatureLocation(ExactPosition(37780), ExactPosition(37886), strand=1), FeatureLocation(ExactPosition(40371), ExactPosition(40417), strand=1), FeatureLocation(ExactPosition(41738), ExactPosition(41815), strand=1), FeatureLocation(ExactPosition(42800), ExactPosition(46226), strand=1), FeatureLocation(ExactPosition(46628), ExactPosition(46717), strand=1), FeatureLocation(ExactPosition(55085), ExactPosition(55257), strand=1), FeatureLocation(ExactPosition(61046), ExactPosition(61173), strand=1), FeatureLocation(ExactPosition(63139), ExactPosition(63330), strand=1), FeatureLocation(ExactPosition(66422), ExactPosition(66733), strand=1), FeatureLocation(ExactPosition(69965), ExactPosition(70053), strand=1), FeatureLocation(ExactPosition(73709), ExactPosition(73787), strand=1), FeatureLocation(ExactPosition(74287), ExactPosition(74328), strand=1), FeatureLocation(ExactPosition(80525), ExactPosition(80609), strand=1), FeatureLocation(ExactPosition(86543), ExactPosition(86598), strand=1), FeatureLocation(ExactPosition(88466), ExactPosition(88540), strand=1), FeatureLocation(ExactPosition(89957), ExactPosition(90018), strand=1), FeatureLocation(ExactPosition(91858), ExactPosition(91983), strand=1)], 'join'), type='CDS', location_operator='join'),\n",
       " SeqFeature(FeatureLocation(ExactPosition(57844), ExactPosition(58400), strand=-1), type='gene'),\n",
       " SeqFeature(FeatureLocation(ExactPosition(57844), ExactPosition(58400), strand=-1), type='exon')]"
      ]
     },
     "execution_count": 11,
     "metadata": {},
     "output_type": "execute_result"
    }
   ],
   "source": [
    "record.features"
   ]
  },
  {
   "cell_type": "code",
   "execution_count": 12,
   "metadata": {},
   "outputs": [
    {
     "name": "stdout",
     "output_type": "stream",
     "text": [
      "Type: source\n",
      "Location: [0:105545](+)\n",
      "Type: gene\n",
      "Location: [<0:12078](-)\n",
      "Type: misc_RNA\n",
      "Location: join{[11890:12078](-), [<6390:6453](-)}\n",
      "Type: gene\n",
      "Location: [12177:>93366](+)\n",
      "Type: mRNA\n",
      "Location: join{[12177:12390](+), [13545:13644](+), [21881:21935](+), [31127:31205](+), [32704:32793](+), [33399:33539](+), [37780:37886](+), [40371:40417](+), [41738:41815](+), [42800:46226](+), [46628:46717](+), [55085:55257](+), [61046:61173](+), [63139:63330](+), [66422:66733](+), [69965:70053](+), [73709:73787](+), [74287:74328](+), [80525:80609](+), [86543:86598](+), [88466:88540](+), [89957:90018](+), [91858:93366](+)}\n",
      "Type: mRNA\n",
      "Location: join{[12177:12390](+), [13545:13644](+), [21881:21935](+), [31127:31205](+), [32704:32793](+), [33399:33539](+), [37780:37886](+), [40371:40417](+), [41738:41815](+), [42800:46226](+), [46628:46717](+), [55085:55257](+), [58261:58327](+), [61049:61173](+), [63139:63330](+), [66422:66733](+), [69965:70053](+), [73709:73787](+), [74287:74328](+), [80525:80609](+), [86543:86598](+), [88466:88540](+), [89957:90018](+), [91858:93366](+)}\n",
      "Type: mRNA\n",
      "Location: join{[12209:12384](+), [13545:13644](+), [31127:31205](+), [32704:32793](+), [33399:33539](+), [37780:37886](+), [40371:40417](+), [41738:41815](+), [42800:46226](+), [46628:46717](+), [55085:55257](+), [61046:61173](+), [63139:63330](+), [66422:66733](+), [69965:70053](+), [73709:73787](+), [74287:74328](+), [80525:80609](+), [86543:86598](+), [88466:88540](+), [89957:90018](+), [91858:93366](+)}\n",
      "Type: mRNA\n",
      "Location: join{[12209:12384](+), [13545:13644](+), [21881:21935](+), [31127:31205](+), [32704:32793](+), [33399:33539](+), [37780:37886](+), [40371:40417](+), [41738:41815](+), [42800:42917](+), [46628:46717](+), [55085:55257](+), [61049:61173](+), [63139:63330](+), [66422:66733](+), [69965:70053](+), [73709:73787](+), [74287:74328](+), [80525:80609](+), [86543:86598](+), [89957:90018](+), [91858:93366](+)}\n",
      "Type: misc_RNA\n",
      "Location: join{[12337:12479](+), [13545:13644](+), [21881:21935](+), [31127:31183](+), [32704:32793](+), [33399:33539](+), [37783:37886](+), [40371:40417](+), [41738:41815](+), [42800:46226](+), [46628:46717](+), [55085:55257](+), [61046:61173](+), [63139:63330](+), [66422:66733](+), [69965:70053](+), [73709:73787](+), [74287:74328](+), [80525:80609](+), [86543:86598](+), [88466:88540](+), [89957:90018](+), [91858:>93366](+)}\n",
      "Type: mRNA\n",
      "Location: join{[13545:13644](+), [21881:21935](+), [31127:31205](+), [32704:32793](+), [33399:33539](+), [37780:37886](+), [40371:40417](+), [41738:41815](+), [42800:42917](+), [46628:46717](+), [55085:55257](+), [61049:61173](+), [63139:63330](+), [66422:66733](+), [69965:70053](+), [73709:73787](+), [74287:74328](+), [80525:80609](+), [86543:86598](+), [88466:88540](+), [89957:90018](+), [91858:93366](+)}\n",
      "Type: CDS\n",
      "Location: join{[13564:13644](+), [21881:21935](+), [31127:31205](+), [32704:32793](+), [33399:33539](+), [37780:37886](+), [40371:40417](+), [41738:41815](+), [42800:42917](+), [46628:46717](+), [55085:55257](+), [61049:61173](+), [63139:63330](+), [66422:66733](+), [69965:70053](+), [73709:73787](+), [74287:74328](+), [80525:80609](+), [86543:86598](+), [88466:88540](+), [89957:90018](+), [91858:91983](+)}\n",
      "Type: CDS\n",
      "Location: join{[13564:13644](+), [21881:21935](+), [31127:31205](+), [32704:32793](+), [33399:33539](+), [37780:37886](+), [40371:40417](+), [41738:41815](+), [42800:46226](+), [46628:46717](+), [55085:55257](+), [61046:61173](+), [63139:63330](+), [66422:66733](+), [69965:70053](+), [73709:73787](+), [74287:74328](+), [80525:80609](+), [86543:86598](+), [88466:88540](+), [89957:90018](+), [91858:91983](+)}\n",
      "Type: CDS\n",
      "Location: join{[13564:13644](+), [21881:21935](+), [31127:31205](+), [32704:32793](+), [33399:33539](+), [37780:37886](+), [40371:40417](+), [41738:41815](+), [42800:46226](+), [46628:46717](+), [55085:55257](+), [58261:58327](+), [61049:61173](+), [63139:63330](+), [66422:66733](+), [69965:70053](+), [73709:73787](+), [74287:74328](+), [80525:80609](+), [86543:86598](+), [88466:88540](+), [89957:90018](+), [91858:91983](+)}\n",
      "Type: CDS\n",
      "Location: join{[13564:13644](+), [21881:21935](+), [31127:31205](+), [32704:32793](+), [33399:33539](+), [37780:37886](+), [40371:40417](+), [41738:41815](+), [42800:42917](+), [46628:46717](+), [55085:55257](+), [61049:61173](+), [63139:63330](+), [66422:66733](+), [69965:70053](+), [73709:73787](+), [74287:74328](+), [80525:80609](+), [86543:86598](+), [89957:90018](+), [91858:91877](+)}\n",
      "Type: CDS\n",
      "Location: join{[31134:31205](+), [32704:32793](+), [33399:33539](+), [37780:37886](+), [40371:40417](+), [41738:41815](+), [42800:46226](+), [46628:46717](+), [55085:55257](+), [61046:61173](+), [63139:63330](+), [66422:66733](+), [69965:70053](+), [73709:73787](+), [74287:74328](+), [80525:80609](+), [86543:86598](+), [88466:88540](+), [89957:90018](+), [91858:91983](+)}\n",
      "Type: gene\n",
      "Location: [57844:58400](-)\n",
      "Type: exon\n",
      "Location: [57844:58400](-)\n"
     ]
    }
   ],
   "source": [
    "for feature in record.features:\n",
    "    print(f\"Type: {feature.type}\")\n",
    "    print(f\"Location: {feature.location}\")"
   ]
  },
  {
   "cell_type": "markdown",
   "metadata": {},
   "source": [
    "4.a) A partir da lista de features identifique as sequências codificantes associadas a este registo  e guarde o seu índice numa lista."
   ]
  },
  {
   "cell_type": "code",
   "execution_count": 13,
   "metadata": {},
   "outputs": [
    {
     "name": "stdout",
     "output_type": "stream",
     "text": [
      "join{[13564:13644](+), [21881:21935](+), [31127:31205](+), [32704:32793](+), [33399:33539](+), [37780:37886](+), [40371:40417](+), [41738:41815](+), [42800:42917](+), [46628:46717](+), [55085:55257](+), [61049:61173](+), [63139:63330](+), [66422:66733](+), [69965:70053](+), [73709:73787](+), [74287:74328](+), [80525:80609](+), [86543:86598](+), [88466:88540](+), [89957:90018](+), [91858:91983](+)}\n",
      "join{[13564:13644](+), [21881:21935](+), [31127:31205](+), [32704:32793](+), [33399:33539](+), [37780:37886](+), [40371:40417](+), [41738:41815](+), [42800:46226](+), [46628:46717](+), [55085:55257](+), [61046:61173](+), [63139:63330](+), [66422:66733](+), [69965:70053](+), [73709:73787](+), [74287:74328](+), [80525:80609](+), [86543:86598](+), [88466:88540](+), [89957:90018](+), [91858:91983](+)}\n",
      "join{[13564:13644](+), [21881:21935](+), [31127:31205](+), [32704:32793](+), [33399:33539](+), [37780:37886](+), [40371:40417](+), [41738:41815](+), [42800:46226](+), [46628:46717](+), [55085:55257](+), [58261:58327](+), [61049:61173](+), [63139:63330](+), [66422:66733](+), [69965:70053](+), [73709:73787](+), [74287:74328](+), [80525:80609](+), [86543:86598](+), [88466:88540](+), [89957:90018](+), [91858:91983](+)}\n",
      "join{[13564:13644](+), [21881:21935](+), [31127:31205](+), [32704:32793](+), [33399:33539](+), [37780:37886](+), [40371:40417](+), [41738:41815](+), [42800:42917](+), [46628:46717](+), [55085:55257](+), [61049:61173](+), [63139:63330](+), [66422:66733](+), [69965:70053](+), [73709:73787](+), [74287:74328](+), [80525:80609](+), [86543:86598](+), [89957:90018](+), [91858:91877](+)}\n",
      "join{[31134:31205](+), [32704:32793](+), [33399:33539](+), [37780:37886](+), [40371:40417](+), [41738:41815](+), [42800:46226](+), [46628:46717](+), [55085:55257](+), [61046:61173](+), [63139:63330](+), [66422:66733](+), [69965:70053](+), [73709:73787](+), [74287:74328](+), [80525:80609](+), [86543:86598](+), [88466:88540](+), [89957:90018](+), [91858:91983](+)}\n",
      "ATGGATTTATCTGCTCTTCGCGTTGAAGAAGTACAAAATGTCATTAATGCTATGCAGAAAATCTTAGAGTGTCCCATCTGTCTGGAGTTGATCAAGGAACCTGTCTCCACAAAGTGTGACCACATATTTTGCAAATTTTGCATGCTGAAACTTCTCAACCAGAAGAAAGGGCCTTCACAGTGTCCTTTATGTAAGAATGATATAACCAAAAGGAGCCTACAAGAAAGTACGAGATTTAGTCAACTTGTTGAAGAGCTATTGAAAATCATTTGTGCTTTTCAGCTTGACACAGGTTTGGAGTATGCAAACAGCTATAATTTTGCAAAAAAGGAAAATAACTCTCCTGAACATCTAAAAGATGAAGTTTCTATCATCCAAAGTATGGGCTACAGAAACCGTGCCAAAAGACTTCTACAGAGTGAACCCGAAAATCCTTCCTTGCAGGAAACCAGTCTCAGTGTCCAACTCTCTAACCTTGGAACTGTGAGAACTCTGAGGACAAAGCAGCGGATACAACCTCAAAAGACGTCTGTCTACATTGAATTGGGATCTGATTCTTCTGAAGATACCGTTAATAAGGCAACTTATTGCAGTGTGGGAGATCAAGAATTGTTACAAATCACCCCTCAAGGAACCAGGGATGAAATCAGTTTGGATTCTGCAAAAAAGGCTGCTTGTGAATTTTCTGAGACGGATGTAACAAATACTGAACATCATCAACCCAGTAATAATGATTTGAACACCACTGAGAAGCGTGCAGCTGAGAGGCATCCAGAAAAGTATCAGGGTGAAGCAGCATCTGGGTGTGAGAGTGAAACAAGCGTCTCTGAAGACTGCTCAGGGCTATCCTCTCAGAGTGACATTTTAACCACTCAGCAGAGGGATACCATGCAACATAACCTGATAAAGCTCCAGCAGGAAATGGCTGAACTAGAAGCTGTGTTAGAACAGCATGGGAGCCAGCCTTCTAACAGCTACCCTTCCATCATAAGTGACTCTTCTGCCCTTGAGGACCTGCGAAATCCAGAACAAAGCACATCAGAAAAAGTATTAACTTCACAGAAAAGTAGTGAATACCCTATAAGCCAGAATCCAGAAGGCCTTTCTGCTGACAAGTTTGAGGTGTCTGCAGATAGTTCTACCAGTAAAAATAAAGAACCAGGAGTGGAAAGGTCATCCCCTTCTAAATGCCCATCATTAGATGATAGGTGGTACATGCACAGTTGCTCTGGGAGTCTTCAGAATAGAAACTACCCATCTCAAGAGGAGCTCATTAAGGTTGTTGATGTGGAGGAGCAACAGCTGGAAGAGTCTGGGCCACACGATTTGACGGAAACATCTTACTTGCCAAGGCAAGATCTAGAGGGAACCCCTTACCTGGAATCTGGAATCAGCCTCTTCTCTGATGACCCTGAATCTGATCCTTCTGAAGACAGAGCCCCAGAGTCAGCTCGTGTTGGCAACATACCATCTTCAACCTCTGCATTGAAAGTTCCCCAATTGAAAGTTGCAGAATCTGCCCAGAGTCCAGCTGCTGCTCATACTACTGATACTGCTGGGTATAATGCAATGGAAGAAAGTGTGAGCAGGGAGAAGCCAGAATTGACAGCTTCAACAGAAAGGGTCAACAAAAGAATGTCCATGGTGGTGTCTGGCCTGACCCCAGAAGAATTTATGCTCGTGTACAAGTTTGCCAGAAAACACCACATCACTTTAACTAATCTAATTACTGAAGAGACTACTCATGTTGTTATGAAAACAGATGCTGAGTTTGTGTGTGAACGGACACTGAAATATTTTCTAGGAATTGCGGGAGGAAAATGGGTAGTTAGCTATTTCTGGGTGACCCAGTCTATTAAAGAAAGAAAAATGCTGAATGAGCATGATTTTGAAGTCAGAGGAGATGTGGTCAATGGAAGAAACCACCAAGGTCCAAAGCGAGCAAGAGAATCCCAGGACAGAAAGATCTTCAGGGGGCTAGAAATCTGTTGCTATGGGCCCTTCACCAACATGCCCACAGATCAACTGGAATGGATGGTACAGCTGTGTGGTGCTTCTGTGGTGAAGGAGCTTTCATCATTCACCCTTGGCACAGGTGTCCACCCAATTGTGGTTGTGCAGCCAGATGCCTGGACAGAGGACAATGGCTTCCATGCAATTGGGCAGATGTGTGAGGCACCTGTGGTGACCCGAGAGTGGGTGTTGGACAGTGTAGCACTCTACCAGTGCCAGGAGCTGGACACCTACCTGATACCCCAGATCCCCCACAGCCACTACTGA\n",
      "ATGGATTTATCTGCTCTTCGCGTTGAAGAAGTACAAAATGTCATTAATGCTATGCAGAAAATCTTAGAGTGTCCCATCTGTCTGGAGTTGATCAAGGAACCTGTCTCCACAAAGTGTGACCACATATTTTGCAAATTTTGCATGCTGAAACTTCTCAACCAGAAGAAAGGGCCTTCACAGTGTCCTTTATGTAAGAATGATATAACCAAAAGGAGCCTACAAGAAAGTACGAGATTTAGTCAACTTGTTGAAGAGCTATTGAAAATCATTTGTGCTTTTCAGCTTGACACAGGTTTGGAGTATGCAAACAGCTATAATTTTGCAAAAAAGGAAAATAACTCTCCTGAACATCTAAAAGATGAAGTTTCTATCATCCAAAGTATGGGCTACAGAAACCGTGCCAAAAGACTTCTACAGAGTGAACCCGAAAATCCTTCCTTGCAGGAAACCAGTCTCAGTGTCCAACTCTCTAACCTTGGAACTGTGAGAACTCTGAGGACAAAGCAGCGGATACAACCTCAAAAGACGTCTGTCTACATTGAATTGGGATCTGATTCTTCTGAAGATACCGTTAATAAGGCAACTTATTGCAGTGTGGGAGATCAAGAATTGTTACAAATCACCCCTCAAGGAACCAGGGATGAAATCAGTTTGGATTCTGCAAAAAAGGCTGCTTGTGAATTTTCTGAGACGGATGTAACAAATACTGAACATCATCAACCCAGTAATAATGATTTGAACACCACTGAGAAGCGTGCAGCTGAGAGGCATCCAGAAAAGTATCAGGGTAGTTCTGTTTCAAACTTGCATGTGGAGCCATGTGGCACAAATACTCATGCCAGCTCATTACAGCATGAGAACAGCAGTTTATTACTCACTAAAGACAGAATGAATGTAGAAAAGGCTGAATTCTGTAATAAAAGCAAACAGCCTGGCTTAGCAAGGAGCCAACATAACAGATGGGCTGGAAGTAAGGAAACATGTAATGATAGGCGGACTCCCAGCACAGAAAAAAAGGTAGATCTGAATGCTGATCCCCTGTGTGAGAGAAAAGAATGGAATAAGCAGAAACTGCCATGCTCAGAGAATCCTAGAGATACTGAAGATGTTCCTTGGATAACACTAAATAGCAGCATTCAGAAAGTTAATGAGTGGTTTTCCAGAAGTGATGAACTGTTAGGTTCTGATGACTCACATGATGGGGAGTCTGAATCAAATGCCAAAGTAGCTGATGTATTGGACGTTCTAAATGAGGTAGATGAATATTCTGGTTCTTCAGAGAAAATAGACTTACTGGCCAGTGATCCTCATGAGGCTTTAATATGTAAAAGTGAAAGAGTTCACTCCAAATCAGTAGAGAGTAATATTGAAGACAAAATATTTGGGAAAACCTATCGGAAGAAGGCAAGCCTCCCCAACTTAAGCCATGTAACTGAAAATCTAATTATAGGAGCATTTGTTACTGAGCCACAGATAATACAAGAGCGTCCCCTCACAAATAAATTAAAGCGTAAAAGGAGACCTACATCAGGCCTTCATCCTGAGGATTTTATCAAGAAAGCAGATTTGGCAGTTCAAAAGACTCCTGAAATGATAAATCAGGGAACTAACCAAACGGAGCAGAATGGTCAAGTGATGAATATTACTAATAGTGGTCATGAGAATAAAACAAAAGGTGATTCTATTCAGAATGAGAAAAATCCTAACCCAATAGAATCACTCGAAAAAGAATCTGCTTTCAAAACGAAAGCTGAACCTATAAGCAGCAGTATAAGCAATATGGAACTCGAATTAAATATCCACAATTCAAAAGCACCTAAAAAGAATAGGCTGAGGAGGAAGTCTTCTACCAGGCATATTCATGCGCTTGAACTAGTAGTCAGTAGAAATCTAAGCCCACCTAATTGTACTGAATTGCAAATTGATAGTTGTTCTAGCAGTGAAGAGATAAAGAAAAAAAAGTACAACCAAATGCCAGTCAGGCACAGCAGAAACCTACAACTCATGGAAGGTAAAGAACCTGCAACTGGAGCCAAGAAGAGTAACAAGCCAAATGAACAGACAAGTAAAAGACATGACAGCGATACTTTCCCAGAGCTGAAGTTAACAAATGCACCTGGTTCTTTTACTAAGTGTTCAAATACCAGTGAACTTAAAGAATTTGTCAATCCTAGCCTTCCAAGAGAAGAAAAAGAAGAGAAACTAGAAACAGTTAAAGTGTCTAATAATGCTGAAGACCCCAAAGATCTCATGTTAAGTGGAGAAAGGGTTTTGCAAACTGAAAGATCTGTAGAGAGTAGCAGTATTTCATTGGTACCTGGTACTGATTATGGCACTCAGGAAAGTATCTCGTTACTGGAAGTTAGCACTCTAGGGAAGGCAAAAACAGAACCAAATAAATGTGTGAGTCAGTGTGCAGCATTTGAAAACCCCAAGGGACTAATTCATGGTTGTTCCAAAGATAATAGAAATGACACAGAAGGCTTTAAGTATCCATTGGGACATGAAGTTAACCACAGTCGGGAAACAAGCATAGAAATGGAAGAAAGTGAACTTGATGCTCAGTATTTGCAGAATACATTCAAGGTTTCAAAGCGCCAGTCATTTGCTCCGTTTTCAAATCCAGGAAATGCAGAAGAGGAATGTGCAACATTCTCTGCCCACTCTGGGTCCTTAAAGAAACAAAGTCCAAAAGTCACTTTTGAATGTGAACAAAAGGAAGAAAATCAAGGAAAGAATGAGTCTAATATCAAGCCTGTACAGACAGTTAATATCACTGCAGGCTTTCCTGTGGTTGGTCAGAAAGATAAGCCAGTTGATAATGCCAAATGTAGTATCAAAGGAGGCTCTAGGTTTTGTCTATCATCTCAGTTCAGAGGCAACGAAACTGGACTCATTACTCCAAATAAACATGGACTTTTACAAAACCCATATCGTATACCACCACTTTTTCCCATCAAGTCATTTGTTAAAACTAAATGTAAGAAAAATCTGCTAGAGGAAAACTTTGAGGAACATTCAATGTCACCTGAAAGAGAAATGGGAAATGAGAACATTCCAAGTACAGTGAGCACAATTAGCCGTAATAACATTAGAGAAAATGTTTTTAAAGAAGCCAGCTCAAGCAATATTAATGAAGTAGGTTCCAGTACTAATGAAGTGGGCTCCAGTATTAATGAAATAGGTTCCAGTGATGAAAACATTCAAGCAGAACTAGGTAGAAACAGAGGGCCAAAATTGAATGCTATGCTTAGATTAGGGGTTTTGCAACCTGAGGTCTATAAACAAAGTCTTCCTGGAAGTAATTGTAAGCATCCTGAAATAAAAAAGCAAGAATATGAAGAAGTAGTTCAGACTGTTAATACAGATTTCTCTCCATATCTGATTTCAGATAACTTAGAACAGCCTATGGGAAGTAGTCATGCATCTCAGGTTTGTTCTGAGACACCTGATGACCTGTTAGATGATGGTGAAATAAAGGAAGATACTAGTTTTGCTGAAAATGACATTAAGGAAAGTTCTGCTGTTTTTAGCAAAAGCGTCCAGAAAGGAGAGCTTAGCAGGAGTCCTAGCCCTTTCACCCATACACATTTGGCTCAGGGTTACCGAAGAGGGGCCAAGAAATTAGAGTCCTCAGAAGAGAACTTATCTAGTGAGGATGAAGAGCTTCCCTGCTTCCAACACTTGTTATTTGGTAAAGTAAACAATATACCTTCTCAGTCTACTAGGCATAGCACCGTTGCTACCGAGTGTCTGTCTAAGAACACAGAGGAGAATTTATTATCATTGAAGAATAGCTTAAATGACTGCAGTAACCAGGTAATATTGGCAAAGGCATCTCAGGAACATCACCTTAGTGAGGAAACAAAATGTTCTGCTAGCTTGTTTTCTTCACAGTGCAGTGAATTGGAAGACTTGACTGCAAATACAAACACCCAGGATCCTTTCTTGATTGGTTCTTCCAAACAAATGAGGCATCAGTCTGAAAGCCAGGGAGTTGGTCTGAGTGACAAGGAATTGGTTTCAGATGATGAAGAAAGAGGAACGGGCTTGGAAGAAAATAATCAAGAAGAGCAAAGCATGGATTCAAACTTAGGTGAAGCAGCATCTGGGTGTGAGAGTGAAACAAGCGTCTCTGAAGACTGCTCAGGGCTATCCTCTCAGAGTGACATTTTAACCACTCAGCAGAGGGATACCATGCAACATAACCTGATAAAGCTCCAGCAGGAAATGGCTGAACTAGAAGCTGTGTTAGAACAGCATGGGAGCCAGCCTTCTAACAGCTACCCTTCCATCATAAGTGACTCTTCTGCCCTTGAGGACCTGCGAAATCCAGAACAAAGCACATCAGAAAAAGCAGTATTAACTTCACAGAAAAGTAGTGAATACCCTATAAGCCAGAATCCAGAAGGCCTTTCTGCTGACAAGTTTGAGGTGTCTGCAGATAGTTCTACCAGTAAAAATAAAGAACCAGGAGTGGAAAGGTCATCCCCTTCTAAATGCCCATCATTAGATGATAGGTGGTACATGCACAGTTGCTCTGGGAGTCTTCAGAATAGAAACTACCCATCTCAAGAGGAGCTCATTAAGGTTGTTGATGTGGAGGAGCAACAGCTGGAAGAGTCTGGGCCACACGATTTGACGGAAACATCTTACTTGCCAAGGCAAGATCTAGAGGGAACCCCTTACCTGGAATCTGGAATCAGCCTCTTCTCTGATGACCCTGAATCTGATCCTTCTGAAGACAGAGCCCCAGAGTCAGCTCGTGTTGGCAACATACCATCTTCAACCTCTGCATTGAAAGTTCCCCAATTGAAAGTTGCAGAATCTGCCCAGAGTCCAGCTGCTGCTCATACTACTGATACTGCTGGGTATAATGCAATGGAAGAAAGTGTGAGCAGGGAGAAGCCAGAATTGACAGCTTCAACAGAAAGGGTCAACAAAAGAATGTCCATGGTGGTGTCTGGCCTGACCCCAGAAGAATTTATGCTCGTGTACAAGTTTGCCAGAAAACACCACATCACTTTAACTAATCTAATTACTGAAGAGACTACTCATGTTGTTATGAAAACAGATGCTGAGTTTGTGTGTGAACGGACACTGAAATATTTTCTAGGAATTGCGGGAGGAAAATGGGTAGTTAGCTATTTCTGGGTGACCCAGTCTATTAAAGAAAGAAAAATGCTGAATGAGCATGATTTTGAAGTCAGAGGAGATGTGGTCAATGGAAGAAACCACCAAGGTCCAAAGCGAGCAAGAGAATCCCAGGACAGAAAGATCTTCAGGGGGCTAGAAATCTGTTGCTATGGGCCCTTCACCAACATGCCCACAGATCAACTGGAATGGATGGTACAGCTGTGTGGTGCTTCTGTGGTGAAGGAGCTTTCATCATTCACCCTTGGCACAGGTGTCCACCCAATTGTGGTTGTGCAGCCAGATGCCTGGACAGAGGACAATGGCTTCCATGCAATTGGGCAGATGTGTGAGGCACCTGTGGTGACCCGAGAGTGGGTGTTGGACAGTGTAGCACTCTACCAGTGCCAGGAGCTGGACACCTACCTGATACCCCAGATCCCCCACAGCCACTACTGA\n",
      "ATGGATTTATCTGCTCTTCGCGTTGAAGAAGTACAAAATGTCATTAATGCTATGCAGAAAATCTTAGAGTGTCCCATCTGTCTGGAGTTGATCAAGGAACCTGTCTCCACAAAGTGTGACCACATATTTTGCAAATTTTGCATGCTGAAACTTCTCAACCAGAAGAAAGGGCCTTCACAGTGTCCTTTATGTAAGAATGATATAACCAAAAGGAGCCTACAAGAAAGTACGAGATTTAGTCAACTTGTTGAAGAGCTATTGAAAATCATTTGTGCTTTTCAGCTTGACACAGGTTTGGAGTATGCAAACAGCTATAATTTTGCAAAAAAGGAAAATAACTCTCCTGAACATCTAAAAGATGAAGTTTCTATCATCCAAAGTATGGGCTACAGAAACCGTGCCAAAAGACTTCTACAGAGTGAACCCGAAAATCCTTCCTTGCAGGAAACCAGTCTCAGTGTCCAACTCTCTAACCTTGGAACTGTGAGAACTCTGAGGACAAAGCAGCGGATACAACCTCAAAAGACGTCTGTCTACATTGAATTGGGATCTGATTCTTCTGAAGATACCGTTAATAAGGCAACTTATTGCAGTGTGGGAGATCAAGAATTGTTACAAATCACCCCTCAAGGAACCAGGGATGAAATCAGTTTGGATTCTGCAAAAAAGGCTGCTTGTGAATTTTCTGAGACGGATGTAACAAATACTGAACATCATCAACCCAGTAATAATGATTTGAACACCACTGAGAAGCGTGCAGCTGAGAGGCATCCAGAAAAGTATCAGGGTAGTTCTGTTTCAAACTTGCATGTGGAGCCATGTGGCACAAATACTCATGCCAGCTCATTACAGCATGAGAACAGCAGTTTATTACTCACTAAAGACAGAATGAATGTAGAAAAGGCTGAATTCTGTAATAAAAGCAAACAGCCTGGCTTAGCAAGGAGCCAACATAACAGATGGGCTGGAAGTAAGGAAACATGTAATGATAGGCGGACTCCCAGCACAGAAAAAAAGGTAGATCTGAATGCTGATCCCCTGTGTGAGAGAAAAGAATGGAATAAGCAGAAACTGCCATGCTCAGAGAATCCTAGAGATACTGAAGATGTTCCTTGGATAACACTAAATAGCAGCATTCAGAAAGTTAATGAGTGGTTTTCCAGAAGTGATGAACTGTTAGGTTCTGATGACTCACATGATGGGGAGTCTGAATCAAATGCCAAAGTAGCTGATGTATTGGACGTTCTAAATGAGGTAGATGAATATTCTGGTTCTTCAGAGAAAATAGACTTACTGGCCAGTGATCCTCATGAGGCTTTAATATGTAAAAGTGAAAGAGTTCACTCCAAATCAGTAGAGAGTAATATTGAAGACAAAATATTTGGGAAAACCTATCGGAAGAAGGCAAGCCTCCCCAACTTAAGCCATGTAACTGAAAATCTAATTATAGGAGCATTTGTTACTGAGCCACAGATAATACAAGAGCGTCCCCTCACAAATAAATTAAAGCGTAAAAGGAGACCTACATCAGGCCTTCATCCTGAGGATTTTATCAAGAAAGCAGATTTGGCAGTTCAAAAGACTCCTGAAATGATAAATCAGGGAACTAACCAAACGGAGCAGAATGGTCAAGTGATGAATATTACTAATAGTGGTCATGAGAATAAAACAAAAGGTGATTCTATTCAGAATGAGAAAAATCCTAACCCAATAGAATCACTCGAAAAAGAATCTGCTTTCAAAACGAAAGCTGAACCTATAAGCAGCAGTATAAGCAATATGGAACTCGAATTAAATATCCACAATTCAAAAGCACCTAAAAAGAATAGGCTGAGGAGGAAGTCTTCTACCAGGCATATTCATGCGCTTGAACTAGTAGTCAGTAGAAATCTAAGCCCACCTAATTGTACTGAATTGCAAATTGATAGTTGTTCTAGCAGTGAAGAGATAAAGAAAAAAAAGTACAACCAAATGCCAGTCAGGCACAGCAGAAACCTACAACTCATGGAAGGTAAAGAACCTGCAACTGGAGCCAAGAAGAGTAACAAGCCAAATGAACAGACAAGTAAAAGACATGACAGCGATACTTTCCCAGAGCTGAAGTTAACAAATGCACCTGGTTCTTTTACTAAGTGTTCAAATACCAGTGAACTTAAAGAATTTGTCAATCCTAGCCTTCCAAGAGAAGAAAAAGAAGAGAAACTAGAAACAGTTAAAGTGTCTAATAATGCTGAAGACCCCAAAGATCTCATGTTAAGTGGAGAAAGGGTTTTGCAAACTGAAAGATCTGTAGAGAGTAGCAGTATTTCATTGGTACCTGGTACTGATTATGGCACTCAGGAAAGTATCTCGTTACTGGAAGTTAGCACTCTAGGGAAGGCAAAAACAGAACCAAATAAATGTGTGAGTCAGTGTGCAGCATTTGAAAACCCCAAGGGACTAATTCATGGTTGTTCCAAAGATAATAGAAATGACACAGAAGGCTTTAAGTATCCATTGGGACATGAAGTTAACCACAGTCGGGAAACAAGCATAGAAATGGAAGAAAGTGAACTTGATGCTCAGTATTTGCAGAATACATTCAAGGTTTCAAAGCGCCAGTCATTTGCTCCGTTTTCAAATCCAGGAAATGCAGAAGAGGAATGTGCAACATTCTCTGCCCACTCTGGGTCCTTAAAGAAACAAAGTCCAAAAGTCACTTTTGAATGTGAACAAAAGGAAGAAAATCAAGGAAAGAATGAGTCTAATATCAAGCCTGTACAGACAGTTAATATCACTGCAGGCTTTCCTGTGGTTGGTCAGAAAGATAAGCCAGTTGATAATGCCAAATGTAGTATCAAAGGAGGCTCTAGGTTTTGTCTATCATCTCAGTTCAGAGGCAACGAAACTGGACTCATTACTCCAAATAAACATGGACTTTTACAAAACCCATATCGTATACCACCACTTTTTCCCATCAAGTCATTTGTTAAAACTAAATGTAAGAAAAATCTGCTAGAGGAAAACTTTGAGGAACATTCAATGTCACCTGAAAGAGAAATGGGAAATGAGAACATTCCAAGTACAGTGAGCACAATTAGCCGTAATAACATTAGAGAAAATGTTTTTAAAGAAGCCAGCTCAAGCAATATTAATGAAGTAGGTTCCAGTACTAATGAAGTGGGCTCCAGTATTAATGAAATAGGTTCCAGTGATGAAAACATTCAAGCAGAACTAGGTAGAAACAGAGGGCCAAAATTGAATGCTATGCTTAGATTAGGGGTTTTGCAACCTGAGGTCTATAAACAAAGTCTTCCTGGAAGTAATTGTAAGCATCCTGAAATAAAAAAGCAAGAATATGAAGAAGTAGTTCAGACTGTTAATACAGATTTCTCTCCATATCTGATTTCAGATAACTTAGAACAGCCTATGGGAAGTAGTCATGCATCTCAGGTTTGTTCTGAGACACCTGATGACCTGTTAGATGATGGTGAAATAAAGGAAGATACTAGTTTTGCTGAAAATGACATTAAGGAAAGTTCTGCTGTTTTTAGCAAAAGCGTCCAGAAAGGAGAGCTTAGCAGGAGTCCTAGCCCTTTCACCCATACACATTTGGCTCAGGGTTACCGAAGAGGGGCCAAGAAATTAGAGTCCTCAGAAGAGAACTTATCTAGTGAGGATGAAGAGCTTCCCTGCTTCCAACACTTGTTATTTGGTAAAGTAAACAATATACCTTCTCAGTCTACTAGGCATAGCACCGTTGCTACCGAGTGTCTGTCTAAGAACACAGAGGAGAATTTATTATCATTGAAGAATAGCTTAAATGACTGCAGTAACCAGGTAATATTGGCAAAGGCATCTCAGGAACATCACCTTAGTGAGGAAACAAAATGTTCTGCTAGCTTGTTTTCTTCACAGTGCAGTGAATTGGAAGACTTGACTGCAAATACAAACACCCAGGATCCTTTCTTGATTGGTTCTTCCAAACAAATGAGGCATCAGTCTGAAAGCCAGGGAGTTGGTCTGAGTGACAAGGAATTGGTTTCAGATGATGAAGAAAGAGGAACGGGCTTGGAAGAAAATAATCAAGAAGAGCAAAGCATGGATTCAAACTTAGGTGAAGCAGCATCTGGGTGTGAGAGTGAAACAAGCGTCTCTGAAGACTGCTCAGGGCTATCCTCTCAGAGTGACATTTTAACCACTCAGCAGAGGGATACCATGCAACATAACCTGATAAAGCTCCAGCAGGAAATGGCTGAACTAGAAGCTGTGTTAGAACAGCATGGGAGCCAGCCTTCTAACAGCTACCCTTCCATCATAAGTGACTCTTCTGCCCTTGAGGACCTGCGAAATCCAGAACAAAGCACATCAGAAAAAGATTCGCATATACATGGCCAAAGGAACAACTCCATGTTTTCTAAAAGGCCTAGAGAACATATATCAGTATTAACTTCACAGAAAAGTAGTGAATACCCTATAAGCCAGAATCCAGAAGGCCTTTCTGCTGACAAGTTTGAGGTGTCTGCAGATAGTTCTACCAGTAAAAATAAAGAACCAGGAGTGGAAAGGTCATCCCCTTCTAAATGCCCATCATTAGATGATAGGTGGTACATGCACAGTTGCTCTGGGAGTCTTCAGAATAGAAACTACCCATCTCAAGAGGAGCTCATTAAGGTTGTTGATGTGGAGGAGCAACAGCTGGAAGAGTCTGGGCCACACGATTTGACGGAAACATCTTACTTGCCAAGGCAAGATCTAGAGGGAACCCCTTACCTGGAATCTGGAATCAGCCTCTTCTCTGATGACCCTGAATCTGATCCTTCTGAAGACAGAGCCCCAGAGTCAGCTCGTGTTGGCAACATACCATCTTCAACCTCTGCATTGAAAGTTCCCCAATTGAAAGTTGCAGAATCTGCCCAGAGTCCAGCTGCTGCTCATACTACTGATACTGCTGGGTATAATGCAATGGAAGAAAGTGTGAGCAGGGAGAAGCCAGAATTGACAGCTTCAACAGAAAGGGTCAACAAAAGAATGTCCATGGTGGTGTCTGGCCTGACCCCAGAAGAATTTATGCTCGTGTACAAGTTTGCCAGAAAACACCACATCACTTTAACTAATCTAATTACTGAAGAGACTACTCATGTTGTTATGAAAACAGATGCTGAGTTTGTGTGTGAACGGACACTGAAATATTTTCTAGGAATTGCGGGAGGAAAATGGGTAGTTAGCTATTTCTGGGTGACCCAGTCTATTAAAGAAAGAAAAATGCTGAATGAGCATGATTTTGAAGTCAGAGGAGATGTGGTCAATGGAAGAAACCACCAAGGTCCAAAGCGAGCAAGAGAATCCCAGGACAGAAAGATCTTCAGGGGGCTAGAAATCTGTTGCTATGGGCCCTTCACCAACATGCCCACAGATCAACTGGAATGGATGGTACAGCTGTGTGGTGCTTCTGTGGTGAAGGAGCTTTCATCATTCACCCTTGGCACAGGTGTCCACCCAATTGTGGTTGTGCAGCCAGATGCCTGGACAGAGGACAATGGCTTCCATGCAATTGGGCAGATGTGTGAGGCACCTGTGGTGACCCGAGAGTGGGTGTTGGACAGTGTAGCACTCTACCAGTGCCAGGAGCTGGACACCTACCTGATACCCCAGATCCCCCACAGCCACTACTGA\n",
      "ATGGATTTATCTGCTCTTCGCGTTGAAGAAGTACAAAATGTCATTAATGCTATGCAGAAAATCTTAGAGTGTCCCATCTGTCTGGAGTTGATCAAGGAACCTGTCTCCACAAAGTGTGACCACATATTTTGCAAATTTTGCATGCTGAAACTTCTCAACCAGAAGAAAGGGCCTTCACAGTGTCCTTTATGTAAGAATGATATAACCAAAAGGAGCCTACAAGAAAGTACGAGATTTAGTCAACTTGTTGAAGAGCTATTGAAAATCATTTGTGCTTTTCAGCTTGACACAGGTTTGGAGTATGCAAACAGCTATAATTTTGCAAAAAAGGAAAATAACTCTCCTGAACATCTAAAAGATGAAGTTTCTATCATCCAAAGTATGGGCTACAGAAACCGTGCCAAAAGACTTCTACAGAGTGAACCCGAAAATCCTTCCTTGCAGGAAACCAGTCTCAGTGTCCAACTCTCTAACCTTGGAACTGTGAGAACTCTGAGGACAAAGCAGCGGATACAACCTCAAAAGACGTCTGTCTACATTGAATTGGGATCTGATTCTTCTGAAGATACCGTTAATAAGGCAACTTATTGCAGTGTGGGAGATCAAGAATTGTTACAAATCACCCCTCAAGGAACCAGGGATGAAATCAGTTTGGATTCTGCAAAAAAGGCTGCTTGTGAATTTTCTGAGACGGATGTAACAAATACTGAACATCATCAACCCAGTAATAATGATTTGAACACCACTGAGAAGCGTGCAGCTGAGAGGCATCCAGAAAAGTATCAGGGTGAAGCAGCATCTGGGTGTGAGAGTGAAACAAGCGTCTCTGAAGACTGCTCAGGGCTATCCTCTCAGAGTGACATTTTAACCACTCAGCAGAGGGATACCATGCAACATAACCTGATAAAGCTCCAGCAGGAAATGGCTGAACTAGAAGCTGTGTTAGAACAGCATGGGAGCCAGCCTTCTAACAGCTACCCTTCCATCATAAGTGACTCTTCTGCCCTTGAGGACCTGCGAAATCCAGAACAAAGCACATCAGAAAAAGTATTAACTTCACAGAAAAGTAGTGAATACCCTATAAGCCAGAATCCAGAAGGCCTTTCTGCTGACAAGTTTGAGGTGTCTGCAGATAGTTCTACCAGTAAAAATAAAGAACCAGGAGTGGAAAGGTCATCCCCTTCTAAATGCCCATCATTAGATGATAGGTGGTACATGCACAGTTGCTCTGGGAGTCTTCAGAATAGAAACTACCCATCTCAAGAGGAGCTCATTAAGGTTGTTGATGTGGAGGAGCAACAGCTGGAAGAGTCTGGGCCACACGATTTGACGGAAACATCTTACTTGCCAAGGCAAGATCTAGAGGGAACCCCTTACCTGGAATCTGGAATCAGCCTCTTCTCTGATGACCCTGAATCTGATCCTTCTGAAGACAGAGCCCCAGAGTCAGCTCGTGTTGGCAACATACCATCTTCAACCTCTGCATTGAAAGTTCCCCAATTGAAAGTTGCAGAATCTGCCCAGAGTCCAGCTGCTGCTCATACTACTGATACTGCTGGGTATAATGCAATGGAAGAAAGTGTGAGCAGGGAGAAGCCAGAATTGACAGCTTCAACAGAAAGGGTCAACAAAAGAATGTCCATGGTGGTGTCTGGCCTGACCCCAGAAGAATTTATGCTCGTGTACAAGTTTGCCAGAAAACACCACATCACTTTAACTAATCTAATTACTGAAGAGACTACTCATGTTGTTATGAAAACAGATGCTGAGTTTGTGTGTGAACGGACACTGAAATATTTTCTAGGAATTGCGGGAGGAAAATGGGTAGTTAGCTATTTCTGGGTGACCCAGTCTATTAAAGAAAGAAAAATGCTGAATGAGCATGATTTTGAAGTCAGAGGAGATGTGGTCAATGGAAGAAACCACCAAGGTCCAAAGCGAGCAAGAGAATCCCAGGACAGAAAGATCTTCAGGGGGCTAGAAATCTGTTGCTATGGGCCCTTCACCAACATGCCCACAGGGTGTCCACCCAATTGTGGTTGTGCAGCCAGATGCCTGGACAGAGGACAATGGCTTCCATGCAATTGGGCAGATGTGTGA\n",
      "ATGCTGAAACTTCTCAACCAGAAGAAAGGGCCTTCACAGTGTCCTTTATGTAAGAATGATATAACCAAAAGGAGCCTACAAGAAAGTACGAGATTTAGTCAACTTGTTGAAGAGCTATTGAAAATCATTTGTGCTTTTCAGCTTGACACAGGTTTGGAGTATGCAAACAGCTATAATTTTGCAAAAAAGGAAAATAACTCTCCTGAACATCTAAAAGATGAAGTTTCTATCATCCAAAGTATGGGCTACAGAAACCGTGCCAAAAGACTTCTACAGAGTGAACCCGAAAATCCTTCCTTGCAGGAAACCAGTCTCAGTGTCCAACTCTCTAACCTTGGAACTGTGAGAACTCTGAGGACAAAGCAGCGGATACAACCTCAAAAGACGTCTGTCTACATTGAATTGGGATCTGATTCTTCTGAAGATACCGTTAATAAGGCAACTTATTGCAGTGTGGGAGATCAAGAATTGTTACAAATCACCCCTCAAGGAACCAGGGATGAAATCAGTTTGGATTCTGCAAAAAAGGCTGCTTGTGAATTTTCTGAGACGGATGTAACAAATACTGAACATCATCAACCCAGTAATAATGATTTGAACACCACTGAGAAGCGTGCAGCTGAGAGGCATCCAGAAAAGTATCAGGGTAGTTCTGTTTCAAACTTGCATGTGGAGCCATGTGGCACAAATACTCATGCCAGCTCATTACAGCATGAGAACAGCAGTTTATTACTCACTAAAGACAGAATGAATGTAGAAAAGGCTGAATTCTGTAATAAAAGCAAACAGCCTGGCTTAGCAAGGAGCCAACATAACAGATGGGCTGGAAGTAAGGAAACATGTAATGATAGGCGGACTCCCAGCACAGAAAAAAAGGTAGATCTGAATGCTGATCCCCTGTGTGAGAGAAAAGAATGGAATAAGCAGAAACTGCCATGCTCAGAGAATCCTAGAGATACTGAAGATGTTCCTTGGATAACACTAAATAGCAGCATTCAGAAAGTTAATGAGTGGTTTTCCAGAAGTGATGAACTGTTAGGTTCTGATGACTCACATGATGGGGAGTCTGAATCAAATGCCAAAGTAGCTGATGTATTGGACGTTCTAAATGAGGTAGATGAATATTCTGGTTCTTCAGAGAAAATAGACTTACTGGCCAGTGATCCTCATGAGGCTTTAATATGTAAAAGTGAAAGAGTTCACTCCAAATCAGTAGAGAGTAATATTGAAGACAAAATATTTGGGAAAACCTATCGGAAGAAGGCAAGCCTCCCCAACTTAAGCCATGTAACTGAAAATCTAATTATAGGAGCATTTGTTACTGAGCCACAGATAATACAAGAGCGTCCCCTCACAAATAAATTAAAGCGTAAAAGGAGACCTACATCAGGCCTTCATCCTGAGGATTTTATCAAGAAAGCAGATTTGGCAGTTCAAAAGACTCCTGAAATGATAAATCAGGGAACTAACCAAACGGAGCAGAATGGTCAAGTGATGAATATTACTAATAGTGGTCATGAGAATAAAACAAAAGGTGATTCTATTCAGAATGAGAAAAATCCTAACCCAATAGAATCACTCGAAAAAGAATCTGCTTTCAAAACGAAAGCTGAACCTATAAGCAGCAGTATAAGCAATATGGAACTCGAATTAAATATCCACAATTCAAAAGCACCTAAAAAGAATAGGCTGAGGAGGAAGTCTTCTACCAGGCATATTCATGCGCTTGAACTAGTAGTCAGTAGAAATCTAAGCCCACCTAATTGTACTGAATTGCAAATTGATAGTTGTTCTAGCAGTGAAGAGATAAAGAAAAAAAAGTACAACCAAATGCCAGTCAGGCACAGCAGAAACCTACAACTCATGGAAGGTAAAGAACCTGCAACTGGAGCCAAGAAGAGTAACAAGCCAAATGAACAGACAAGTAAAAGACATGACAGCGATACTTTCCCAGAGCTGAAGTTAACAAATGCACCTGGTTCTTTTACTAAGTGTTCAAATACCAGTGAACTTAAAGAATTTGTCAATCCTAGCCTTCCAAGAGAAGAAAAAGAAGAGAAACTAGAAACAGTTAAAGTGTCTAATAATGCTGAAGACCCCAAAGATCTCATGTTAAGTGGAGAAAGGGTTTTGCAAACTGAAAGATCTGTAGAGAGTAGCAGTATTTCATTGGTACCTGGTACTGATTATGGCACTCAGGAAAGTATCTCGTTACTGGAAGTTAGCACTCTAGGGAAGGCAAAAACAGAACCAAATAAATGTGTGAGTCAGTGTGCAGCATTTGAAAACCCCAAGGGACTAATTCATGGTTGTTCCAAAGATAATAGAAATGACACAGAAGGCTTTAAGTATCCATTGGGACATGAAGTTAACCACAGTCGGGAAACAAGCATAGAAATGGAAGAAAGTGAACTTGATGCTCAGTATTTGCAGAATACATTCAAGGTTTCAAAGCGCCAGTCATTTGCTCCGTTTTCAAATCCAGGAAATGCAGAAGAGGAATGTGCAACATTCTCTGCCCACTCTGGGTCCTTAAAGAAACAAAGTCCAAAAGTCACTTTTGAATGTGAACAAAAGGAAGAAAATCAAGGAAAGAATGAGTCTAATATCAAGCCTGTACAGACAGTTAATATCACTGCAGGCTTTCCTGTGGTTGGTCAGAAAGATAAGCCAGTTGATAATGCCAAATGTAGTATCAAAGGAGGCTCTAGGTTTTGTCTATCATCTCAGTTCAGAGGCAACGAAACTGGACTCATTACTCCAAATAAACATGGACTTTTACAAAACCCATATCGTATACCACCACTTTTTCCCATCAAGTCATTTGTTAAAACTAAATGTAAGAAAAATCTGCTAGAGGAAAACTTTGAGGAACATTCAATGTCACCTGAAAGAGAAATGGGAAATGAGAACATTCCAAGTACAGTGAGCACAATTAGCCGTAATAACATTAGAGAAAATGTTTTTAAAGAAGCCAGCTCAAGCAATATTAATGAAGTAGGTTCCAGTACTAATGAAGTGGGCTCCAGTATTAATGAAATAGGTTCCAGTGATGAAAACATTCAAGCAGAACTAGGTAGAAACAGAGGGCCAAAATTGAATGCTATGCTTAGATTAGGGGTTTTGCAACCTGAGGTCTATAAACAAAGTCTTCCTGGAAGTAATTGTAAGCATCCTGAAATAAAAAAGCAAGAATATGAAGAAGTAGTTCAGACTGTTAATACAGATTTCTCTCCATATCTGATTTCAGATAACTTAGAACAGCCTATGGGAAGTAGTCATGCATCTCAGGTTTGTTCTGAGACACCTGATGACCTGTTAGATGATGGTGAAATAAAGGAAGATACTAGTTTTGCTGAAAATGACATTAAGGAAAGTTCTGCTGTTTTTAGCAAAAGCGTCCAGAAAGGAGAGCTTAGCAGGAGTCCTAGCCCTTTCACCCATACACATTTGGCTCAGGGTTACCGAAGAGGGGCCAAGAAATTAGAGTCCTCAGAAGAGAACTTATCTAGTGAGGATGAAGAGCTTCCCTGCTTCCAACACTTGTTATTTGGTAAAGTAAACAATATACCTTCTCAGTCTACTAGGCATAGCACCGTTGCTACCGAGTGTCTGTCTAAGAACACAGAGGAGAATTTATTATCATTGAAGAATAGCTTAAATGACTGCAGTAACCAGGTAATATTGGCAAAGGCATCTCAGGAACATCACCTTAGTGAGGAAACAAAATGTTCTGCTAGCTTGTTTTCTTCACAGTGCAGTGAATTGGAAGACTTGACTGCAAATACAAACACCCAGGATCCTTTCTTGATTGGTTCTTCCAAACAAATGAGGCATCAGTCTGAAAGCCAGGGAGTTGGTCTGAGTGACAAGGAATTGGTTTCAGATGATGAAGAAAGAGGAACGGGCTTGGAAGAAAATAATCAAGAAGAGCAAAGCATGGATTCAAACTTAGGTGAAGCAGCATCTGGGTGTGAGAGTGAAACAAGCGTCTCTGAAGACTGCTCAGGGCTATCCTCTCAGAGTGACATTTTAACCACTCAGCAGAGGGATACCATGCAACATAACCTGATAAAGCTCCAGCAGGAAATGGCTGAACTAGAAGCTGTGTTAGAACAGCATGGGAGCCAGCCTTCTAACAGCTACCCTTCCATCATAAGTGACTCTTCTGCCCTTGAGGACCTGCGAAATCCAGAACAAAGCACATCAGAAAAAGCAGTATTAACTTCACAGAAAAGTAGTGAATACCCTATAAGCCAGAATCCAGAAGGCCTTTCTGCTGACAAGTTTGAGGTGTCTGCAGATAGTTCTACCAGTAAAAATAAAGAACCAGGAGTGGAAAGGTCATCCCCTTCTAAATGCCCATCATTAGATGATAGGTGGTACATGCACAGTTGCTCTGGGAGTCTTCAGAATAGAAACTACCCATCTCAAGAGGAGCTCATTAAGGTTGTTGATGTGGAGGAGCAACAGCTGGAAGAGTCTGGGCCACACGATTTGACGGAAACATCTTACTTGCCAAGGCAAGATCTAGAGGGAACCCCTTACCTGGAATCTGGAATCAGCCTCTTCTCTGATGACCCTGAATCTGATCCTTCTGAAGACAGAGCCCCAGAGTCAGCTCGTGTTGGCAACATACCATCTTCAACCTCTGCATTGAAAGTTCCCCAATTGAAAGTTGCAGAATCTGCCCAGAGTCCAGCTGCTGCTCATACTACTGATACTGCTGGGTATAATGCAATGGAAGAAAGTGTGAGCAGGGAGAAGCCAGAATTGACAGCTTCAACAGAAAGGGTCAACAAAAGAATGTCCATGGTGGTGTCTGGCCTGACCCCAGAAGAATTTATGCTCGTGTACAAGTTTGCCAGAAAACACCACATCACTTTAACTAATCTAATTACTGAAGAGACTACTCATGTTGTTATGAAAACAGATGCTGAGTTTGTGTGTGAACGGACACTGAAATATTTTCTAGGAATTGCGGGAGGAAAATGGGTAGTTAGCTATTTCTGGGTGACCCAGTCTATTAAAGAAAGAAAAATGCTGAATGAGCATGATTTTGAAGTCAGAGGAGATGTGGTCAATGGAAGAAACCACCAAGGTCCAAAGCGAGCAAGAGAATCCCAGGACAGAAAGATCTTCAGGGGGCTAGAAATCTGTTGCTATGGGCCCTTCACCAACATGCCCACAGATCAACTGGAATGGATGGTACAGCTGTGTGGTGCTTCTGTGGTGAAGGAGCTTTCATCATTCACCCTTGGCACAGGTGTCCACCCAATTGTGGTTGTGCAGCCAGATGCCTGGACAGAGGACAATGGCTTCCATGCAATTGGGCAGATGTGTGAGGCACCTGTGGTGACCCGAGAGTGGGTGTTGGACAGTGTAGCACTCTACCAGTGCCAGGAGCTGGACACCTACCTGATACCCCAGATCCCCCACAGCCACTACTGA\n"
     ]
    }
   ],
   "source": [
    "featcds = [ ]\n",
    "for i in range(len(record.features)):\n",
    "    if record.features[i].type == \"CDS\":\n",
    "        featcds.append(i)\n",
    "for k in featcds:\n",
    "    print (record.features[k].location)\n",
    "for k in featcds:\n",
    "    print (record.features[k].extract(record.seq))"
   ]
  },
  {
   "cell_type": "markdown",
   "metadata": {},
   "source": [
    "4.b) Através dos “qualifiers” associados, determine qual a proteína codificada e qual o seu significado biológico."
   ]
  },
  {
   "cell_type": "code",
   "execution_count": 21,
   "metadata": {},
   "outputs": [
    {
     "data": {
      "text/plain": [
       "OrderedDict([('gene', ['RPL21P4']),\n",
       "             ('gene_synonym', ['RPL21_58_1548']),\n",
       "             ('note',\n",
       "              ['ribosomal protein L21 pseudogene 4; Derived by automated computational analysis using gene prediction method: Curated Genomic.']),\n",
       "             ('pseudo', ['']),\n",
       "             ('db_xref', ['GeneID:140660', 'HGNC:HGNC:17959'])])"
      ]
     },
     "execution_count": 21,
     "metadata": {},
     "output_type": "execute_result"
    }
   ],
   "source": [
    "qualifiers = record.features[k].qualifiers"
   ]
  },
  {
   "cell_type": "code",
   "execution_count": 15,
   "metadata": {},
   "outputs": [
    {
     "name": "stdout",
     "output_type": "stream",
     "text": [
      "Proteína Codificada: breast cancer type 1 susceptibility protein isoform 3\n"
     ]
    }
   ],
   "source": [
    "if \"product\" in qualifiers:\n",
    "    protein_name = qualifiers[\"product\"][0]\n",
    "    print(\"Proteína Codificada:\", protein_name)"
   ]
  },
  {
   "cell_type": "code",
   "execution_count": 16,
   "metadata": {},
   "outputs": [
    {
     "name": "stdout",
     "output_type": "stream",
     "text": [
      "Significado Biológico: isoform 3 is encoded by transcript variant 3; Derived by automated computational analysis using gene prediction method: BestRefSeq.\n"
     ]
    }
   ],
   "source": [
    "if \"function\" in qualifiers:\n",
    "    function_info = qualifiers[\"function\"][0]\n",
    "    print(\"Significado Biológico:\", function_info)\n",
    "elif \"note\" in qualifiers:\n",
    "    note_info = qualifiers[\"note\"][0]\n",
    "    print(\"Significado Biológico:\", note_info)"
   ]
  },
  {
   "cell_type": "markdown",
   "metadata": {},
   "source": [
    "5. Verifique qual o número de genes anotados no registo (feature tipo “gene”). Quais estão anotados em cada uma das cadeias ?"
   ]
  },
  {
   "cell_type": "code",
   "execution_count": 17,
   "metadata": {},
   "outputs": [
    {
     "name": "stdout",
     "output_type": "stream",
     "text": [
      "Number of genes in feature type 'gene': 3\n"
     ]
    }
   ],
   "source": [
    "featgene = [ ]\n",
    "for i in range(len(record.features)):\n",
    "    if record.features[i].type == \"gene\":\n",
    "        featgene.append(i)\n",
    "print(\"Number of genes in feature type 'gene':\", len(featgene))"
   ]
  },
  {
   "cell_type": "code",
   "execution_count": 18,
   "metadata": {},
   "outputs": [
    {
     "name": "stdout",
     "output_type": "stream",
     "text": [
      "[<0:12078](-)\n",
      "[12177:>93366](+)\n",
      "[57844:58400](-)\n"
     ]
    }
   ],
   "source": [
    "for k in featgene:\n",
    "    print (record.features[k].location)"
   ]
  },
  {
   "cell_type": "markdown",
   "metadata": {},
   "source": [
    "6. Converta este ficheiro para formato Fasta."
   ]
  },
  {
   "cell_type": "code",
   "execution_count": 19,
   "metadata": {},
   "outputs": [
    {
     "name": "stdout",
     "output_type": "stream",
     "text": [
      "Convertidos 1 registos\n"
     ]
    }
   ],
   "source": [
    "records = SeqIO.parse(\"BRCA.gb\", \"genbank\")\n",
    "count = SeqIO.write(records, \"BRCA.fasta\", \"fasta\")\n",
    "print (\"Convertidos %i registos\" % count )"
   ]
  },
  {
   "cell_type": "code",
   "execution_count": 20,
   "metadata": {},
   "outputs": [
    {
     "name": "stdout",
     "output_type": "stream",
     "text": [
      "Convertidos 1 registos\n"
     ]
    }
   ],
   "source": [
    "count = SeqIO.convert(\"BRCA.gb\", \"genbank\", \"BRCA.fasta\", \"fasta\")\n",
    "print (\"Convertidos %i registos\" % count )"
   ]
  }
 ],
 "metadata": {
  "kernelspec": {
   "display_name": "Python 3 (ipykernel)",
   "language": "python",
   "name": "python3"
  },
  "language_info": {
   "codemirror_mode": {
    "name": "ipython",
    "version": 3
   },
   "file_extension": ".py",
   "mimetype": "text/x-python",
   "name": "python",
   "nbconvert_exporter": "python",
   "pygments_lexer": "ipython3",
   "version": "3.9.13"
  }
 },
 "nbformat": 4,
 "nbformat_minor": 4
}
