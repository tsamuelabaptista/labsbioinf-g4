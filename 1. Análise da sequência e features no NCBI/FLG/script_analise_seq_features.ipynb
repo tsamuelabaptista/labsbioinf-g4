{
 "cells": [
  {
   "cell_type": "code",
   "execution_count": 2,
   "metadata": {},
   "outputs": [],
   "source": [
    "from Bio import Entrez\n",
    "from Bio import SeqIO"
   ]
  },
  {
   "cell_type": "code",
   "execution_count": 13,
   "metadata": {},
   "outputs": [
    {
     "name": "stdout",
     "output_type": "stream",
     "text": [
      "AH002947.2 Homo sapiens profilaggrin (FLG) gene, complete cds\n",
      "Sequence length:  4929\n",
      "11  features\n",
      "from:  Homo sapiens (human)\n"
     ]
    }
   ],
   "source": [
    "Entrez.email = \"...@gmail.com\" \n",
    "handle = Entrez.efetch(db=\"nucleotide\", rettype=\"gb\", retmode=\"text\", id=\"1049011034\") \n",
    "for seq_record in SeqIO.parse(handle, \"gb\"):\n",
    "    print (seq_record.id, seq_record.description)\n",
    "    print (\"Sequence length: \", len(seq_record)) \n",
    "    print (len(seq_record.features), \" features\" ) \n",
    "    print (\"from: \", seq_record.annotations[\"source\"] )\n",
    "handle.close() "
   ]
  },
  {
   "cell_type": "code",
   "execution_count": 21,
   "metadata": {},
   "outputs": [],
   "source": [
    "Entrez.email = \"...@gmail.com\" \n",
    "def access_ncbi(accession : str):\n",
    "    \"\"\"\n",
    "    função para aceder e extraír a informação do NCBI\n",
    "    recebe o accession id da sequência do NCBI\n",
    "    \"\"\"\n",
    "    handle = Entrez.efetch(db=\"nucleotide\", id=accession, rettype=\"gb\", retmode=\"text\")\n",
    "    record = SeqIO.read(handle, \"gb\")\n",
    "    handle.close()\n",
    "    return record\n",
    "\n",
    "def save_genbank_file(record, filename : str):\n",
    "    \"\"\"\n",
    "    função para guardar o ficheiro genbank\n",
    "    recebe o record obtido na função access_ncbi e o nome que queremos atribuir ao novo ficheiro\n",
    "    \"\"\"\n",
    "    return SeqIO.write(record, filename, \"genbank\")\n"
   ]
  },
  {
   "cell_type": "code",
   "execution_count": 32,
   "metadata": {},
   "outputs": [
    {
     "data": {
      "text/plain": [
       "1"
      ]
     },
     "execution_count": 32,
     "metadata": {},
     "output_type": "execute_result"
    }
   ],
   "source": [
    "flg_record = access_ncbi(\"1049011034\")\n",
    "\n",
    "save_genbank_file(flg_record, \"flg_file.gb\")"
   ]
  },
  {
   "cell_type": "code",
   "execution_count": 60,
   "metadata": {},
   "outputs": [],
   "source": [
    "def read_genbank_file(filename : str):\n",
    "    \"\"\"\n",
    "    função para ler o ficheiro genbank criado\n",
    "    recebe o nome do ficheiro criado\n",
    "    \"\"\"\n",
    "    record = SeqIO.read(filename, \"genbank\")\n",
    "    return record\n",
    "\n",
    "def annotations(record):\n",
    "    \"\"\"\n",
    "    função que mostra as anotações do ficheiro genbank criado\n",
    "    recebe o record obtido ao ler o ficheiro através da função read_genbank_file\n",
    "    \"\"\"\n",
    "    print(\"ID: \", record.id)\n",
    "    print(\"Name:\", record.name)\n",
    "    print(\"Description: \", record.description)\n",
    "    print(\"Sequence length: \", len(record))  \n",
    "    print(\"from: \", record.annotations[\"source\"])\n",
    "    print(\"Taxonomy:\\n\", record.annotations[\"taxonomy\"])\n",
    "    print(\"General annotations:\\n\", record.annotations)\n",
    "    if len(record.dbxrefs) != 0:\n",
    "        print(\"External Databases References:\\n\", record.dbxrefs) "
   ]
  },
  {
   "cell_type": "code",
   "execution_count": 61,
   "metadata": {},
   "outputs": [
    {
     "name": "stdout",
     "output_type": "stream",
     "text": [
      "ID:  AH002947.2\n",
      "Name: AH002947\n",
      "Description:  Homo sapiens profilaggrin (FLG) gene, complete cds\n",
      "Sequence length:  4929\n",
      "from:  Homo sapiens (human)\n",
      "Taxonomy:\n",
      " ['Eukaryota', 'Metazoa', 'Chordata', 'Craniata', 'Vertebrata', 'Euteleostomi', 'Mammalia', 'Eutheria', 'Euarchontoglires', 'Primates', 'Haplorrhini', 'Catarrhini', 'Hominidae', 'Homo']\n",
      "General annotations:\n",
      " {'molecule_type': 'DNA', 'topology': 'linear', 'data_file_division': 'PRI', 'date': '01-AUG-2016', 'accessions': ['AH002947'], 'sequence_version': 2, 'keywords': ['filaggrin', 'profilaggrin'], 'source': 'Homo sapiens (human)', 'organism': 'Homo sapiens', 'taxonomy': ['Eukaryota', 'Metazoa', 'Chordata', 'Craniata', 'Vertebrata', 'Euteleostomi', 'Mammalia', 'Eutheria', 'Euarchontoglires', 'Primates', 'Haplorrhini', 'Catarrhini', 'Hominidae', 'Homo'], 'references': [Reference(title='Characterization of the human epidermal profilaggrin gene. Genomic organization and identification of an S-100-like calcium binding domain at the amino terminus', ...)], 'comment': 'On or before Aug 1, 2016 this sequence version replaced L01088.1,\\nL01089.1, AH002947.1.'}\n"
     ]
    }
   ],
   "source": [
    "flg_file = read_genbank_file(\"flg_file.gb\")\n",
    "\n",
    "annotations(flg_file)"
   ]
  },
  {
   "cell_type": "code",
   "execution_count": 82,
   "metadata": {},
   "outputs": [],
   "source": [
    "def features_qualifiers(record):\n",
    "    \"\"\"\n",
    "    função que mostra as features e os seus qualifiers\n",
    "    recebe o record obtido ao ler o ficheiro através da função read_genbank_file\n",
    "    \"\"\"\n",
    "    print(len(record.features), \"features\\n\")\n",
    "    print(\"Type and Location:\")\n",
    "    for feature in record.features:\n",
    "        print(feature.type, feature.location)\n",
    "    print(\"\\nQualifiers:\")\n",
    "    for k in range(len(record.features)):\n",
    "        print(record.features[k].qualifiers)"
   ]
  },
  {
   "cell_type": "code",
   "execution_count": 83,
   "metadata": {},
   "outputs": [
    {
     "name": "stdout",
     "output_type": "stream",
     "text": [
      "11 features\n",
      "\n",
      "Type and Location:\n",
      "source [0:4929](+)\n",
      "gene [232:4929](+)\n",
      "regulatory [232:239](+)\n",
      "exon [259:313](+)\n",
      "intron order{[313:663](+), [763:2564](+)}\n",
      "gap [663:763](+)\n",
      "protein_bind [2376:2384](+)\n",
      "exon [2564:2723](+)\n",
      "CDS join{[2585:2723](+), [3293:4929](+)}\n",
      "intron [2723:3293](+)\n",
      "exon [3293:4929](+)\n",
      "\n",
      "Qualifiers:\n",
      "OrderedDict([('organism', ['Homo sapiens']), ('mol_type', ['genomic DNA']), ('db_xref', ['taxon:9606']), ('map', ['1q21']), ('sex', ['male caucasian']), ('tissue_type', ['placenta']), ('dev_stage', ['adult']), ('tissue_lib', ['Stratagene'])])\n",
      "OrderedDict([('gene', ['FLG'])])\n",
      "OrderedDict([('regulatory_class', ['TATA_box']), ('gene', ['FLG']), ('note', ['G00-119-912; putative'])])\n",
      "OrderedDict([('gene', ['FLG']), ('experiment', ['experimental evidence, no additional details recorded']), ('note', ['G00-119-912']), ('number', ['1'])])\n",
      "OrderedDict([('gene', ['FLG']), ('note', ['G00-119-912']), ('number', ['1'])])\n",
      "OrderedDict([('estimated_length', ['unknown'])])\n",
      "OrderedDict([('gene', ['FLG']), ('standard_name', ['AP1 site']), ('note', ['not known at present if this sequence is bound by thec-fos/cjun/AP1 complex, or whether this sequence isimportant for the upregulation of profilaggrin geneexpression by TPA.; G00-119-912; putative']), ('bound_moiety', ['AP1'])])\n",
      "OrderedDict([('gene', ['FLG']), ('experiment', ['experimental evidence, no additional details recorded']), ('note', ['G00-119-912']), ('number', ['2'])])\n",
      "OrderedDict([('gene', ['FLG']), ('codon_start', ['1']), ('product', ['profilaggrin']), ('protein_id', ['AAA60177.1']), ('db_xref', ['GDB:G00-119-912']), ('translation', ['MSTLLENIFAIINLFKQYSKKDKNTDTLSKKELKELLEKEFRQILKNPDDPDMVDVFMDHLDIDHNKKIDFTEFLLMVFKLAQAYYESTRKENLPISGHKHRKHSHHDKHEDNKQEENKENRKRPSSLERRNNRKGNKGRSKSPRETGGKRHESSSEKKERKGYSPTHREEEYGKNHHNSSKKEKNKTENTRLGDNRKRLSERLEEKEDNEEGVYDYENTGRMTQKWIQSGHIATYYTIQDEAYDTTDSLLEENKIYERSRSSDGKSSSQVNRSRHENTSQVPLQESRTRKRRGSRVSQDRDSEGHSEDSERHSGSASRNHHGSAWEQSRDGSRHPRSHDEDRASHGHSADSSRQSGTRHAETSSRGQTASSHEQARSSPGERHGSGHQQSADSSRHSATGRGQASSAVSDRGHRGSSGSQASDSEGHSENSDTQSVSGHGKAGLRQQSHQESTRGRSGERSGRSGSSLYQVSTHEQPDSAHGRTGTSTGGRQGSHHEQARDSSRHSASQEGQDTIRGHPGSSRGGRQGSHHEQSVNRSGHSGSHHSHTTSQGRSDASHGQSGSRSASRQTRNEEQSGDGTRHSGSRHHEA'])])\n",
      "OrderedDict([('gene', ['FLG']), ('experiment', ['experimental evidence, no additional details recorded']), ('note', ['G00-119-912']), ('number', ['2'])])\n",
      "OrderedDict([('gene', ['FLG']), ('experiment', ['experimental evidence, no additional details recorded']), ('note', ['G00-119-912']), ('number', ['3'])])\n"
     ]
    }
   ],
   "source": [
    "features_qualifiers(flg_file)"
   ]
  }
 ],
 "metadata": {
  "kernelspec": {
   "display_name": "base",
   "language": "python",
   "name": "python3"
  },
  "language_info": {
   "codemirror_mode": {
    "name": "ipython",
    "version": 3
   },
   "file_extension": ".py",
   "mimetype": "text/x-python",
   "name": "python",
   "nbconvert_exporter": "python",
   "pygments_lexer": "ipython3",
   "version": "3.9.13"
  }
 },
 "nbformat": 4,
 "nbformat_minor": 2
}
