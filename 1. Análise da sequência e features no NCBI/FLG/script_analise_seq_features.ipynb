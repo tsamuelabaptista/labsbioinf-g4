{
 "cells": [
  {
   "cell_type": "code",
   "execution_count": 18,
   "metadata": {},
   "outputs": [],
   "source": [
    "# Import de módulos e bibliotecas\n",
    "\n",
    "from Bio import Entrez\n",
    "from Bio import SeqIO"
   ]
  },
  {
   "cell_type": "markdown",
   "metadata": {},
   "source": [
    "# Análise de sequências e features no NCBI"
   ]
  },
  {
   "cell_type": "markdown",
   "metadata": {},
   "source": [
    "Funções para aceder, extraír e guardar informação de sequências do NCBI nomeadamente as suas annotations, features e qualifiers"
   ]
  },
  {
   "cell_type": "code",
   "execution_count": 19,
   "metadata": {},
   "outputs": [],
   "source": [
    "Entrez.email = \"...@gmail.com\" \n",
    "def access_ncbi_seq(accession : str, database : str, format : str, filename : str):\n",
    "    \"\"\"\n",
    "    função para aceder, extraír e guardar a informação de sequências do NCBI\n",
    "    recebe o accession id da sequência, a respetiva base de dados ('nucleotide' ou 'protein'),\n",
    "    o formato em que queremos trabalhar a informação ('gb' ou 'faa') e o nome que queremos dar ao ficheiro\n",
    "    \"\"\"\n",
    "    #if database != \"nucleotide\" or \"protein\":\n",
    "     #   return print(\"Not accepted database: only accepts 'nucleotide' or 'protein' databases\")\n",
    "    #if format != \"gb\" or \"genbank\" or \"faa\" or \"fasta\":\n",
    "     #   return print(\"Not accepted format: only accepts 'gb' or 'genbank' or 'faa' or 'fasta'\")\n",
    "    \n",
    "    handle = Entrez.efetch(db=database, id=accession, rettype=format, retmode=\"text\")\n",
    "    record = SeqIO.read(handle, format)\n",
    "    handle.close()\n",
    "\n",
    "    SeqIO.write(record, filename, format)\n",
    "\n",
    "    record = SeqIO.read(filename, format)\n",
    "\n",
    "    return record\n"
   ]
  },
  {
   "cell_type": "code",
   "execution_count": 21,
   "metadata": {},
   "outputs": [],
   "source": [
    "def seq_annotations(record):\n",
    "    \"\"\"\n",
    "    função que mostra as anotações do ficheiro genbank criado\n",
    "    recebe o record obtido ao ler o ficheiro através da função read_genbank_file\n",
    "    \"\"\"\n",
    "    print(\"ID: \", record.id)\n",
    "    print(\"Name:\", record.name)\n",
    "    print(\"Description: \", record.description)\n",
    "    print(\"Sequence length: \", len(record))  \n",
    "    print(\"General annotations:\\n\", record.annotations)\n",
    "    if len(record.dbxrefs) != 0:\n",
    "        print(\"External Databases References:\", record.dbxrefs) "
   ]
  },
  {
   "cell_type": "code",
   "execution_count": 23,
   "metadata": {},
   "outputs": [],
   "source": [
    "def seq_features_qualifiers(record):\n",
    "    \"\"\"\n",
    "    função que mostra as features e os seus qualifiers\n",
    "    recebe o record obtido ao ler o ficheiro através da função read_genbank_file\n",
    "    \"\"\"\n",
    "    print(len(record.features), \"features\\n\")\n",
    "    print(\"Type and Location:\")\n",
    "    for feature in record.features:\n",
    "        print(feature.type, feature.location)\n",
    "    print(\"\\nQualifiers:\")\n",
    "    for k in range(len(record.features)):\n",
    "        print(record.features[k].qualifiers)"
   ]
  },
  {
   "cell_type": "markdown",
   "metadata": {},
   "source": [
    "Análise das sequências de mRNA"
   ]
  },
  {
   "cell_type": "markdown",
   "metadata": {},
   "source": [
    "Anotações das sequências de mRNA"
   ]
  },
  {
   "cell_type": "code",
   "execution_count": 22,
   "metadata": {},
   "outputs": [
    {
     "name": "stdout",
     "output_type": "stream",
     "text": [
      "ID:  NM_002016.2\n",
      "Name: NM_002016\n",
      "Description:  Homo sapiens filaggrin (FLG), mRNA\n",
      "Sequence length:  12793\n",
      "General annotations:\n",
      " {'molecule_type': 'mRNA', 'topology': 'linear', 'data_file_division': 'PRI', 'date': '18-NOV-2023', 'accessions': ['NM_002016'], 'sequence_version': 2, 'keywords': ['RefSeq', 'MANE Select'], 'source': 'Homo sapiens (human)', 'organism': 'Homo sapiens', 'taxonomy': ['Eukaryota', 'Metazoa', 'Chordata', 'Craniata', 'Vertebrata', 'Euteleostomi', 'Mammalia', 'Eutheria', 'Euarchontoglires', 'Primates', 'Haplorrhini', 'Catarrhini', 'Hominidae', 'Homo'], 'references': [Reference(title='Filaggrin gene polymorphisms in Indian children with atopic dermatitis: A cross-sectional multicentre study', ...), Reference(title='Filaggrin gene variants among Saudi patients with ichthyosis vulgaris', ...), Reference(title='Deep palmar phenotyping in atopic eczema: patterns associated with filaggrin variants, disease severity and barrier function in a South Asian population', ...), Reference(title='Skin Barrier Function and Its Relationship With IL-17, IL-33, and Filaggrin in Malar Melasma', ...), Reference(title='Biallelic mutations in FLG, TGM1, and STS genes segregated with different types of ichthyoses in eight families of Pakistani origin', ...), Reference(title='Characterization of the human epidermal profilaggrin gene. Genomic organization and identification of an S-100-like calcium binding domain at the amino terminus', ...), Reference(title='Organization, structure, and polymorphisms of the human profilaggrin gene', ...), Reference(title='Organization, structure, and polymorphisms of the human profilaggrin gene', ...), Reference(title='Characterization of a cDNA clone encoding human filaggrin and localization of the gene to chromosome region 1q21', ...), Reference(title='Ichthyosis vulgaris: identification of a defect in synthesis of filaggrin correlated with an absence of keratohyaline granules', ...)], 'comment': \"REVIEWED REFSEQ: This record has been curated by NCBI staff. The\\nreference sequence was derived from AL356504.5.\\nOn Aug 31, 2019 this sequence version replaced NM_002016.1.\\nSummary: The protein encoded by this gene is an intermediate\\nfilament-associated protein that aggregates keratin intermediate\\nfilaments in mammalian epidermis. It is initially synthesized as a\\npolyprotein precursor, profilaggrin (consisting of multiple\\nfilaggrin units of 324 aa each), which is localized in keratohyalin\\ngranules, and is subsequently proteolytically processed into\\nindividual functional filaggrin molecules. Mutations in this gene\\nare associated with ichthyosis vulgaris.[provided by RefSeq, Dec\\n2009].\\nSequence Note: The RefSeq transcript and protein were derived from\\ngenomic sequence to make the sequence consistent with the reference\\ngenome assembly. The genomic coordinates used for the transcript\\nrecord were based on alignments.\\nPublication Note:  This RefSeq record includes a subset of the\\npublications that are available for this gene. Please see the Gene\\nrecord to access additional publications.\\nCOMPLETENESS: complete on the 3' end.\", 'structured_comment': OrderedDict([('Evidence-Data', OrderedDict([('Transcript exon combination', 'L01090.1 [ECO:0000332]')])), ('RefSeq-Attributes', OrderedDict([('MANE Ensembl match', 'ENST00000368799.2/ ENSP00000357789.1'), ('RefSeq Select criteria', 'based on single protein-coding transcript')]))])}\n"
     ]
    }
   ],
   "source": [
    "seq_annotations(access_ncbi_seq(\"1732746205\", \"nucleotide\", \"gb\", \"flg_mrna\")) # annotations flg_mrna"
   ]
  },
  {
   "cell_type": "code",
   "execution_count": null,
   "metadata": {},
   "outputs": [],
   "source": [
    "#seq_annotations(access_ncbi_seq(\"\", \"nucleotide\", \"gb\", \"_mrna\")) # annotations "
   ]
  },
  {
   "cell_type": "code",
   "execution_count": null,
   "metadata": {},
   "outputs": [],
   "source": [
    "#seq_annotations(access_ncbi_seq(\"\", \"nucleotide\", \"gb\", \"_mrna\")) # annotations"
   ]
  },
  {
   "cell_type": "code",
   "execution_count": null,
   "metadata": {},
   "outputs": [],
   "source": [
    "#seq_annotations(access_ncbi_seq(\"\", \"nucleotide\", \"gb\", \"_mrna\")) # annotations "
   ]
  },
  {
   "cell_type": "markdown",
   "metadata": {},
   "source": [
    "Features e qualifiers das sequências de mRNA"
   ]
  },
  {
   "cell_type": "code",
   "execution_count": 24,
   "metadata": {},
   "outputs": [
    {
     "name": "stdout",
     "output_type": "stream",
     "text": [
      "10 features\n",
      "\n",
      "Type and Location:\n",
      "source [0:12793](+)\n",
      "gene [0:12793](+)\n",
      "exon [0:51](+)\n",
      "exon [51:210](+)\n",
      "CDS [72:12258](+)\n",
      "misc_feature [345:708](+)\n",
      "misc_feature [834:11985](+)\n",
      "exon [210:12793](+)\n",
      "regulatory [12772:12778](+)\n",
      "polyA_site [12792:12793](+)\n",
      "\n",
      "Qualifiers:\n",
      "OrderedDict([('organism', ['Homo sapiens']), ('mol_type', ['mRNA']), ('db_xref', ['taxon:9606']), ('chromosome', ['1']), ('map', ['1q21.3'])])\n",
      "OrderedDict([('gene', ['FLG']), ('gene_synonym', ['ATOD2; FLG-1; FLG1']), ('note', ['filaggrin']), ('db_xref', ['GeneID:2312', 'HGNC:HGNC:3748', 'MIM:135940'])])\n",
      "OrderedDict([('gene', ['FLG']), ('gene_synonym', ['ATOD2; FLG-1; FLG1']), ('inference', ['alignment:Splign:2.1.0'])])\n",
      "OrderedDict([('gene', ['FLG']), ('gene_synonym', ['ATOD2; FLG-1; FLG1']), ('inference', ['alignment:Splign:2.1.0'])])\n",
      "OrderedDict([('gene', ['FLG']), ('gene_synonym', ['ATOD2; FLG-1; FLG1']), ('note', ['epidermal filaggrin']), ('codon_start', ['1']), ('product', ['filaggrin']), ('protein_id', ['NP_002007.1']), ('db_xref', ['CCDS:CCDS30860.1', 'GeneID:2312', 'HGNC:HGNC:3748', 'MIM:135940']), ('translation', ['MSTLLENIFAIINLFKQYSKKDKNTDTLSKKELKELLEKEFRQILKNPDDPDMVDVFMDHLDIDHNKKIDFTEFLLMVFKLAQAYYESTRKENLPISGHKHRKHSHHDKHEDNKQEENKENRKRPSSLERRNNRKGNKGRSKSPRETGGKRHESSSEKKERKGYSPTHREEEYGKNHHNSSKKEKNKTENTRLGDNRKRLSERLEEKEDNEEGVYDYENTGRMTQKWIQSGHIATYYTIQDEAYDTTDSLLEENKIYERSRSSDGKSSSQVNRSRHENTSQVPLQESRTRKRRGSRVSQDRDSEGHSEDSERHSGSASRNHHGSAWEQSRDGSRHPRSHDEDRASHGHSADSSRQSGTRHAETSSRGQTASSHEQARSSPGERHGSGHQQSADSSRHSATGRGQASSAVSDRGHRGSSGSQASDSEGHSENSDTQSVSGHGKAGLRQQSHQESTRGRSGERSGRSGSSLYQVSTHEQPDSAHGRTGTSTGGRQGSHHEQARDSSRHSASQEGQDTIRGHPGSSRGGRQGSHHEQSVNRSGHSGSHHSHTTSQGRSDASHGQSGSRSASRQTRNEEQSGDGTRHSGSRHHEASSQADSSRHSQVGQGQSSGPRTSRNQGSSVSQDSDSQGHSEDSERWSGSASRNHHGSAQEQSRDGSRHPRSHHEDRAGHGHSADSSRKSGTRHTQNSSSGQAASSHEQARSSAGERHGSRHQLQSADSSRHSGTGHGQASSAVRDSGHRGSSGSQATDSEGHSEDSDTQSVSGHGQAGHHQQSHQESARDRSGERSRRSGSFLYQVSTHKQSESSHGWTGPSTGVRQGSHHEQARDNSRHSASQDGQDTIRGHPGSSRRGRQGSHHEQSVDRSGHSGSHHSHTTSQGRSDASRGQSGSRSASRTTRNEEQSRDGSRHSGSRHHEASSHADISRHSQAGQGQSEGSRTSRRQGSSVSQDSDSEGHSEDSERWSGSASRNHRGSAQEQSRHGSRHPRSHHEDRAGHGHSADSSRQSGTPHAETSSGGQAASSHEQARSSPGERHGSRHQQSADSSRHSGIPRRQASSAVRDSGHWGSSGSQASDSEGHSEESDTQSVSGHGQDGPHQQSHQESARDWSGGRSGRSGSFIYQVSTHEQSESAHGRTRTSTGRRQGSHHEQARDSSRHSASQEGQDTIRAHPGSRRGGRQGSHHEQSVDRSGHSGSHHSHTTSQGRSDASHGQSGSRSASRQTRKDKQSGDGSRHSGSRHHEAASWADSSRHSQVGQEQSSGSRTSRHQGSSVSQDSDSERHSDDSERLSGSASRNHHGSSREQSRDGSRHPGFHQEDRASHGHSADSSRQSGTHHTESSSHGQAVSSHEQARSSPGERHGSRHQQSADSSRHSGIGHRQASSAVRDSGHRGSSGSQVTNSEGHSEDSDTQSVSAHGQAGPHQQSHKESARGQSGESSGRSRSFLYQVSSHEQSESTHGQTAPSTGGRQGSRHEQARNSSRHSASQDGQDTIRGHPGSSRGGRQGSYHEQSVDRSGHSGYHHSHTTPQGRSDASHGQSGPRSASRQTRNEEQSGDGSRHSGSRHHEPSTRAGSSRHSQVGQGESAGSKTSRRQGSSVSQDRDSEGHSEDSERRSESASRNHYGSAREQSRHGSRNPRSHQEDRASHGHSAESSRQSGTRHAETSSGGQAASSQEQARSSPGERHGSRHQQSADSSTDSGTGRRQDSSVVGDSGNRGSSGSQASDSEGHSEESDTQSVSAHGQAGPHQQSHQESTRGQSGERSGRSGSFLYQVSTHEQSESAHGRTGPSTGGRQRSRHEQARDSSRHSASQEGQDTIRGHPGSSRGGRQGSHYEQSVDSSGHSGSHHSHTTSQERSDVSRGQSGSRSVSRQTRNEKQSGDGSRHSGSRHHEASSRADSSRHSQVGQGQSSGPRTSRNQGSSVSQDSDSQGHSEDSERWSGSASRNHLGSAWEQSRDGSRHPGSHHEDRAGHGHSADSSRQSGTRHTESSSRGQAASSHEQARSSAGERHGSHHQLQSADSSRHSGIGHGQASSAVRDSGHRGYSGSQASDSEGHSEDSDTQSVSAQGKAGPHQQSHKESARGQSGESSGRSGSFLYQVSTHEQSESTHGQSAPSTGGRQGSHYDQAQDSSRHSASQEGQDTIRGHPGPSRGGRQGSHQEQSVDRSGHSGSHHSHTTSQGRSDASRGQSGSRSASRKTYDKEQSGDGSRHSGSHHHEASSWADSSRHSLVGQGQSSGPRTSRPRGSSVSQDSDSEGHSEDSERRSGSASRNHHGSAQEQSRDGSRHPRSHHEDRAGHGHSAESSRQSGTHHAENSSGGQAASSHEQARSSAGERHGSHHQQSADSSRHSGIGHGQASSAVRDSGHRGSSGSQASDSEGHSEDSDTQSVSAHGQAGPHQQSHQESTRGRSAGRSGRSGSFLYQVSTHEQSESAHGRTGTSTGGRQGSHHKQARDSSRHSTSQEGQDTIHGHPGSSSGGRQGSHYEQLVDRSGHSGSHHSHTTSQGRSDASHGHSGSRSASRQTRNDEQSGDGSRHSGSRHHEASSRADSSGHSQVGQGQSEGPRTSRNWGSSFSQDSDSQGHSEDSERWSGSASRNHHGSAQEQLRDGSRHPRSHQEDRAGHGHSADSSRQSGTRHTQTSSGGQAASSHEQARSSAGERHGSHHQQSADSSRHSGIGHGQASSAVRDSGHRGYSGSQASDNEGHSEDSDTQSVSAHGQAGSHQQSHQESARGRSGETSGHSGSFLYQVSTHEQSESSHGWTGPSTRGRQGSRHEQAQDSSRHSASQDGQDTIRGHPGSSRGGRQGYHHEHSVDSSGHSGSHHSHTTSQGRSDASRGQSGSRSASRTTRNEEQSGDGSRHSGSRHHEASTHADISRHSQAVQGQSEGSRRSRRQGSSVSQDSDSEGHSEDSERWSGSASRNHHGSAQEQLRDGSRHPRSHQEDRAGHGHSADSSRQSGTRHTQTSSGGQAASSHEQARSSAGERHGSHHQQSADSSRHSGIGHGQASSAVRDSGHRGYSGSQASDNEGHSEDSDTQSVSAHGQAGSHQQSHQESARGRSGETSGHSGSFLYQVSTHEQSESSHGWTGPSTRGRQGSRHEQAQDSSRHSASQYGQDTIRGHPGSSRGGRQGYHHEHSVDSSGHSGSHHSHTTSQGRSDASRGQSGSRSASRTTRNEEQSGDSSRHSVSRHHEASTHADISRHSQAVQGQSEGSRRSRRQGSSVSQDSDSEGHSEDSERWSGSASRNHRGSVQEQSRHGSRHPRSHHEDRAGHGHSADRSRQSGTRHAETSSGGQAASSHEQARSSPGERHGSRHQQSADSSRHSGIPRGQASSAVRDSRHWGSSGSQASDSEGHSEESDTQSVSGHGQAGPHQQSHQESARDRSGGRSGRSGSFLYQVSTHEQSESAHGRTRTSTGRRQGSHHEQARDSSRHSASQEGQDTIRGHPGSSRRGRQGSHYEQSVDRSGHSGSHHSHTTSQGRSDASRGQSGSRSASRQTRNDEQSGDGSRHSWSHHHEASTQADSSRHSQSGQGQSAGPRTSRNQGSSVSQDSDSQGHSEDSERWSGSASRNHRGSAQEQSRDGSRHPTSHHEDRAGHGHSAESSRQSGTHHAENSSGGQAASSHEQARSSAGERHGSHHQQSADSSRHSGIGHGQASSAVRDSGHRGSSGSQASDSEGHSEDSDTQSVSAHGQAGPHQQSHQESTRGRSAGRSGRSGSFLYQVSTHEQSESAHGRAGPSTGGRQGSRHEQARDSSRHSASQEGQDTIRGHPGSRRGGRQGSYHEQSVDRSGHSGSHHSHTTSQGRSDASHGQSGSRSASRETRNEEQSGDGSRHSGSRHHEASTQADSSRHSQSGQGESAGSRRSRRQGSSVSQDSDSEAYPEDSERRSESASRNHHGSSREQSRDGSRHPGSSHRDTASHVQSSPVQSDSSTAKEHGHFSSLSQDSAYHSGIQSRGSPHSSSSYHYQSEGTERQKGQSGLVWRHGSYGSADYDYGESGFRHSQHGSVSYNSNPVVFKERSDICKASAFGKDHPRYYATYINKDPGLCGHSSDISKQLGFSQSQRYYYYE'])])\n",
      "OrderedDict([('gene', ['FLG']), ('gene_synonym', ['ATOD2; FLG-1; FLG1']), ('note', ['propagated from UniProtKB/Swiss-Prot (P20930.3); Region: Disordered. /evidence=ECO:0000256|SAM:MobiDB-lite'])])\n",
      "OrderedDict([('gene', ['FLG']), ('gene_synonym', ['ATOD2; FLG-1; FLG1']), ('note', ['propagated from UniProtKB/Swiss-Prot (P20930.3); Region: Disordered. /evidence=ECO:0000256|SAM:MobiDB-lite'])])\n",
      "OrderedDict([('gene', ['FLG']), ('gene_synonym', ['ATOD2; FLG-1; FLG1']), ('inference', ['alignment:Splign:2.1.0'])])\n",
      "OrderedDict([('regulatory_class', ['polyA_signal_sequence']), ('gene', ['FLG']), ('gene_synonym', ['ATOD2; FLG-1; FLG1']), ('note', ['hexamer: AATAAA'])])\n",
      "OrderedDict([('gene', ['FLG']), ('gene_synonym', ['ATOD2; FLG-1; FLG1']), ('note', ['major polyA site'])])\n"
     ]
    }
   ],
   "source": [
    "seq_features_qualifiers(access_ncbi_seq(\"1732746205\", \"nucleotide\", \"gb\", \"flg_mrna\"))"
   ]
  },
  {
   "cell_type": "code",
   "execution_count": null,
   "metadata": {},
   "outputs": [],
   "source": [
    "#seq_features_qualifiers(access_ncbi_seq(\"\", \"nucleotide\", \"gb\", \"_mrna\"))"
   ]
  },
  {
   "cell_type": "code",
   "execution_count": null,
   "metadata": {},
   "outputs": [],
   "source": [
    "#seq_features_qualifiers(access_ncbi_seq(\"\", \"nucleotide\", \"gb\", \"_mrna\"))"
   ]
  },
  {
   "cell_type": "code",
   "execution_count": null,
   "metadata": {},
   "outputs": [],
   "source": [
    "#seq_features_qualifiers(access_ncbi_seq(\"\", \"nucleotide\", \"gb\", \"_mrna\"))"
   ]
  },
  {
   "cell_type": "markdown",
   "metadata": {},
   "source": [
    "Análise das sequências de proteína"
   ]
  },
  {
   "cell_type": "markdown",
   "metadata": {},
   "source": [
    "Anotações das sequências de proteína"
   ]
  },
  {
   "cell_type": "code",
   "execution_count": null,
   "metadata": {},
   "outputs": [],
   "source": []
  },
  {
   "cell_type": "markdown",
   "metadata": {},
   "source": [
    "Features e qualifiers das sequências de proteína"
   ]
  },
  {
   "cell_type": "code",
   "execution_count": null,
   "metadata": {},
   "outputs": [],
   "source": []
  },
  {
   "cell_type": "markdown",
   "metadata": {},
   "source": [
    "# BLAST"
   ]
  }
 ],
 "metadata": {
  "kernelspec": {
   "display_name": "base",
   "language": "python",
   "name": "python3"
  },
  "language_info": {
   "codemirror_mode": {
    "name": "ipython",
    "version": 3
   },
   "file_extension": ".py",
   "mimetype": "text/x-python",
   "name": "python",
   "nbconvert_exporter": "python",
   "pygments_lexer": "ipython3",
   "version": "3.9.13"
  }
 },
 "nbformat": 4,
 "nbformat_minor": 2
}
