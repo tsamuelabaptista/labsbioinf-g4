{
 "cells": [
  {
   "cell_type": "markdown",
   "metadata": {},
   "source": [
    "# Análise de sequências e features no NCBI"
   ]
  },
  {
   "cell_type": "code",
   "execution_count": 7,
   "metadata": {},
   "outputs": [],
   "source": [
    "from Bio import Entrez\n",
    "from Bio import SeqIO"
   ]
  },
  {
   "cell_type": "markdown",
   "metadata": {},
   "source": [
    "## Funções para aceder, extraír e guardar informação do NCBI "
   ]
  },
  {
   "cell_type": "code",
   "execution_count": 8,
   "metadata": {},
   "outputs": [],
   "source": [
    "Entrez.email = input(\"Insira o seu e-mail: \")\n",
    "\n",
    "def access_ncbi_seq(accession: str, database: str, format: str):\n",
    "    \"\"\"\n",
    "    Função para aceder, extrair e guardar a informação de sequências do NCBI\n",
    "    Recebe o accession id da sequência, a respetiva base de dados ('nucleotide' ou 'protein'),\n",
    "    o formato em que queremos trabalhar a informação ('gb' ou 'faa')\n",
    "    \"\"\"\n",
    "    handle = Entrez.efetch(db=database, id=accession, rettype=format, retmode=\"text\")\n",
    "    record = SeqIO.read(handle, format)\n",
    "    handle.close()\n",
    "\n",
    "    return record"
   ]
  },
  {
   "cell_type": "code",
   "execution_count": 9,
   "metadata": {},
   "outputs": [],
   "source": [
    "def seq_annotations(record):\n",
    "    \"\"\"\n",
    "    Função que mostra as anotações do ficheiro GenBank criado\n",
    "    Recebe o record obtido ao ler o ficheiro através da função access_ncbi_seq\n",
    "    \"\"\"\n",
    "    print(\"ID:\", record.id)\n",
    "    print(\"Nome:\", record.name)\n",
    "    print(\"Descrição:\", record.description)\n",
    "    print(\"Comprimento da sequência:\", len(record))\n",
    "    print(\"Anotações gerais:\\n\", record.annotations)\n",
    "    if len(record.dbxrefs) != 0:\n",
    "        print(\"Referências a Bases de Dados Externas:\", record.dbxrefs)"
   ]
  },
  {
   "cell_type": "code",
   "execution_count": 10,
   "metadata": {},
   "outputs": [],
   "source": [
    "def seq_features_qualifiers(record):\n",
    "    \"\"\"\n",
    "    Função que mostra as features e os seus qualifiers\n",
    "    Recebe o record obtido ao ler o ficheiro através da função access_ncbi_seq\n",
    "    \"\"\"\n",
    "    print(len(record.features), \"features\\n\")\n",
    "    print(\"Tipo e Localização:\")\n",
    "    for feature in record.features:\n",
    "        print(feature.type, feature.location)\n",
    "    print(\"\\nQualifiers:\")\n",
    "    for k in range(len(record.features)):\n",
    "        print(record.features[k].qualifiers)"
   ]
  },
  {
   "cell_type": "markdown",
   "metadata": {},
   "source": [
    "## Análise, features e qualifiers das sequências de mRNA"
   ]
  },
  {
   "cell_type": "code",
   "execution_count": 11,
   "metadata": {},
   "outputs": [
    {
     "name": "stdout",
     "output_type": "stream",
     "text": [
      "Anotações para o gene TSLP (mRNA)(curated):\n",
      "ID: NM_033035.5\n",
      "Nome: NM_033035\n",
      "Descrição: Homo sapiens thymic stromal lymphopoietin (TSLP), transcript variant 1, mRNA\n",
      "Comprimento da sequência: 2610\n",
      "Anotações gerais:\n",
      " {'molecule_type': 'mRNA', 'topology': 'linear', 'data_file_division': 'PRI', 'date': '15-OCT-2023', 'accessions': ['NM_033035'], 'sequence_version': 5, 'keywords': ['RefSeq', 'MANE Select'], 'source': 'Homo sapiens (human)', 'organism': 'Homo sapiens', 'taxonomy': ['Eukaryota', 'Metazoa', 'Chordata', 'Craniata', 'Vertebrata', 'Euteleostomi', 'Mammalia', 'Eutheria', 'Euarchontoglires', 'Primates', 'Haplorrhini', 'Catarrhini', 'Hominidae', 'Homo'], 'references': [Reference(title='Integration analysis using bioinformatics and experimental validation on the clinical and biological significance of TSLP in cancers', ...), Reference(title='Thymic Stromal Lymphopoietin (TSLP), Its Isoforms and the Interplay with the Epithelium in Allergy and Asthma', ...), Reference(title='The short form of TSLP is constitutively translated in human keratinocytes and has characteristics of an antimicrobial peptide', ...), Reference(title='The human cytokine TSLP triggers a cell-autonomous dendritic cell migration in confined environments', ...), Reference(title='Sensing the outside world: TSLP regulates barrier immunity', ...), Reference(title='Thymic stromal lymphopoietin', ...), Reference(title='Human epithelial cells trigger dendritic cell mediated allergic inflammation by producing TSLP', ...), Reference(title='Cloning of human thymic stromal lymphopoietin (TSLP) and signaling mechanisms leading to proliferation', ...), Reference(title='Human thymic stromal lymphopoietin preferentially stimulates myeloid cells', ...), Reference(title='Requirement for stat5 in thymic stromal lymphopoietin-mediated signal transduction', ...)], 'comment': 'REVIEWED REFSEQ: This record has been curated by NCBI staff. The\\nreference sequence was derived from AY037115.1, AL833421.1 and\\nAC008572.6.\\nOn Nov 22, 2018 this sequence version replaced NM_033035.4.\\nSummary: This gene encodes a hemopoietic cytokine proposed to\\nsignal through a heterodimeric receptor complex composed of the\\nthymic stromal lymphopoietin receptor and the IL-7R alpha chain. It\\nmainly impacts myeloid cells and induces the release of T\\ncell-attracting chemokines from monocytes and enhances the\\nmaturation of CD11c(+) dendritic cells. The protein promotes T\\nhelper type 2 (TH2) cell responses that are associated with\\nimmunity in various inflammatory diseases, including asthma,\\nallergic inflammation and chronic obstructive pulmonary disease.\\nThe protein is therefore considered a potential therapeutic target\\nfor the treatment of such diseases. In addition, the shorter\\n(predominant) isoform is an antimicrobial protein, displaying\\nantibacterial and antifungal activity against B. cereus, E. coli,\\nE. faecalis, S. mitis, S. epidermidis, and C. albicans. Alternative\\nsplicing of this gene results in multiple transcript variants.\\n[provided by RefSeq, Jul 2020].\\nTranscript Variant: This variant (1) encodes the longer isoform (1,\\nalso known as lfTSLP). This isoform is found in much lower\\nabundance compared to the shorter isoform sfTSLP (PMID:24850429)\\nand is known to stimulate allergic inflammation in diseases such as\\nasthma and COPD.\\nPublication Note:  This RefSeq record includes a subset of the\\npublications that are available for this gene. Please see the Gene\\nrecord to access additional publications.\\nCOMPLETENESS: full length.', 'structured_comment': OrderedDict([('Evidence-Data', OrderedDict([('Transcript exon combination', 'AY037115.1, AF338732.1 [ECO:0000332]'), ('RNAseq introns', 'single sample supports all introns SAMEA1968968, SAMEA2146982 [ECO:0000348]')])), ('RefSeq-Attributes', OrderedDict([('MANE Ensembl match', 'ENST00000344895.4/ ENSP00000339804.3'), ('RefSeq Select criteria', 'based on expression, longest protein')]))])}\n",
      "\n",
      "Features e Qualifiers para o gene TSLP (mRNA)(curated):\n",
      "18 features\n",
      "\n",
      "Tipo e Localização:\n",
      "source [0:2610](+)\n",
      "gene [0:2610](+)\n",
      "exon [0:349](+)\n",
      "misc_feature [148:151](+)\n",
      "CDS [178:658](+)\n",
      "sig_peptide [178:262](+)\n",
      "mat_peptide [262:655](+)\n",
      "misc_feature [367:370](+)\n",
      "misc_feature [532:535](+)\n",
      "exon [349:394](+)\n",
      "exon [394:529](+)\n",
      "exon [529:2610](+)\n",
      "regulatory [1355:1361](+)\n",
      "regulatory [1360:1366](+)\n",
      "polyA_site [1376:1377](+)\n",
      "polyA_site [1387:1388](+)\n",
      "regulatory [2584:2590](+)\n",
      "polyA_site [2609:2610](+)\n",
      "\n",
      "Qualifiers:\n",
      "OrderedDict([('organism', ['Homo sapiens']), ('mol_type', ['mRNA']), ('db_xref', ['taxon:9606']), ('chromosome', ['5']), ('map', ['5q22.1'])])\n",
      "OrderedDict([('gene', ['TSLP']), ('note', ['thymic stromal lymphopoietin']), ('db_xref', ['GeneID:85480', 'HGNC:HGNC:30743', 'MIM:607003'])])\n",
      "OrderedDict([('gene', ['TSLP']), ('inference', ['alignment:Splign:2.1.0'])])\n",
      "OrderedDict([('gene', ['TSLP']), ('note', ['upstream in-frame stop codon'])])\n",
      "OrderedDict([('gene', ['TSLP']), ('note', ['isoform 1 precursor is encoded by transcript variant 1']), ('codon_start', ['1']), ('product', ['thymic stromal lymphopoietin isoform 1 precursor']), ('protein_id', ['NP_149024.1']), ('db_xref', ['CCDS:CCDS4101.1', 'GeneID:85480', 'HGNC:HGNC:30743', 'MIM:607003']), ('translation', ['MFPFALLYVLSVSFRKIFILQLVGLVLTYDFTNCDFEKIKAAYLSTISKDLITYMSGTKSTEFNNTVSCSNRPHCLTEIQSLTFNPTAGCASLAKEMFAMKTKAALAIWCPGYSETQINATQAMKKRRKRKVTTNKCLEQVSQLQGLWRRFNRPLLKQQ'])])\n",
      "OrderedDict([('gene', ['TSLP']), ('note', ['/evidence=ECO:0000255; propagated from UniProtKB/Swiss-Prot (Q969D9.1)'])])\n",
      "OrderedDict([('gene', ['TSLP']), ('product', ['Thymic stromal lymphopoietin. /id=PRO_0000300873']), ('note', ['propagated from UniProtKB/Swiss-Prot (Q969D9.1)'])])\n",
      "OrderedDict([('gene', ['TSLP']), ('note', ['N-linked (GlcNAc...) asparagine. /evidence=ECO:0000255; propagated from UniProtKB/Swiss-Prot (Q969D9.1); glycosylation site'])])\n",
      "OrderedDict([('gene', ['TSLP']), ('note', ['N-linked (GlcNAc...) asparagine. /evidence=ECO:0000255; propagated from UniProtKB/Swiss-Prot (Q969D9.1); glycosylation site'])])\n",
      "OrderedDict([('gene', ['TSLP']), ('inference', ['alignment:Splign:2.1.0'])])\n",
      "OrderedDict([('gene', ['TSLP']), ('inference', ['alignment:Splign:2.1.0'])])\n",
      "OrderedDict([('gene', ['TSLP']), ('inference', ['alignment:Splign:2.1.0'])])\n",
      "OrderedDict([('regulatory_class', ['polyA_signal_sequence']), ('gene', ['TSLP']), ('note', ['hexamer: AATAAA'])])\n",
      "OrderedDict([('regulatory_class', ['polyA_signal_sequence']), ('gene', ['TSLP']), ('note', ['hexamer: AATAAT'])])\n",
      "OrderedDict([('gene', ['TSLP']), ('note', ['major polyA site'])])\n",
      "OrderedDict([('gene', ['TSLP'])])\n",
      "OrderedDict([('regulatory_class', ['polyA_signal_sequence']), ('gene', ['TSLP']), ('note', ['hexamer: AATAAA'])])\n",
      "OrderedDict([('gene', ['TSLP'])])\n"
     ]
    }
   ],
   "source": [
    "# Aceder e imprimir anotações para o gene TSLP (mRNA)\n",
    "tslp_mrna_record = access_ncbi_seq(\"NM_033035\", \"nucleotide\", \"gb\")\n",
    "print(\"Anotações para o gene TSLP (mRNA)(curated):\")\n",
    "seq_annotations(tslp_mrna_record)\n",
    "\n",
    "# Aceder e imprimir features e qualifiers para o gene TSLP (mRNA)\n",
    "print(\"\\nFeatures e Qualifiers para o gene TSLP (mRNA)(curated):\")\n",
    "seq_features_qualifiers(tslp_mrna_record)\n"
   ]
  },
  {
   "cell_type": "markdown",
   "metadata": {},
   "source": [
    "## Análise Descritiva da Sequência:\n",
    "\n",
    "O gene TSLP (transcript variant 1, mRNA) possui uma sequência de 2610 bases e está localizado no cromossoma 5 (5q22.1) em *Homo sapiens* ([RefSeq: NM_033035.5](https://www.ncbi.nlm.nih.gov/nuccore/NM_033035.5)). Algumas características importantes da sequência e sua interpretação em relação à resposta imune e doenças inflamatórias são:\n",
    "\n",
    "- **Localização e Variantes:**\n",
    "  - O gene TSLP possui múltiplos exons e variantes de transcrito resultantes de splicing alternativo, o que pode contribuir para a diversidade funcional. A região genômica mostra a presença de elementos regulatórios, como locais de poliadenilação (polyA sites) e sequências de sinal.\n",
    "\n",
    "- **Expressão e Regulação:**\n",
    "  - É observável a evidência de poliadenilação e localização de sítios de iniciação.\n"
   ]
  },
  {
   "cell_type": "markdown",
   "metadata": {},
   "source": [
    "## Análise, features e qualifiers da proteína"
   ]
  },
  {
   "cell_type": "code",
   "execution_count": 12,
   "metadata": {},
   "outputs": [
    {
     "name": "stdout",
     "output_type": "stream",
     "text": [
      "\n",
      "Anotações para a proteína do gene TSLP(curated):\n",
      "ID: NP_149024.1\n",
      "Nome: NP_149024\n",
      "Descrição: thymic stromal lymphopoietin isoform 1 precursor [Homo sapiens]\n",
      "Comprimento da sequência: 159\n",
      "Anotações gerais:\n",
      " {'topology': 'linear', 'data_file_division': 'PRI', 'date': '15-OCT-2023', 'accessions': ['NP_149024'], 'sequence_version': 1, 'db_source': 'REFSEQ: accession NM_033035.5', 'keywords': ['RefSeq', 'MANE Select'], 'source': 'Homo sapiens (human)', 'organism': 'Homo sapiens', 'taxonomy': ['Eukaryota', 'Metazoa', 'Chordata', 'Craniata', 'Vertebrata', 'Euteleostomi', 'Mammalia', 'Eutheria', 'Euarchontoglires', 'Primates', 'Haplorrhini', 'Catarrhini', 'Hominidae', 'Homo'], 'references': [Reference(title='Integration analysis using bioinformatics and experimental validation on the clinical and biological significance of TSLP in cancers', ...), Reference(title='Thymic Stromal Lymphopoietin (TSLP), Its Isoforms and the Interplay with the Epithelium in Allergy and Asthma', ...), Reference(title='The short form of TSLP is constitutively translated in human keratinocytes and has characteristics of an antimicrobial peptide', ...), Reference(title='The human cytokine TSLP triggers a cell-autonomous dendritic cell migration in confined environments', ...), Reference(title='Sensing the outside world: TSLP regulates barrier immunity', ...), Reference(title='Thymic stromal lymphopoietin', ...), Reference(title='Human epithelial cells trigger dendritic cell mediated allergic inflammation by producing TSLP', ...), Reference(title='Cloning of human thymic stromal lymphopoietin (TSLP) and signaling mechanisms leading to proliferation', ...), Reference(title='Human thymic stromal lymphopoietin preferentially stimulates myeloid cells', ...), Reference(title='Requirement for stat5 in thymic stromal lymphopoietin-mediated signal transduction', ...)], 'comment': 'REVIEWED REFSEQ: This record has been curated by NCBI staff. The\\nreference sequence was derived from AY037115.1, AL833421.1 and\\nAC008572.6.\\nSummary: This gene encodes a hemopoietic cytokine proposed to\\nsignal through a heterodimeric receptor complex composed of the\\nthymic stromal lymphopoietin receptor and the IL-7R alpha chain. It\\nmainly impacts myeloid cells and induces the release of T\\ncell-attracting chemokines from monocytes and enhances the\\nmaturation of CD11c(+) dendritic cells. The protein promotes T\\nhelper type 2 (TH2) cell responses that are associated with\\nimmunity in various inflammatory diseases, including asthma,\\nallergic inflammation and chronic obstructive pulmonary disease.\\nThe protein is therefore considered a potential therapeutic target\\nfor the treatment of such diseases. In addition, the shorter\\n(predominant) isoform is an antimicrobial protein, displaying\\nantibacterial and antifungal activity against B. cereus, E. coli,\\nE. faecalis, S. mitis, S. epidermidis, and C. albicans. Alternative\\nsplicing of this gene results in multiple transcript variants.\\n[provided by RefSeq, Jul 2020].\\nTranscript Variant: This variant (1) encodes the longer isoform (1,\\nalso known as lfTSLP). This isoform is found in much lower\\nabundance compared to the shorter isoform sfTSLP (PMID:24850429)\\nand is known to stimulate allergic inflammation in diseases such as\\nasthma and COPD.\\nPublication Note:  This RefSeq record includes a subset of the\\npublications that are available for this gene. Please see the Gene\\nrecord to access additional publications.', 'structured_comment': OrderedDict([('Evidence-Data', OrderedDict([('Transcript exon combination', 'AY037115.1, AF338732.1 [ECO:0000332]'), ('RNAseq introns', 'single sample supports all introns SAMEA1968968, SAMEA2146982 [ECO:0000348]')])), ('RefSeq-Attributes', OrderedDict([('MANE Ensembl match', 'ENST00000344895.4/ ENSP00000339804.3'), ('RefSeq Select criteria', 'based on expression, longest protein')]))]), 'molecule_type': 'protein'}\n",
      "\n",
      "Features e Qualifiers para a proteína do gene TSLP(curated):\n",
      "8 features\n",
      "\n",
      "Tipo e Localização:\n",
      "source [0:159]\n",
      "Protein [0:159]\n",
      "sig_peptide [0:28]\n",
      "mat_peptide [28:159]\n",
      "Region [28:153]\n",
      "Site [63:64]\n",
      "Site [118:119]\n",
      "CDS [0:159]\n",
      "\n",
      "Qualifiers:\n",
      "OrderedDict([('organism', ['Homo sapiens']), ('db_xref', ['taxon:9606']), ('chromosome', ['5']), ('map', ['5q22.1'])])\n",
      "OrderedDict([('product', ['thymic stromal lymphopoietin isoform 1 precursor']), ('calculated_mol_wt', ['14930'])])\n",
      "OrderedDict([('note', ['/evidence=ECO:0000255; propagated from UniProtKB/Swiss-Prot (Q969D9.1)']), ('calculated_mol_wt', ['3229'])])\n",
      "OrderedDict([('product', ['Thymic stromal lymphopoietin. /id=PRO_0000300873']), ('note', ['propagated from UniProtKB/Swiss-Prot (Q969D9.1)']), ('calculated_mol_wt', ['14930'])])\n",
      "OrderedDict([('region_name', ['TSLP']), ('note', ['Thymic stromal lymphopoietin; pfam15216']), ('db_xref', ['CDD:405819'])])\n",
      "OrderedDict([('site_type', ['glycosylation']), ('note', ['N-linked (GlcNAc...) asparagine. /evidence=ECO:0000255; propagated from UniProtKB/Swiss-Prot (Q969D9.1)'])])\n",
      "OrderedDict([('site_type', ['glycosylation']), ('note', ['N-linked (GlcNAc...) asparagine. /evidence=ECO:0000255; propagated from UniProtKB/Swiss-Prot (Q969D9.1)'])])\n",
      "OrderedDict([('gene', ['TSLP']), ('coded_by', ['NM_033035.5:179..658']), ('note', ['isoform 1 precursor is encoded by transcript variant 1']), ('db_xref', ['CCDS:CCDS4101.1', 'GeneID:85480', 'HGNC:HGNC:30743', 'MIM:607003'])])\n"
     ]
    }
   ],
   "source": [
    "# Aceder e imprimir anotações para a proteína do gene TSLP\n",
    "tslp_protein_record = access_ncbi_seq(\"NP_149024.1\", \"protein\", \"gb\")\n",
    "print(\"\\nAnotações para a proteína do gene TSLP(curated):\")\n",
    "seq_annotations(tslp_protein_record)\n",
    "\n",
    "# Aceder e imprimir features e qualifiers para a proteína do gene TSLP\n",
    "print(\"\\nFeatures e Qualifiers para a proteína do gene TSLP(curated):\")\n",
    "seq_features_qualifiers(tslp_protein_record)"
   ]
  },
  {
   "cell_type": "markdown",
   "metadata": {},
   "source": [
    "## Análise Descritiva da Proteína:\n",
    "\n",
    "A proteína TSLP é um regulador chave em doenças alérgicas, desempenhando um papel crucial na resposta imune ([Breiteneder et al., 2020](https://pubmed.ncbi.nlm.nih.gov/32049192/)). Alguns pontos relevantes sobre a proteína e sua relação com alergias e doenças inflamatórias são:\n",
    "\n",
    "- **Proteína Codificada (TSLP isoform 1 precursor):**\n",
    "  - A proteína codificada é identificada como TSLP isoform 1 precursor, cuja função é crucial na sinalização imune, especialmente em respostas alérgicas e inflamatórias. A tradução da sequência gera uma proteína com características importantes, como um sinal peptídico, peptídeo maduro, e domínios específicos relacionados à função biológica da TSLP.\n",
    "\n",
    "- **Função Biológica:**\n",
    "  - A TSLP é uma citoquina hematopoiética que sinaliza através de um complexo recetor heterodímero, impactando principalmente células mieloides. Induz a liberação de quimiocinas atrativas para células T e a maturação de células dendríticas, promovendo respostas de células T helper tipo 2 (TH2).\n",
    "\n",
    "- **Isoformas e Atividade:**\n",
    "  - Existem isoformas da TSLP, sendo a isoforma mais longa (lfTSLP) relacionada a processos inflamatórios, incluindo asma e COPD. A isoforma mais curta (sfTSLP) exibe atividade antimicrobiana, evidenciando um papel dual na resposta imune.\n",
    "\n",
    "- **Relação com Doenças:**\n",
    "  - A expressão desregulada da TSLP está associada a doenças atópicas, destacando seu papel em doenças alérgicas, como a asma. Biomarcadores relacionados à TSLP são cruciais para diagnóstico e previsão de respostas terapêuticas em doenças alérgicas."
   ]
  },
  {
   "cell_type": "markdown",
   "metadata": {},
   "source": [
    "## Resumo:\n",
    "*Em resumo, a análise descritiva da sequência e da proteína TSLP destaca sua importância na regulação da resposta imune e seu potencial como alvo terapêutico em doenças alérgicas e inflamatórias. A compreensão desses aspectos é essencial para avanços no diagnóstico e tratamento de condições como a esofagite eosinofílica e outras doenças relacionadas.*"
   ]
  },
  {
   "cell_type": "markdown",
   "metadata": {},
   "source": []
  }
 ],
 "metadata": {
  "kernelspec": {
   "display_name": "base",
   "language": "python",
   "name": "python3"
  },
  "language_info": {
   "codemirror_mode": {
    "name": "ipython",
    "version": 3
   },
   "file_extension": ".py",
   "mimetype": "text/x-python",
   "name": "python",
   "nbconvert_exporter": "python",
   "pygments_lexer": "ipython3",
   "version": "3.11.4"
  }
 },
 "nbformat": 4,
 "nbformat_minor": 2
}
