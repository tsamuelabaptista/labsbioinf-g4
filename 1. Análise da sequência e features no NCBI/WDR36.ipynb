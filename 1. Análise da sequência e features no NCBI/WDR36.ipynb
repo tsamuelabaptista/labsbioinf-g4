{
 "cells": [
  {
   "cell_type": "markdown",
   "metadata": {},
   "source": [
    "# Análise de sequências e features no NCBI "
   ]
  },
  {
   "cell_type": "code",
   "execution_count": 14,
   "metadata": {},
   "outputs": [],
   "source": [
    "from Bio import Entrez\n",
    "from Bio import SeqIO"
   ]
  },
  {
   "cell_type": "markdown",
   "metadata": {},
   "source": [
    "## Funções para aceder, extraír e guardar informação do NCBI "
   ]
  },
  {
   "cell_type": "code",
   "execution_count": 15,
   "metadata": {},
   "outputs": [],
   "source": [
    "Entrez.email = input(\"Insira o seu e-mail: \")\n",
    "\n",
    "def access_ncbi_seq(accession: str, database: str, format: str):\n",
    "    \"\"\"\n",
    "    Função para aceder, extrair e guardar a informação de sequências do NCBI\n",
    "    Recebe o accession id da sequência, a respetiva base de dados ('nucleotide' ou 'protein'),\n",
    "    o formato em que queremos trabalhar a informação ('gb' ou 'faa')\n",
    "    \"\"\"\n",
    "    handle = Entrez.efetch(db=database, id=accession, rettype=format, retmode=\"text\")\n",
    "    record = SeqIO.read(handle, format)\n",
    "    handle.close()\n",
    "\n",
    "    return record"
   ]
  },
  {
   "cell_type": "code",
   "execution_count": 16,
   "metadata": {},
   "outputs": [],
   "source": [
    "def seq_annotations(record):\n",
    "    \"\"\"\n",
    "    Função que mostra as anotações do ficheiro GenBank criado\n",
    "    Recebe o record obtido ao ler o ficheiro através da função access_ncbi_seq\n",
    "    \"\"\"\n",
    "    print(\"ID:\", record.id)\n",
    "    print(\"Nome:\", record.name)\n",
    "    print(\"Descrição:\", record.description)\n",
    "    print(\"Comprimento da sequência:\", len(record))\n",
    "    print(\"Anotações gerais:\\n\", record.annotations)\n",
    "    if len(record.dbxrefs) != 0:\n",
    "        print(\"Referências a Bases de Dados Externas:\", record.dbxrefs)"
   ]
  },
  {
   "cell_type": "code",
   "execution_count": 17,
   "metadata": {},
   "outputs": [],
   "source": [
    "def seq_features_qualifiers(record):\n",
    "    \"\"\"\n",
    "    Função que mostra as features e os seus qualifiers\n",
    "    Recebe o record obtido ao ler o ficheiro através da função access_ncbi_seq\n",
    "    \"\"\"\n",
    "    print(len(record.features), \"features\\n\")\n",
    "    print(\"Tipo e Localização:\")\n",
    "    for feature in record.features:\n",
    "        print(feature.type, feature.location)\n",
    "    print(\"\\nQualifiers:\")\n",
    "    for k in range(len(record.features)):\n",
    "        print(record.features[k].qualifiers)"
   ]
  },
  {
   "cell_type": "markdown",
   "metadata": {},
   "source": [
    "## Análise, features e qualifiers das sequências de mRNA"
   ]
  },
  {
   "cell_type": "code",
   "execution_count": 18,
   "metadata": {},
   "outputs": [
    {
     "name": "stdout",
     "output_type": "stream",
     "text": [
      "Anotações para o gene WDR36 (mRNA):\n",
      "ID: NM_139281.3\n",
      "Nome: NM_139281\n",
      "Descrição: Homo sapiens WD repeat domain 36 (WDR36), mRNA\n",
      "Comprimento da sequência: 6416\n",
      "Anotações gerais:\n",
      " {'molecule_type': 'mRNA', 'topology': 'linear', 'data_file_division': 'PRI', 'date': '05-APR-2023', 'accessions': ['NM_139281'], 'sequence_version': 3, 'keywords': ['RefSeq', 'MANE Select'], 'source': 'Homo sapiens (human)', 'organism': 'Homo sapiens', 'taxonomy': ['Eukaryota', 'Metazoa', 'Chordata', 'Craniata', 'Vertebrata', 'Euteleostomi', 'Mammalia', 'Eutheria', 'Euarchontoglires', 'Primates', 'Haplorrhini', 'Catarrhini', 'Hominidae', 'Homo'], 'references': [Reference(title='WDR36-Associated Neurodegeneration: A Case Report Highlights Possible Mechanisms of Normal Tension Glaucoma', ...), Reference(title='Nucleolar maturation of the human small subunit processome', ...), Reference(title='An Application of NGS for WDR36 Gene in Taiwanese Patients with Juvenile-Onset Open-Angle Glaucoma', ...), Reference(title='Association of WDR36 polymorphisms with primary open angle glaucoma: A systematic review and meta-analysis', ...), Reference(title='Contribution of Mutations in Known Mendelian Glaucoma Genes to Advanced Early-Onset Primary Open-Angle Glaucoma', ...), Reference(title='A genome-wide scan maps a novel juvenile-onset primary open angle glaucoma locus to chromosome 5q', ...), Reference(title='Identification of a novel adult-onset primary open-angle glaucoma (POAG) gene on 5q22.1', ...), Reference(title='Nucleolar proteome dynamics', ...), Reference(title='The small-subunit processome is a ribosome assembly intermediate', ...), Reference(title='T lymphocyte activation gene identification by coregulated expression on DNA microarrays', ...)], 'comment': \"REVIEWED REFSEQ: This record has been curated by NCBI staff. The\\nreference sequence was derived from AF385437.1 and AC008572.6.\\nThis sequence is a reference standard in the RefSeqGene project.\\nOn Jul 24, 2020 this sequence version replaced NM_139281.2.\\nSummary: This gene encodes a member of the WD repeat protein\\nfamily. WD repeats are minimally conserved regions of approximately\\n40 amino acids typically bracketed by gly-his and trp-asp (GH-WD),\\nwhich may facilitate formation of heterotrimeric or multiprotein\\ncomplexes. Members of this family are involved in a variety of\\ncellular processes, including cell cycle progression, signal\\ntransduction, apoptosis, and gene regulation. Mutations in this\\ngene have been associated with adult-onset primary open-angle\\nglaucoma (POAG). [provided by RefSeq, Jul 2008].\\nPublication Note:  This RefSeq record includes a subset of the\\npublications that are available for this gene. Please see the Gene\\nrecord to access additional publications.\\nCOMPLETENESS: complete on the 3' end.\", 'structured_comment': OrderedDict([('Evidence-Data', OrderedDict([('Transcript exon combination', 'SRR7346977.2607944.1, SRR11853559.26239.1 [ECO:0000332]'), ('RNAseq introns', 'single sample supports all introns SAMEA1965299, SAMEA1966682 [ECO:0000348]')])), ('RefSeq-Attributes', OrderedDict([('MANE Ensembl match', 'ENST00000513710.4/ ENSP00000424628.3'), ('RefSeq Select criteria', 'based on manual assertion, conservation, expression, longest protein')]))])}\n",
      "\n",
      "Features e Qualifiers para o gene WDR36 (mRNA):\n",
      "32 features\n",
      "\n",
      "Tipo e Localização:\n",
      "source [0:6416](+)\n",
      "gene [0:6416](+)\n",
      "exon [0:271](+)\n",
      "CDS [109:2797](+)\n",
      "exon [271:299](+)\n",
      "exon [299:400](+)\n",
      "exon [400:518](+)\n",
      "exon [518:651](+)\n",
      "exon [651:706](+)\n",
      "exon [706:839](+)\n",
      "exon [839:1015](+)\n",
      "exon [1015:1136](+)\n",
      "exon [1136:1202](+)\n",
      "exon [1202:1289](+)\n",
      "exon [1289:1435](+)\n",
      "exon [1435:1550](+)\n",
      "exon [1550:1716](+)\n",
      "exon [1716:1825](+)\n",
      "exon [1825:1905](+)\n",
      "exon [1905:2013](+)\n",
      "exon [2013:2111](+)\n",
      "exon [2111:2257](+)\n",
      "exon [2257:2377](+)\n",
      "exon [2377:2459](+)\n",
      "exon [2459:2647](+)\n",
      "exon [2647:6416](+)\n",
      "regulatory [4257:4263](+)\n",
      "polyA_site [4277:4278](+)\n",
      "regulatory [5594:5600](+)\n",
      "polyA_site [5624:5625](+)\n",
      "regulatory [6395:6401](+)\n",
      "polyA_site [6415:6416](+)\n",
      "\n",
      "Qualifiers:\n",
      "OrderedDict([('organism', ['Homo sapiens']), ('mol_type', ['mRNA']), ('db_xref', ['taxon:9606']), ('chromosome', ['5']), ('map', ['5q22.1'])])\n",
      "OrderedDict([('gene', ['WDR36']), ('gene_synonym', ['GLC1G; TA-WDRP; TAWDRP; UTP21']), ('note', ['WD repeat domain 36']), ('db_xref', ['GeneID:134430', 'HGNC:HGNC:30696', 'MIM:609669'])])\n",
      "OrderedDict([('gene', ['WDR36']), ('gene_synonym', ['GLC1G; TA-WDRP; TAWDRP; UTP21']), ('inference', ['alignment:Splign:2.1.0'])])\n",
      "OrderedDict([('gene', ['WDR36']), ('gene_synonym', ['GLC1G; TA-WDRP; TAWDRP; UTP21']), ('note', ['T-cell activation WD repeat protein; T-cell activation WD repeat-containing protein']), ('codon_start', ['1']), ('product', ['WD repeat-containing protein 36']), ('protein_id', ['NP_644810.2']), ('db_xref', ['CCDS:CCDS4102.2', 'GeneID:134430', 'HGNC:HGNC:30696', 'MIM:609669']), ('translation', ['MERASERRTASALFAGFRALGLFSNDIPHVVRFSALKRRFYVTTCVGKSFHTYDVQKLSLVAVSNSVPQDICCMAADGRLVFAAYGNVFSAFARNKEIVHTFKGHKAEIHFLQPFGDHIISVDTDGILIIWHIYSEEEYLQLTFDKSVFKISAILHPSTYLNKILLGSEQGSLQLWNVKSNKLLYTFPGWKVGVTALQQAPAVDVVAIGLMSGQVIIHNIKFNETLMKFRQDWGPITSISFRTDGHPVMAAGSPCGHIGLWDLEDKKLINQMRNAHSTAIAGLTFLHREPLLVTNGADNALRIWIFDGPTGEGRLLRFRMGHSAPLTNIRYYGQNGQQILSASQDGTLQSFSTVHEKFNKSLGHGLINKKRVKRKGLQNTMSVRLPPITKFAAEEARESDWDGIIACHQGKLSCSTWNYQKSTIGAYFLKPKELKKDDITATAVDITSCGNFAVIGLSSGTVDVYNMQSGIHRGSFGKDQAHKGSVRGVAVDGLNQLTVTTGSEGLLKFWNFKNKILIHSVSLSSSPNIMLLHRDSGILGLALDDFSISVLDIETRKIVREFSGHQGQINDMAFSPDGRWLISAAMDCSIRTWDLPSGCLIDCFLLDSAPLNVSMSPTGDFLATSHVDHLGIYLWSNISLYSVVSLRPLPADYVPSIVMLPGTCQTQDVEVSEETVEPSDELIEYDSPEQLNEQLVTLSLLPESRWKNLLNLDVIKKKNKPKEPPKVPKSAPFFIPTIPGLVPRYAAPEQNNDPQQSKVVNLGVLAQKSDFCLKLEEGLVNNKYDTALNLLKESGPSGIETELRSLSPDCGGSIEVMQSFLKMIGMMLDRKRDFELAQAYLALFLKLHLKMLPSEPVLLEEITNLSSQVEENWTHLQSLFNQSMCILNYLKSALL'])])\n",
      "OrderedDict([('gene', ['WDR36']), ('gene_synonym', ['GLC1G; TA-WDRP; TAWDRP; UTP21']), ('inference', ['alignment:Splign:2.1.0'])])\n",
      "OrderedDict([('gene', ['WDR36']), ('gene_synonym', ['GLC1G; TA-WDRP; TAWDRP; UTP21']), ('inference', ['alignment:Splign:2.1.0'])])\n",
      "OrderedDict([('gene', ['WDR36']), ('gene_synonym', ['GLC1G; TA-WDRP; TAWDRP; UTP21']), ('inference', ['alignment:Splign:2.1.0'])])\n",
      "OrderedDict([('gene', ['WDR36']), ('gene_synonym', ['GLC1G; TA-WDRP; TAWDRP; UTP21']), ('inference', ['alignment:Splign:2.1.0'])])\n",
      "OrderedDict([('gene', ['WDR36']), ('gene_synonym', ['GLC1G; TA-WDRP; TAWDRP; UTP21']), ('inference', ['alignment:Splign:2.1.0'])])\n",
      "OrderedDict([('gene', ['WDR36']), ('gene_synonym', ['GLC1G; TA-WDRP; TAWDRP; UTP21']), ('inference', ['alignment:Splign:2.1.0'])])\n",
      "OrderedDict([('gene', ['WDR36']), ('gene_synonym', ['GLC1G; TA-WDRP; TAWDRP; UTP21']), ('inference', ['alignment:Splign:2.1.0'])])\n",
      "OrderedDict([('gene', ['WDR36']), ('gene_synonym', ['GLC1G; TA-WDRP; TAWDRP; UTP21']), ('inference', ['alignment:Splign:2.1.0'])])\n",
      "OrderedDict([('gene', ['WDR36']), ('gene_synonym', ['GLC1G; TA-WDRP; TAWDRP; UTP21']), ('inference', ['alignment:Splign:2.1.0'])])\n",
      "OrderedDict([('gene', ['WDR36']), ('gene_synonym', ['GLC1G; TA-WDRP; TAWDRP; UTP21']), ('inference', ['alignment:Splign:2.1.0'])])\n",
      "OrderedDict([('gene', ['WDR36']), ('gene_synonym', ['GLC1G; TA-WDRP; TAWDRP; UTP21']), ('inference', ['alignment:Splign:2.1.0'])])\n",
      "OrderedDict([('gene', ['WDR36']), ('gene_synonym', ['GLC1G; TA-WDRP; TAWDRP; UTP21']), ('inference', ['alignment:Splign:2.1.0'])])\n",
      "OrderedDict([('gene', ['WDR36']), ('gene_synonym', ['GLC1G; TA-WDRP; TAWDRP; UTP21']), ('inference', ['alignment:Splign:2.1.0'])])\n",
      "OrderedDict([('gene', ['WDR36']), ('gene_synonym', ['GLC1G; TA-WDRP; TAWDRP; UTP21']), ('inference', ['alignment:Splign:2.1.0'])])\n",
      "OrderedDict([('gene', ['WDR36']), ('gene_synonym', ['GLC1G; TA-WDRP; TAWDRP; UTP21']), ('inference', ['alignment:Splign:2.1.0'])])\n",
      "OrderedDict([('gene', ['WDR36']), ('gene_synonym', ['GLC1G; TA-WDRP; TAWDRP; UTP21']), ('inference', ['alignment:Splign:2.1.0'])])\n",
      "OrderedDict([('gene', ['WDR36']), ('gene_synonym', ['GLC1G; TA-WDRP; TAWDRP; UTP21']), ('inference', ['alignment:Splign:2.1.0'])])\n",
      "OrderedDict([('gene', ['WDR36']), ('gene_synonym', ['GLC1G; TA-WDRP; TAWDRP; UTP21']), ('inference', ['alignment:Splign:2.1.0'])])\n",
      "OrderedDict([('gene', ['WDR36']), ('gene_synonym', ['GLC1G; TA-WDRP; TAWDRP; UTP21']), ('inference', ['alignment:Splign:2.1.0'])])\n",
      "OrderedDict([('gene', ['WDR36']), ('gene_synonym', ['GLC1G; TA-WDRP; TAWDRP; UTP21']), ('inference', ['alignment:Splign:2.1.0'])])\n",
      "OrderedDict([('gene', ['WDR36']), ('gene_synonym', ['GLC1G; TA-WDRP; TAWDRP; UTP21']), ('inference', ['alignment:Splign:2.1.0'])])\n",
      "OrderedDict([('gene', ['WDR36']), ('gene_synonym', ['GLC1G; TA-WDRP; TAWDRP; UTP21']), ('inference', ['alignment:Splign:2.1.0'])])\n",
      "OrderedDict([('regulatory_class', ['polyA_signal_sequence']), ('gene', ['WDR36']), ('gene_synonym', ['GLC1G; TA-WDRP; TAWDRP; UTP21']), ('note', ['hexamer: AATAAA'])])\n",
      "OrderedDict([('gene', ['WDR36']), ('gene_synonym', ['GLC1G; TA-WDRP; TAWDRP; UTP21']), ('note', ['major polyA site'])])\n",
      "OrderedDict([('regulatory_class', ['polyA_signal_sequence']), ('gene', ['WDR36']), ('gene_synonym', ['GLC1G; TA-WDRP; TAWDRP; UTP21']), ('note', ['hexamer: AATAAA'])])\n",
      "OrderedDict([('gene', ['WDR36']), ('gene_synonym', ['GLC1G; TA-WDRP; TAWDRP; UTP21'])])\n",
      "OrderedDict([('regulatory_class', ['polyA_signal_sequence']), ('gene', ['WDR36']), ('gene_synonym', ['GLC1G; TA-WDRP; TAWDRP; UTP21']), ('note', ['hexamer: AATAAA'])])\n",
      "OrderedDict([('gene', ['WDR36']), ('gene_synonym', ['GLC1G; TA-WDRP; TAWDRP; UTP21']), ('note', ['major polyA site'])])\n"
     ]
    }
   ],
   "source": [
    "# Aceder e imprimir anotações para o gene WDR36 (mRNA)\n",
    "wdr36_mrna_record = access_ncbi_seq(\"NM_139281\", \"nucleotide\", \"gb\")\n",
    "print(\"Anotações para o gene WDR36 (mRNA):\")\n",
    "seq_annotations(wdr36_mrna_record)\n",
    "\n",
    "# Aceder e imprimir features e qualifiers para o gene WDR36 (mRNA)\n",
    "print(\"\\nFeatures e Qualifiers para o gene WDR36 (mRNA):\")\n",
    "seq_features_qualifiers(wdr36_mrna_record)"
   ]
  },
  {
   "cell_type": "markdown",
   "metadata": {},
   "source": [
    "## Análise descritiva da sequência"
   ]
  },
  {
   "cell_type": "markdown",
   "metadata": {},
   "source": [
    "## Análise, features e qualifiers da proteína"
   ]
  },
  {
   "cell_type": "code",
   "execution_count": 19,
   "metadata": {},
   "outputs": [
    {
     "name": "stdout",
     "output_type": "stream",
     "text": [
      "\n",
      "Anotações para a proteína do gene WDR36:\n",
      "ID: NP_644810.2\n",
      "Nome: NP_644810\n",
      "Descrição: WD repeat-containing protein 36 [Homo sapiens]\n",
      "Comprimento da sequência: 895\n",
      "Anotações gerais:\n",
      " {'topology': 'linear', 'data_file_division': 'PRI', 'date': '05-APR-2023', 'accessions': ['NP_644810'], 'sequence_version': 2, 'db_source': 'REFSEQ: accession NM_139281.3', 'keywords': ['RefSeq', 'MANE Select'], 'source': 'Homo sapiens (human)', 'organism': 'Homo sapiens', 'taxonomy': ['Eukaryota', 'Metazoa', 'Chordata', 'Craniata', 'Vertebrata', 'Euteleostomi', 'Mammalia', 'Eutheria', 'Euarchontoglires', 'Primates', 'Haplorrhini', 'Catarrhini', 'Hominidae', 'Homo'], 'references': [Reference(title='WDR36-Associated Neurodegeneration: A Case Report Highlights Possible Mechanisms of Normal Tension Glaucoma', ...), Reference(title='Nucleolar maturation of the human small subunit processome', ...), Reference(title='An Application of NGS for WDR36 Gene in Taiwanese Patients with Juvenile-Onset Open-Angle Glaucoma', ...), Reference(title='Association of WDR36 polymorphisms with primary open angle glaucoma: A systematic review and meta-analysis', ...), Reference(title='Contribution of Mutations in Known Mendelian Glaucoma Genes to Advanced Early-Onset Primary Open-Angle Glaucoma', ...), Reference(title='A genome-wide scan maps a novel juvenile-onset primary open angle glaucoma locus to chromosome 5q', ...), Reference(title='Identification of a novel adult-onset primary open-angle glaucoma (POAG) gene on 5q22.1', ...), Reference(title='Nucleolar proteome dynamics', ...), Reference(title='The small-subunit processome is a ribosome assembly intermediate', ...), Reference(title='T lymphocyte activation gene identification by coregulated expression on DNA microarrays', ...)], 'comment': 'REVIEWED REFSEQ: This record has been curated by NCBI staff. The\\nreference sequence was derived from AF385437.1 and AC008572.6.\\nThis sequence is a reference standard in the RefSeqGene project.\\nOn Jul 24, 2020 this sequence version replaced NP_644810.1.\\nSummary: This gene encodes a member of the WD repeat protein\\nfamily. WD repeats are minimally conserved regions of approximately\\n40 amino acids typically bracketed by gly-his and trp-asp (GH-WD),\\nwhich may facilitate formation of heterotrimeric or multiprotein\\ncomplexes. Members of this family are involved in a variety of\\ncellular processes, including cell cycle progression, signal\\ntransduction, apoptosis, and gene regulation. Mutations in this\\ngene have been associated with adult-onset primary open-angle\\nglaucoma (POAG). [provided by RefSeq, Jul 2008].\\nPublication Note:  This RefSeq record includes a subset of the\\npublications that are available for this gene. Please see the Gene\\nrecord to access additional publications.', 'structured_comment': OrderedDict([('Evidence-Data', OrderedDict([('Transcript exon combination', 'SRR7346977.2607944.1, SRR11853559.26239.1 [ECO:0000332]'), ('RNAseq introns', 'single sample supports all introns SAMEA1965299, SAMEA1966682 [ECO:0000348]')])), ('RefSeq-Attributes', OrderedDict([('MANE Ensembl match', 'ENST00000513710.4/ ENSP00000424628.3'), ('RefSeq Select criteria', 'based on manual assertion, conservation, expression, longest protein')]))]), 'molecule_type': 'protein'}\n",
      "\n",
      "Features e Qualifiers para a proteína do gene WDR36:\n",
      "17 features\n",
      "\n",
      "Tipo e Localização:\n",
      "source [0:895]\n",
      "Protein [0:895]\n",
      "Region [98:364]\n",
      "Site order{[104:105], [120:121], [124:125], [130:132], [143:144], [165:166], [169:170], [175:177], [188:190], [206:207], [211:212], [217:219], [231:232], [249:250], [254:255], [260:262], [274:276], [293:294], [297:298], [303:305], [320:322], [339:340], [344:345], [350:352], [362:364]}\n",
      "Region [109:144]\n",
      "Region [147:188]\n",
      "Region [194:230]\n",
      "Region [235:272]\n",
      "Region [275:594]\n",
      "Site order{[275:276], [293:294], [297:298], [303:305], [320:322], [340:341], [344:345], [350:352], [362:364], [392:393], [401:402], [416:418], [434:435], [453:454], [458:459], [464:466], [480:482], [499:500], [503:504], [509:511], [524:526], [539:540], [544:545], [550:552], [563:565], [582:583], [586:587], [592:594]}\n",
      "Region [371:430]\n",
      "Region [441:479]\n",
      "Region [519:564]\n",
      "Region [558:>636]\n",
      "Region [568:593]\n",
      "Region [688:891]\n",
      "CDS [0:895]\n",
      "\n",
      "Qualifiers:\n",
      "OrderedDict([('organism', ['Homo sapiens']), ('db_xref', ['taxon:9606']), ('chromosome', ['5']), ('map', ['5q22.1'])])\n",
      "OrderedDict([('product', ['WD repeat-containing protein 36']), ('note', ['T-cell activation WD repeat protein; T-cell activation WD repeat-containing protein']), ('calculated_mol_wt', ['99236'])])\n",
      "OrderedDict([('region_name', ['WD40']), ('note', ['WD40 domain, found in a number of eukaryotic proteins that cover a wide variety of functions including adaptor/regulatory modules in signal transduction, pre-mRNA processing and cytoskeleton assembly; typically contains a GH dipeptide 11-24 residues from...; cl29593']), ('db_xref', ['CDD:453027'])])\n",
      "OrderedDict([('site_type', ['active']), ('note', ['structural tetrad [active]']), ('db_xref', ['CDD:238121'])])\n",
      "OrderedDict([('region_name', ['WD40 repeat']), ('note', ['WD40 repeat [structural motif]']), ('db_xref', ['CDD:293791'])])\n",
      "OrderedDict([('region_name', ['WD40 repeat']), ('note', ['WD40 repeat [structural motif]']), ('db_xref', ['CDD:293791'])])\n",
      "OrderedDict([('region_name', ['WD40 repeat']), ('note', ['WD40 repeat [structural motif]']), ('db_xref', ['CDD:293791'])])\n",
      "OrderedDict([('region_name', ['WD40 repeat']), ('note', ['WD40 repeat [structural motif]']), ('db_xref', ['CDD:293791'])])\n",
      "OrderedDict([('region_name', ['WD40']), ('note', ['WD40 domain, found in a number of eukaryotic proteins that cover a wide variety of functions including adaptor/regulatory modules in signal transduction, pre-mRNA processing and cytoskeleton assembly; typically contains a GH dipeptide 11-24 residues from...; cl29593']), ('db_xref', ['CDD:453027'])])\n",
      "OrderedDict([('site_type', ['active']), ('note', ['structural tetrad [active]']), ('db_xref', ['CDD:238121'])])\n",
      "OrderedDict([('region_name', ['WD40 repeat']), ('note', ['WD40 repeat [structural motif]']), ('db_xref', ['CDD:293791'])])\n",
      "OrderedDict([('region_name', ['WD40 repeat']), ('note', ['WD40 repeat [structural motif]']), ('db_xref', ['CDD:293791'])])\n",
      "OrderedDict([('region_name', ['WD40 repeat']), ('note', ['WD40 repeat [structural motif]']), ('db_xref', ['CDD:293791'])])\n",
      "OrderedDict([('region_name', ['WD40']), ('note', ['WD40 domain, found in a number of eukaryotic proteins that cover a wide variety of functions including adaptor/regulatory modules in signal transduction, pre-mRNA processing and cytoskeleton assembly; typically contains a GH dipeptide 11-24 residues from...; cl29593']), ('db_xref', ['CDD:453027'])])\n",
      "OrderedDict([('region_name', ['WD40 repeat']), ('note', ['WD40 repeat [structural motif]']), ('db_xref', ['CDD:293791'])])\n",
      "OrderedDict([('region_name', ['Utp21']), ('note', ['Utp21 specific WD40 associated putative domain; pfam04192']), ('db_xref', ['CDD:427774'])])\n",
      "OrderedDict([('gene', ['WDR36']), ('gene_synonym', ['GLC1G; TA-WDRP; TAWDRP; UTP21']), ('coded_by', ['NM_139281.3:110..2797']), ('db_xref', ['CCDS:CCDS4102.2', 'GeneID:134430', 'HGNC:HGNC:30696', 'MIM:609669'])])\n"
     ]
    }
   ],
   "source": [
    "# Aceder e imprimir anotações para a proteína do gene WDR36\n",
    "wdr36_protein_record = access_ncbi_seq(\"NP_644810.2\", \"protein\", \"gb\")\n",
    "print(\"\\nAnotações para a proteína do gene WDR36:\")\n",
    "seq_annotations(wdr36_protein_record)\n",
    "\n",
    "# Aceder e imprimir features e qualifiers para a proteína do gene WDR36\n",
    "print(\"\\nFeatures e Qualifiers para a proteína do gene WDR36:\")\n",
    "seq_features_qualifiers(wdr36_protein_record)"
   ]
  },
  {
   "cell_type": "markdown",
   "metadata": {},
   "source": [
    "## Análise descritiva da proteina"
   ]
  },
  {
   "cell_type": "markdown",
   "metadata": {},
   "source": [
    "## Resumo:"
   ]
  }
 ],
 "metadata": {
  "kernelspec": {
   "display_name": "base",
   "language": "python",
   "name": "python3"
  },
  "language_info": {
   "codemirror_mode": {
    "name": "ipython",
    "version": 3
   },
   "file_extension": ".py",
   "mimetype": "text/x-python",
   "name": "python",
   "nbconvert_exporter": "python",
   "pygments_lexer": "ipython3",
   "version": "3.11.4"
  }
 },
 "nbformat": 4,
 "nbformat_minor": 2
}
