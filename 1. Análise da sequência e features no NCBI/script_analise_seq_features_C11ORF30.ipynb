{
 "cells": [
  {
   "cell_type": "markdown",
   "metadata": {},
   "source": [
    "# Análise de sequências e features no NCBI"
   ]
  },
  {
   "cell_type": "code",
   "execution_count": 1,
   "metadata": {},
   "outputs": [],
   "source": [
    "# Import de módulos e bibliotecas\n",
    "\n",
    "from Bio import Entrez\n",
    "from Bio import SeqIO"
   ]
  },
  {
   "cell_type": "markdown",
   "metadata": {},
   "source": [
    "Funções para aceder, extraír e guardar informação de sequências do NCBI nomeadamente as suas annotations, features e qualifiers"
   ]
  },
  {
   "cell_type": "code",
   "execution_count": 2,
   "metadata": {},
   "outputs": [],
   "source": [
    "Entrez.email = input(\"Insere o teu e-mail\") \n",
    "def access_ncbi_seq(accession : str, database : str, format : str, filename : str):\n",
    "    \"\"\"\n",
    "    função para aceder, extraír e guardar a informação de sequências do NCBI\n",
    "    recebe o accession id da sequência, a respetiva base de dados ('nucleotide' ou 'protein'),\n",
    "    o formato em que queremos trabalhar a informação ('gb' ou 'faa') e o nome que queremos dar ao ficheiro\n",
    "    \"\"\"\n",
    "    #if database != \"nucleotide\" or \"protein\":\n",
    "     #   return print(\"Not accepted database: only accepts 'nucleotide' or 'protein' databases\")\n",
    "    #if format != \"gb\" or \"genbank\" or \"faa\" or \"fasta\":\n",
    "     #   return print(\"Not accepted format: only accepts 'gb' or 'genbank' or 'faa' or 'fasta'\")\n",
    "    \n",
    "    handle = Entrez.efetch(db=database, id=accession, rettype=format, retmode=\"text\")\n",
    "    record = SeqIO.read(handle, format)\n",
    "    handle.close()\n",
    "\n",
    "    SeqIO.write(record, filename, format)\n",
    "\n",
    "    record = SeqIO.read(filename, format)\n",
    "\n",
    "    return record\n"
   ]
  },
  {
   "cell_type": "code",
   "execution_count": 3,
   "metadata": {},
   "outputs": [],
   "source": [
    "def seq_annotations(record):\n",
    "    \"\"\"\n",
    "    função que mostra as anotações do ficheiro genbank criado\n",
    "    recebe o record obtido ao ler o ficheiro através da função read_genbank_file\n",
    "    \"\"\"\n",
    "    print(\"ID:\", record.id)\n",
    "    print(\"Name:\", record.name)\n",
    "    print(\"Description\", record.description)\n",
    "    print(\"Sequence length\", len(record))  \n",
    "    print(\"General annotations:\\n\", record.annotations)\n",
    "    if len(record.dbxrefs) != 0:\n",
    "        print(\"External Databases References:\", record.dbxrefs) "
   ]
  },
  {
   "cell_type": "code",
   "execution_count": 4,
   "metadata": {},
   "outputs": [],
   "source": [
    "def seq_features_qualifiers(record):\n",
    "    \"\"\"\n",
    "    função que mostra as features e os seus qualifiers\n",
    "    recebe o record obtido ao ler o ficheiro através da função read_genbank_file\n",
    "    \"\"\"\n",
    "    print(len(record.features), \"features\\n\")\n",
    "    print(\"Type and Location:\")\n",
    "    for feature in record.features:\n",
    "        print(feature.type, feature.location)\n",
    "    print(\"\\nQualifiers:\")\n",
    "    for k in range(len(record.features)):\n",
    "        print(record.features[k].qualifiers)"
   ]
  },
  {
   "cell_type": "markdown",
   "metadata": {},
   "source": [
    "Análise das sequências de mRNA"
   ]
  },
  {
   "cell_type": "markdown",
   "metadata": {},
   "source": [
    "Anotações das sequências de mRNA"
   ]
  },
  {
   "cell_type": "code",
   "execution_count": 5,
   "metadata": {},
   "outputs": [
    {
     "name": "stdout",
     "output_type": "stream",
     "text": [
      "ID: HF584130.1\n",
      "Name: HF584130\n",
      "Description Homo sapiens C11orf30 gene for alternative protein C11orf30, isolate 110393\n",
      "Sequence length 141\n",
      "General annotations:\n",
      " {'molecule_type': 'DNA', 'topology': 'linear', 'data_file_division': 'PRI', 'date': '25-SEP-2013', 'accessions': ['HF584130'], 'sequence_version': 1, 'keywords': [''], 'source': 'Homo sapiens (human)', 'organism': 'Homo sapiens', 'taxonomy': ['Eukaryota', 'Metazoa', 'Chordata', 'Craniata', 'Vertebrata', 'Euteleostomi', 'Mammalia', 'Eutheria', 'Euarchontoglires', 'Primates', 'Haplorrhini', 'Catarrhini', 'Hominidae', 'Homo'], 'references': [Reference(title='Direct detection of alternative open reading frames translation products in human significantly expands the proteome', ...), Reference(title='Direct Submission', ...)]}\n"
     ]
    }
   ],
   "source": [
    "seq_annotations(access_ncbi_seq(\"444739122\", \"nucleotide\", \"gb\", \"C11ORF30_mrna\")) # annotations C11ORF30_mrna"
   ]
  },
  {
   "cell_type": "code",
   "execution_count": 6,
   "metadata": {},
   "outputs": [],
   "source": [
    "#seq_annotations(access_ncbi_seq(\"444739122\", \"nucleotide\", \"gb\", \"C11ORF30_mrna\")) # annotations C11ORF30_mrna"
   ]
  },
  {
   "cell_type": "code",
   "execution_count": 7,
   "metadata": {},
   "outputs": [],
   "source": [
    "#seq_annotations(access_ncbi_seq(\"\", \"nucleotide\", \"gb\", \"_mrna\")) # annotations"
   ]
  },
  {
   "cell_type": "code",
   "execution_count": 8,
   "metadata": {},
   "outputs": [],
   "source": [
    "#seq_annotations(access_ncbi_seq(\"\", \"nucleotide\", \"gb\", \"_mrna\")) # annotations "
   ]
  },
  {
   "cell_type": "markdown",
   "metadata": {},
   "source": [
    "Features e qualifiers das sequências de mRNA"
   ]
  },
  {
   "cell_type": "code",
   "execution_count": 9,
   "metadata": {},
   "outputs": [
    {
     "name": "stdout",
     "output_type": "stream",
     "text": [
      "3 features\n",
      "\n",
      "Type and Location:\n",
      "source [0:141](+)\n",
      "gene [0:141](+)\n",
      "CDS [0:141](+)\n",
      "\n",
      "Qualifiers:\n",
      "{'organism': ['Homo sapiens'], 'mol_type': ['genomic DNA'], 'db_xref': ['taxon:9606']}\n",
      "{'gene': ['C11orf30']}\n",
      "{'gene': ['C11orf30'], 'codon_start': ['1'], 'product': ['alternative protein C11orf30'], 'protein_id': ['CCQ43627.1'], 'db_xref': ['UniProtKB/TrEMBL:L8ECI5'], 'translation': ['MLLLMQLSSIMHLFQCLQKQEARKWFAIPTQVPRQPQPLPLFQVAA']}\n"
     ]
    }
   ],
   "source": [
    "seq_features_qualifiers(access_ncbi_seq(\"444739122\", \"nucleotide\", \"gb\", \"C11ORF30_mrna\")) # features, qualifiers C11ORF3O_mrna"
   ]
  },
  {
   "cell_type": "code",
   "execution_count": 10,
   "metadata": {},
   "outputs": [],
   "source": [
    "#seq_features_qualifiers(access_ncbi_seq(\"\", \"nucleotide\", \"gb\", \"_mrna\"))"
   ]
  },
  {
   "cell_type": "code",
   "execution_count": 11,
   "metadata": {},
   "outputs": [],
   "source": [
    "#seq_features_qualifiers(access_ncbi_seq(\"\", \"nucleotide\", \"gb\", \"_mrna\"))"
   ]
  },
  {
   "cell_type": "code",
   "execution_count": 12,
   "metadata": {},
   "outputs": [],
   "source": [
    "#seq_features_qualifiers(access_ncbi_seq(\"\", \"nucleotide\", \"gb\", \"_mrna\"))"
   ]
  },
  {
   "cell_type": "markdown",
   "metadata": {},
   "source": [
    "Análise das sequências de proteína"
   ]
  },
  {
   "cell_type": "markdown",
   "metadata": {},
   "source": [
    "Anotações das sequências de proteína"
   ]
  },
  {
   "cell_type": "code",
   "execution_count": 13,
   "metadata": {},
   "outputs": [
    {
     "name": "stdout",
     "output_type": "stream",
     "text": [
      "ID: Q7Z589.2\n",
      "Name: EMSY_HUMAN\n",
      "Description RecName: Full=BRCA2-interacting transcriptional repressor EMSY\n",
      "Sequence length 1322\n",
      "General annotations:\n",
      " {'topology': 'linear', 'data_file_division': 'PRI', 'date': '08-NOV-2023', 'accessions': ['Q7Z589'], 'sequence_version': 2, 'keywords': ['3D-structure', 'Alternative splicing', 'Chromatin regulator', 'DNA damage', 'DNA repair', 'Glycoprotein', 'Nucleus', 'Phosphoprotein', 'Reference proteome', 'Repressor', 'Transcription', 'Transcription regulation'], 'source': 'Homo sapiens (human)', 'organism': 'Homo sapiens', 'taxonomy': ['Eukaryota', 'Metazoa', 'Chordata', 'Craniata', 'Vertebrata', 'Euteleostomi', 'Mammalia', 'Eutheria', 'Euarchontoglires', 'Primates', 'Haplorrhini', 'Catarrhini', 'Hominidae', 'Homo'], 'db_source': 'UniProtKB: locus EMSY_HUMAN, accession Q7Z589; class: standard. extra accessions:B7ZKT8,B7ZKU0,B7ZKU2,Q17RM7,Q4G109,Q8NBU6,Q8TE50,Q9H8I9, Q9NRH0 created: May 24, 2004. sequence updated: May 24, 2004. annotation updated: Nov 8, 2023. xrefs: AJ430203.1, CAD22881.1, AP002360.4, AP003165.2, CH471076.1, EAW74998.1, BC029375.1, AAH29375.1, BC033404.1, AAH33404.1, BC117265.1, AAI17266.1, BC143370.1, AAI43371.1, BC143374.1, AAI43375.1, BC143376.1, AAI43377.1, AK023651.1, BAB14627.1, AY070433.1, AAL65260.1, AF226047.1, AAF86947.1, NP_001287871.1, NP_001287872.1, NP_001287873.1, NP_064578.2, 1UTU_A, 1UTU_B, 1UZ3_A, 1UZ3_B, 2FMM_E xrefs (non-sequence databases): CCDS:CCDS73349.1, CCDS:CCDS73350.1, CCDS:CCDS73351.1, CCDS:CCDS8244.1, PDBsum:1UTU, PDBsum:1UZ3, PDBsum:2FMM, AlphaFoldDB:Q7Z589, SMR:Q7Z589, BioGRID:121270, CORUM:Q7Z589, DIP:DIP-29099N, IntAct:Q7Z589, MINT:Q7Z589, STRING:9606.ENSP00000433205, GlyConnect:1657, GlyCosmos:Q7Z589, GlyGen:Q7Z589, iPTMnet:Q7Z589, PhosphoSitePlus:Q7Z589, BioMuta:EMSY, DMDM:47605660, EPD:Q7Z589, jPOST:Q7Z589, MassIVE:Q7Z589, MaxQB:Q7Z589, PaxDb:9606-ENSP00000433205, PeptideAtlas:Q7Z589, ProteomicsDB:61157, ProteomicsDB:7194, ProteomicsDB:7195, ProteomicsDB:7196, Pumba:Q7Z589, Antibodypedia:31192, DNASU:56946, Ensembl:ENST00000334736.7, Ensembl:ENSP00000334130.3, Ensembl:ENSG00000158636.17, Ensembl:ENST00000524767.5, Ensembl:ENSP00000433205.1, Ensembl:ENST00000525038.5, Ensembl:ENSP00000436968.1, Ensembl:ENST00000525919.5, Ensembl:ENSP00000432010.1, Ensembl:ENST00000529032.5, Ensembl:ENSP00000432327.1, Ensembl:ENST00000533248.5, Ensembl:ENSP00000433634.1, Ensembl:ENST00000533988.5, Ensembl:ENSP00000434665.1, Ensembl:ENST00000695367.1, Ensembl:ENSP00000511840.1, GeneID:56946, KEGG:hsa:56946, MANE-Select:ENST00000695367.1, UCSC:uc001oxj.4, AGR:HGNC:18071, CTD:56946, DisGeNET:56946, GeneCards:EMSY, HGNC:18071, HPA:ENSG00000158636, MIM:608574, neXtProt:NX_Q7Z589, OpenTargets:ENSG00000158636, PharmGKB:PA134904392, VEuPathDB:HostDB:ENSG00000158636, eggNOG:KOG4675, GeneTree:ENSGT00390000009554, HOGENOM:CLU_197021_0_0_1, InParanoid:Q7Z589, OMA:EYITTEC, OrthoDB:5401671at2759, PhylomeDB:Q7Z589, TreeFam:TF332401, PathwayCommons:Q7Z589, SignaLink:Q7Z589, SIGNOR:Q7Z589, BioGRID-ORCS:56946, ChiTaRS:EMSY, EvolutionaryTrace:Q7Z589, GeneWiki:C11orf30, GenomeRNAi:56946, Pharos:Q7Z589, PRO:PR:Q7Z589, Proteomes:UP000005640, RNAct:Q7Z589, Bgee:ENSG00000158636, ExpressionAtlas:Q7Z589, Genevisible:Q7Z589, GO:0005654, GO:0042802, GO:0006325, GO:0006281, GO:0006355, Gene3D:1.10.1240.40, IDEAL:IID00281, InterPro:IPR033482, InterPro:IPR005491, InterPro:IPR036142, PANTHER:PTHR16500, PANTHER:PTHR16500:SF3, Pfam:PF03735, SMART:SM01191, SUPFAM:SSF158639, PROSITE:PS51138', 'references': [Reference(title='EMSY links the BRCA2 pathway to sporadic breast and ovarian cancer', ...), Reference(title='Human chromosome 11 DNA sequence and analysis including novel gene identification', ...), Reference(title='Direct Submission', ...), Reference(title='The status, quality, and expansion of the NIH full-length cDNA project: the Mammalian Gene Collection (MGC)', ...), Reference(title='Complete sequencing and characterization of 21,243 full-length human cDNAs', ...), Reference(title='Direct Submission', ...), Reference(title='Direct Submission', ...), Reference(title='A probability-based approach for high-throughput protein phosphorylation analysis and site localization', ...), Reference(title='A quantitative atlas of mitotic phosphorylation', ...), Reference(title='Lys-N and trypsin cover complementary parts of the phosphoproteome in a refined SCX-based approach', ...), Reference(title='Identification and characterization of a novel nuclear protein complex involved in nuclear hormone receptor-mediated gene regulation', ...), Reference(title='Quantitative phosphoproteomic analysis of T cell receptor signaling reveals system-wide modulation of protein-protein interactions', ...), Reference(title='Extensive crosstalk between O-GlcNAcylation and phosphorylation regulates cytokinesis', ...), Reference(title='Quantitative phosphoproteomics reveals widespread full phosphorylation site occupancy during mitosis', ...), Reference(title='System-wide temporal characterization of the proteome and phosphoproteome of human embryonic stem cell differentiation', ...), Reference(title='Toward a comprehensive characterization of a human cancer cell phosphoproteome', ...), Reference(title='An enzyme assisted RP-RPLC approach for in-depth analysis of human liver phosphoproteome', ...), Reference(title='Binding of EMSY to HP1beta: implications for recruitment of HP1beta and BS69', ...), Reference(title='Crystal structure of the ENT domain of human EMSY', ...), Reference(title='Crystal structure of the HP1-EMSY complex reveals an unusual mode of HP1 binding', ...)], 'comment': \"On Apr 18, 2014 this sequence version replaced gi:121948233.\\n[FUNCTION] Regulator which is able to repress transcription,\\npossibly via its interaction with a multiprotein chromatin\\nremodeling complex that modifies the chromatin (PubMed:14651845).\\nIts interaction with BRCA2 suggests that it may play a central role\\nin the DNA repair function of BRCA2 (PubMed:14651845). Mediates\\nligand-dependent transcriptional activation by nuclear hormone\\nreceptors (PubMed:19131338). {ECO:0000269|PubMed:14651845,\\nECO:0000269|PubMed:19131338}.\\n[SUBUNIT] Homodimer (PubMed:15978617). Interacts with the\\ntransactivation domain of BRCA2 (PubMed:14651845). Interacts with\\nCBX1 (via chromoshadow domain) (PubMed:14651845, PubMed:16615912).\\nInteracts with ZMYND11 (PubMed:14651845, PubMed:15947784). Does not\\ninteract with CBX3 or CBX5 (PubMed:14651845). Component of a\\nnuclear receptor-mediated transcription complex composed of at\\nleast ZNF335, CCAR2 and EMSY; the complex stimulates the\\ntranscription of nuclear receptor target genes such as SOX9 and\\nHOXA1 (PubMed:19131338). Within the complex interacts with CCAR2\\nand ZNF335 (PubMed:19131338). Components of this complex may\\nassociate with components of a histone methylation complex to form\\na complex at least composed of ZNF335, HCFC1, CCAR2, EMSY, MKI67,\\nRBBP5, ASH2L and WDR5 (PubMed:19131338). Within this complex,\\ninteracts with ASH2L and RBBP5 (PubMed:19131338).\\n{ECO:0000269|PubMed:14651845, ECO:0000269|PubMed:15947784,\\nECO:0000269|PubMed:15978617, ECO:0000269|PubMed:16615912,\\nECO:0000269|PubMed:19131338}.\\n[INTERACTION] Q7Z589; P83916: CBX1; NbExp=3; IntAct=EBI-6598631,\\nEBI-78129; Q7Z589; P35638-2: DDIT3; NbExp=3; IntAct=EBI-6598631,\\nEBI-10173632; Q7Z589; O15015: ZNF646; NbExp=3; IntAct=EBI-6598631,\\nEBI-745608; Q7Z589-5; Q96BJ3: AIDA; NbExp=3; IntAct=EBI-11989522,\\nEBI-4401674; Q7Z589-5; Q5SYC1: CLVS2; NbExp=3; IntAct=EBI-11989522,\\nEBI-12357161; Q7Z589-5; P35638: DDIT3; NbExp=3;\\nIntAct=EBI-11989522, EBI-742651; Q7Z589-5; Q9NRI5-2: DISC1;\\nNbExp=3; IntAct=EBI-11989522, EBI-11988027; Q7Z589-5; O43681: GET3;\\nNbExp=3; IntAct=EBI-11989522, EBI-2515857; Q7Z589-5; Q8N485: LIX1;\\nNbExp=3; IntAct=EBI-11989522, EBI-10694501; Q7Z589-5; P25786:\\nPSMA1; NbExp=3; IntAct=EBI-11989522, EBI-359352.\\n[SUBCELLULAR LOCATION] Nucleus {ECO:0000269|PubMed:14651845}.\\nNote=Localizes to DNA damage markers in irradiated cells,\\nsuggesting that it participates in DNA repair process.\\n[ALTERNATIVE PRODUCTS] Event=Alternative splicing; Named\\nisoforms=7; Name=1; IsoId=Q7Z589-1; Sequence=Displayed; Name=2;\\nIsoId=Q7Z589-2; Sequence=VSP_010431; Name=3; IsoId=Q7Z589-3;\\nSequence=VSP_020774, VSP_020775; Name=4; IsoId=Q7Z589-4;\\nSequence=VSP_054139, VSP_054140, VSP_054143; Name=5;\\nIsoId=Q7Z589-5; Sequence=VSP_054140; Name=6; IsoId=Q7Z589-6;\\nSequence=VSP_054139, VSP_054141, VSP_054142; Name=7;\\nIsoId=Q7Z589-7; Sequence=VSP_054139, VSP_054140.\\n[PTM] O-glycosylated during cytokinesis at sites identical or close\\nto phosphorylation sites, this interferes with the phosphorylation\\nstatus. {ECO:0000269|PubMed:20068230}.\\n[MISCELLANEOUS] Defects in EMSY may be a cause of sporadic breast\\ncancer and higher-grade ovarian cancers. Overexpressed through\\namplification almost exclusively in sporadic breast cancer (13%)\\nand higher-grade ovarian cancer (17%). Amplification is associated\\nwith worse survival, particularly in node-negative breast cancer,\\nsuggesting that it may be of prognostic value.\\n[MISCELLANEOUS] Was named EMSY by PubMed:14651845 because the\\nprotein sequence contains the word 'SISTER', after the first\\nauthor's sister, who is a breast cancer nurse.\\n[SEQUENCE CAUTION] Sequence=AAF86947.1; Type=Erroneous initiation;\\nEvidence={ECO:0000305}; Sequence=AAH29375.1; Type=Erroneous\\ninitiation; Evidence={ECO:0000305}; Sequence=AAL65260.1;\\nType=Erroneous initiation; Evidence={ECO:0000305};\\nSequence=BAB14627.1; Type=Erroneous initiation;\\nEvidence={ECO:0000305}.\\n[WEB RESOURCE] Name=Atlas of Genetics and Cytogenetics in Oncology\\nand Haematology;\\nURL='https://atlasgeneticsoncology.org/gene/173/C11ORF30'.\", 'molecule_type': 'protein'}\n"
     ]
    },
    {
     "name": "stderr",
     "output_type": "stream",
     "text": [
      "c:\\Users\\Asus\\AppData\\Local\\Programs\\Python\\Python37\\lib\\site-packages\\Bio\\SeqIO\\InsdcIO.py:550: BiopythonWarning: Annotation 'UniProtKB: locus EMSY_HUMAN, accession Q7Z589; class: standard. extra accessions:B7ZKT8,B7ZKU0,B7ZKU2,Q17RM7,Q4G109,Q8NBU6,Q8TE50,Q9H8I9, Q9NRH0 created: May 24, 2004. sequence updated: May 24, 2004. annotation updated: Nov 8, 2023. xrefs: AJ430203.1, CAD22881.1, AP002360.4, AP003165.2, CH471076.1, EAW74998.1, BC029375.1, AAH29375.1, BC033404.1, AAH33404.1, BC117265.1, AAI17266.1, BC143370.1, AAI43371.1, BC143374.1, AAI43375.1, BC143376.1, AAI43377.1, AK023651.1, BAB14627.1, AY070433.1, AAL65260.1, AF226047.1, AAF86947.1, NP_001287871.1, NP_001287872.1, NP_001287873.1, NP_064578.2, 1UTU_A, 1UTU_B, 1UZ3_A, 1UZ3_B, 2FMM_E xrefs (non-sequence databases): CCDS:CCDS73349.1, CCDS:CCDS73350.1, CCDS:CCDS73351.1, CCDS:CCDS8244.1, PDBsum:1UTU, PDBsum:1UZ3, PDBsum:2FMM, AlphaFoldDB:Q7Z589, SMR:Q7Z589, BioGRID:121270, CORUM:Q7Z589, DIP:DIP-29099N, IntAct:Q7Z589, MINT:Q7Z589, STRING:9606.ENSP00000433205, GlyConnect:1657, GlyCosmos:Q7Z589, GlyGen:Q7Z589, iPTMnet:Q7Z589, PhosphoSitePlus:Q7Z589, BioMuta:EMSY, DMDM:47605660, EPD:Q7Z589, jPOST:Q7Z589, MassIVE:Q7Z589, MaxQB:Q7Z589, PaxDb:9606-ENSP00000433205, PeptideAtlas:Q7Z589, ProteomicsDB:61157, ProteomicsDB:7194, ProteomicsDB:7195, ProteomicsDB:7196, Pumba:Q7Z589, Antibodypedia:31192, DNASU:56946, Ensembl:ENST00000334736.7, Ensembl:ENSP00000334130.3, Ensembl:ENSG00000158636.17, Ensembl:ENST00000524767.5, Ensembl:ENSP00000433205.1, Ensembl:ENST00000525038.5, Ensembl:ENSP00000436968.1, Ensembl:ENST00000525919.5, Ensembl:ENSP00000432010.1, Ensembl:ENST00000529032.5, Ensembl:ENSP00000432327.1, Ensembl:ENST00000533248.5, Ensembl:ENSP00000433634.1, Ensembl:ENST00000533988.5, Ensembl:ENSP00000434665.1, Ensembl:ENST00000695367.1, Ensembl:ENSP00000511840.1, GeneID:56946, KEGG:hsa:56946, MANE-Select:ENST00000695367.1, UCSC:uc001oxj.4, AGR:HGNC:18071, CTD:56946, DisGeNET:56946, GeneCards:EMSY, HGNC:18071, HPA:ENSG00000158636, MIM:608574, neXtProt:NX_Q7Z589, OpenTargets:ENSG00000158636, PharmGKB:PA134904392, VEuPathDB:HostDB:ENSG00000158636, eggNOG:KOG4675, GeneTree:ENSGT00390000009554, HOGENOM:CLU_197021_0_0_1, InParanoid:Q7Z589, OMA:EYITTEC, OrthoDB:5401671at2759, PhylomeDB:Q7Z589, TreeFam:TF332401, PathwayCommons:Q7Z589, SignaLink:Q7Z589, SIGNOR:Q7Z589, BioGRID-ORCS:56946, ChiTaRS:EMSY, EvolutionaryTrace:Q7Z589, GeneWiki:C11orf30, GenomeRNAi:56946, Pharos:Q7Z589, PRO:PR:Q7Z589, Proteomes:UP000005640, RNAct:Q7Z589, Bgee:ENSG00000158636, ExpressionAtlas:Q7Z589, Genevisible:Q7Z589, GO:0005654, GO:0042802, GO:0006325, GO:0006281, GO:0006355, Gene3D:1.10.1240.40, IDEAL:IID00281, InterPro:IPR033482, InterPro:IPR005491, InterPro:IPR036142, PANTHER:PTHR16500, PANTHER:PTHR16500:SF3, Pfam:PF03735, SMART:SM01191, SUPFAM:SSF158639, PROSITE:PS51138' too long for 'DBSOURCE' line\n",
      "  f\"Annotation {text!r} too long for {tag!r} line\", BiopythonWarning\n"
     ]
    }
   ],
   "source": [
    "seq_annotations(access_ncbi_seq(\"47605660\", \"protein\", \"gb\", \"C11ORF_protein\")) # annotations C11ORF30_protein"
   ]
  },
  {
   "cell_type": "markdown",
   "metadata": {},
   "source": [
    "Features e qualifiers das sequências de proteína"
   ]
  },
  {
   "cell_type": "code",
   "execution_count": 14,
   "metadata": {},
   "outputs": [
    {
     "name": "stdout",
     "output_type": "stream",
     "text": [
      "52 features\n",
      "\n",
      "Type and Location:\n",
      "source [0:1322]\n",
      "gene [0:1322]\n",
      "Protein [0:1322]\n",
      "Region [0:1322]\n",
      "Region [0:478]\n",
      "Region [6:9]\n",
      "Region [12:38]\n",
      "Region [15:100]\n",
      "Region [16:86]\n",
      "Region [42:55]\n",
      "Region [59:71]\n",
      "Region [73:84]\n",
      "Region [81:82]\n",
      "Region [81:82]\n",
      "Region [82:1322]\n",
      "Region [89:97]\n",
      "Region [97:103]\n",
      "Site [99:102]\n",
      "Region [103:108]\n",
      "Site [105:106]\n",
      "Region [107:110]\n",
      "Region [111:116]\n",
      "Region [121:124]\n",
      "Region [139:140]\n",
      "Region [147:178]\n",
      "Region [191:215]\n",
      "Site [206:207]\n",
      "Site [208:209]\n",
      "Site [212:213]\n",
      "Site [227:228]\n",
      "Site [235:236]\n",
      "Site [237:238]\n",
      "Site [270:271]\n",
      "Region [416:444]\n",
      "Region [416:438]\n",
      "Site [500:501]\n",
      "Site [505:506]\n",
      "Site [556:557]\n",
      "Region [697:736]\n",
      "Region [732:747]\n",
      "Region [747:852]\n",
      "Site [817:818]\n",
      "Site [820:821]\n",
      "Region [838:852]\n",
      "Region [<949:1121]\n",
      "Region [1090:1257]\n",
      "Site [1119:1120]\n",
      "Site [1135:1136]\n",
      "Region [1204:1231]\n",
      "Region [1204:1223]\n",
      "Region [1289:1322]\n",
      "Region [1306:1322]\n",
      "\n",
      "Qualifiers:\n",
      "{'organism': ['Homo sapiens'], 'db_xref': ['taxon:9606']}\n",
      "{'gene': ['EMSY'], 'locus_tag': ['GL002'], 'gene_synonym': ['C11orf30']}\n",
      "{'product': ['BRCA2-interacting transcriptional repressor EMSY'], 'UniProtKB_evidence': ['Evidence at protein level']}\n",
      "{'region_name': ['Mature chain'], 'note': ['BRCA2-interacting transcriptional repressor EMSY. /id=PRO_0000086968.']}\n",
      "{'region_name': ['Region of interest in the sequence'], 'note': ['Interaction with BRCA2. /evidence=ECO:0000269|PubMed:14651845.']}\n",
      "{'region_name': ['Helical region'], 'note': ['/evidence=ECO:0007829|PDB:1UZ3.']}\n",
      "{'region_name': ['Helical region'], 'note': ['/evidence=ECO:0007829|PDB:1UZ3.']}\n",
      "{'region_name': ['Domain'], 'note': ['ENT. /evidence=ECO:0000255|PROSITE-ProRule:PRU00476.']}\n",
      "{'region_name': ['ENT'], 'note': ['ENT domain; pfam03735'], 'db_xref': ['CDD:427473']}\n",
      "{'region_name': ['Helical region'], 'note': ['/evidence=ECO:0007829|PDB:1UZ3.']}\n",
      "{'region_name': ['Helical region'], 'note': ['/evidence=ECO:0007829|PDB:1UZ3.']}\n",
      "{'region_name': ['Helical region'], 'note': ['/evidence=ECO:0007829|PDB:1UZ3.']}\n",
      "{'region_name': ['Splicing variant'], 'note': ['N -> K (in isoform 3). /evidence=ECO:0000303|PubMed:15489334. /id=VSP_020774.']}\n",
      "{'region_name': ['Splicing variant'], 'note': ['N -> KMNLSLYLGERPSYS (in isoform 4, isoform 6 and isoform 7). /evidence=ECO:0000303|PubMed:15489334. /id=VSP_054139.']}\n",
      "{'region_name': ['Splicing variant'], 'note': ['Missing (in isoform 3). /evidence=ECO:0000303|PubMed:15489334. /id=VSP_020775.']}\n",
      "{'region_name': ['Helical region'], 'note': ['/evidence=ECO:0007829|PDB:1UZ3.']}\n",
      "{'region_name': ['Beta-strand region'], 'note': ['/evidence=ECO:0007829|PDB:2FMM.']}\n",
      "{'site_type': ['mutagenized'], 'note': ['VPL->APA: Abolishes interaction with CBX1. /evidence=ECO:0000269|PubMed:14651845.']}\n",
      "{'region_name': ['Region of interest in the sequence'], 'note': ['Interaction with ZMYND11.']}\n",
      "{'site_type': ['mutagenized'], 'note': ['L->A: Abolishes interaction with ZMYND11. /evidence=ECO:0000269|PubMed:14651845.']}\n",
      "{'region_name': ['Helical region'], 'note': ['/evidence=ECO:0007829|PDB:2FMM.']}\n",
      "{'region_name': ['Beta-strand region'], 'note': ['/evidence=ECO:0007829|PDB:2FMM.']}\n",
      "{'region_name': ['Beta-strand region'], 'note': ['/evidence=ECO:0007829|PDB:2FMM.']}\n",
      "{'region_name': ['Splicing variant'], 'note': ['E -> EV (in isoform 4, isoform 5 and isoform 7). /evidence=ECO:0000303|PubMed:15489334. /id=VSP_054140.']}\n",
      "{'region_name': ['Region of interest in the sequence'], 'note': ['Disordered. /evidence=ECO:0000256|SAM:MobiDB-lite.']}\n",
      "{'region_name': ['Region of interest in the sequence'], 'note': ['Disordered. /evidence=ECO:0000256|SAM:MobiDB-lite.']}\n",
      "{'site_type': ['phosphorylation'], 'note': ['Phosphothreonine. /evidence=ECO:0007744|PubMed:19690332, ECO:0007744|PubMed:23186163.']}\n",
      "{'site_type': ['phosphorylation'], 'note': ['Phosphoserine. /evidence=ECO:0007744|PubMed:18669648, ECO:0007744|PubMed:20068231, ECO:0007744|PubMed:21406692, ECO:0007744|PubMed:23186163.']}\n",
      "{'site_type': ['phosphorylation'], 'note': ['Phosphoserine. /evidence=ECO:0000250|UniProtKB:Q8BMB0.']}\n",
      "{'site_type': ['glycosylation'], 'note': ['O-linked (GlcNAc) serine. /evidence=ECO:0000269|PubMed:20068230.']}\n",
      "{'site_type': ['glycosylation'], 'note': ['O-linked (GlcNAc) serine. /evidence=ECO:0000269|PubMed:20068230.']}\n",
      "{'site_type': ['phosphorylation'], 'note': ['Phosphoserine. /evidence=ECO:0007744|PubMed:23186163.']}\n",
      "{'site_type': ['glycosylation'], 'note': ['O-linked (GlcNAc) threonine. /evidence=ECO:0000269|PubMed:20068230.']}\n",
      "{'region_name': ['Region of interest in the sequence'], 'note': ['Disordered. /evidence=ECO:0000256|SAM:MobiDB-lite.']}\n",
      "{'region_name': ['Compositionally biased region'], 'note': ['Polar residues. /evidence=ECO:0000256|SAM:MobiDB-lite.']}\n",
      "{'site_type': ['glycosylation'], 'note': ['O-linked (GlcNAc) threonine. /evidence=ECO:0000269|PubMed:20068230.']}\n",
      "{'site_type': ['glycosylation'], 'note': ['O-linked (GlcNAc) threonine. /evidence=ECO:0000269|PubMed:20068230.']}\n",
      "{'site_type': ['glycosylation'], 'note': ['O-linked (GlcNAc) serine. /evidence=ECO:0000269|PubMed:20068230.']}\n",
      "{'region_name': ['Region of interest in the sequence'], 'note': ['Disordered. /evidence=ECO:0000256|SAM:MobiDB-lite.']}\n",
      "{'region_name': ['Splicing variant'], 'note': ['SQPVVHVIASRRQDW -> AVVISGEISSPPLFS (in isoform 6). /evidence=ECO:0000303|PubMed:15489334. /id=VSP_054141.']}\n",
      "{'region_name': ['Splicing variant'], 'note': ['Missing (in isoform 6). /evidence=ECO:0000303|PubMed:15489334. /id=VSP_054142.']}\n",
      "{'site_type': ['phosphorylation'], 'note': ['Phosphoserine. /evidence=ECO:0000250|UniProtKB:Q8BMB0.']}\n",
      "{'site_type': ['phosphorylation'], 'note': ['Phosphoserine. /evidence=ECO:0000250|UniProtKB:Q8BMB0.']}\n",
      "{'region_name': ['Splicing variant'], 'note': ['Missing (in isoform 4). /evidence=ECO:0000303|PubMed:15489334. /id=VSP_054143.']}\n",
      "{'region_name': ['PABP-1234'], 'note': ['polyadenylate binding protein, human types 1, 2, 3, 4 family; TIGR01628'], 'db_xref': ['CDD:130689']}\n",
      "{'region_name': ['Splicing variant'], 'note': ['Missing (in isoform 2). /evidence=ECO:0000303|Ref.6. /id=VSP_010431.']}\n",
      "{'site_type': ['glycosylation'], 'note': ['O-linked (GlcNAc) threonine. /evidence=ECO:0000269|PubMed:20068230.']}\n",
      "{'site_type': ['phosphorylation'], 'note': ['Phosphoserine. /evidence=ECO:0007744|PubMed:16964243, ECO:0007744|PubMed:18669648, ECO:0007744|PubMed:20068231, ECO:0007744|PubMed:23186163.']}\n",
      "{'region_name': ['Region of interest in the sequence'], 'note': ['Disordered. /evidence=ECO:0000256|SAM:MobiDB-lite.']}\n",
      "{'region_name': ['Compositionally biased region'], 'note': ['Polar residues. /evidence=ECO:0000256|SAM:MobiDB-lite.']}\n",
      "{'region_name': ['Region of interest in the sequence'], 'note': ['Disordered. /evidence=ECO:0000256|SAM:MobiDB-lite.']}\n",
      "{'region_name': ['Compositionally biased region'], 'note': ['Polar residues. /evidence=ECO:0000256|SAM:MobiDB-lite.']}\n"
     ]
    }
   ],
   "source": [
    "seq_features_qualifiers(access_ncbi_seq(\"47605660\", \"protein\", \"gb\", \"C11ORF30_protein\")) # features, qualifiers C11ORF30_protein"
   ]
  },
  {
   "cell_type": "code",
   "execution_count": null,
   "metadata": {},
   "outputs": [],
   "source": []
  }
 ],
 "metadata": {
  "kernelspec": {
   "display_name": "base",
   "language": "python",
   "name": "python3"
  },
  "language_info": {
   "codemirror_mode": {
    "name": "ipython",
    "version": 3
   },
   "file_extension": ".py",
   "mimetype": "text/x-python",
   "name": "python",
   "nbconvert_exporter": "python",
   "pygments_lexer": "ipython3",
   "version": "3.7.1"
  }
 },
 "nbformat": 4,
 "nbformat_minor": 2
}
