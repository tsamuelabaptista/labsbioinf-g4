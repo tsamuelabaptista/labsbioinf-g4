{
 "cells": [
  {
   "cell_type": "markdown",
   "metadata": {},
   "source": [
    "# Análise de homologias por BLAST"
   ]
  },
  {
   "cell_type": "code",
   "execution_count": 3,
   "metadata": {},
   "outputs": [],
   "source": [
    "from Bio.Blast import NCBIXML \n",
    "from Bio.Blast import NCBIWWW "
   ]
  },
  {
   "cell_type": "code",
   "execution_count": 4,
   "metadata": {},
   "outputs": [],
   "source": [
    "def blast(accession : str, program : str, database : str, filename : str):\n",
    "    \"\"\"\n",
    "    função que executa um blast de uma sequência do NCBI e guarda o resultado\n",
    "    recebe o identificador da seq no NCBI, o tipo de programa de blast, a base de dados usada \n",
    "    e o nome do ficheiro que queremos guardar a informação\n",
    "    \"\"\"\n",
    "    result_handle = NCBIWWW.qblast(program, database, accession)\n",
    "\n",
    "    save_file = open(filename, \"w\")\n",
    "    save_file.write(result_handle.read())\n",
    "    save_file.close()\n",
    "    result_handle.close()\n",
    "\n",
    "    result_handle = open(filename)\n",
    "\n",
    "    blast_record = NCBIXML.read(result_handle)\n",
    "\n",
    "    return blast_record"
   ]
  },
  {
   "cell_type": "code",
   "execution_count": 5,
   "metadata": {},
   "outputs": [],
   "source": [
    "def blast_filter(blast_record, e_value_threshold : float, coverage_threshold : float, per_identity_threshold : float):\n",
    "    filtered_alignments = []\n",
    "    for alignment in blast_record.alignments:\n",
    "        for hsp in alignment.hsps:\n",
    "            # coverage = hsp.align_length / blast_record.query_length\n",
    "            e_value = hsp.expect\n",
    "            coverage = (hsp.query_end - hsp.query_start + 1) / blast_record.query_length * 100\n",
    "            per_identity = (hsp.identities / hsp.align_length) * 100\n",
    "            if e_value <= e_value_threshold and coverage >= coverage_threshold and per_identity >= per_identity_threshold:\n",
    "                print('\\n****Alignment****')\n",
    "                print('acession:', alignment.accession)\n",
    "                print('title:', alignment.title)\n",
    "                print('alignment length:', alignment.length)\n",
    "                print('e value:', hsp.expect)\n",
    "                #print('hsp length:', hsp.align_length)\n",
    "                #print('hsps:', len(alignment.hsps))\n",
    "                filtered_alignments.append(alignment)\n",
    "    return filtered_alignments"
   ]
  },
  {
   "cell_type": "markdown",
   "metadata": {},
   "source": [
    "## Gene FLG"
   ]
  },
  {
   "cell_type": "markdown",
   "metadata": {},
   "source": [
    "BLAST contra a base de dados swissprot"
   ]
  },
  {
   "cell_type": "code",
   "execution_count": 16,
   "metadata": {},
   "outputs": [],
   "source": [
    "flg_swissprot_blast_record = blast(\"60097902\", \"blastp\", \"swissprot\", \"flg_protein_blast\")"
   ]
  },
  {
   "cell_type": "code",
   "execution_count": 17,
   "metadata": {},
   "outputs": [
    {
     "name": "stdout",
     "output_type": "stream",
     "text": [
      "22 hits\n"
     ]
    }
   ],
   "source": [
    "print(len(flg_swissprot_blast_record.alignments), \"hits\")"
   ]
  },
  {
   "cell_type": "code",
   "execution_count": 20,
   "metadata": {},
   "outputs": [
    {
     "name": "stdout",
     "output_type": "stream",
     "text": [
      "\n",
      "****Alignment****\n",
      "acession: P20930\n",
      "title: sp|P20930.3| RecName: Full=Filaggrin [Homo sapiens]\n",
      "alignment length: 4061\n",
      "e value: 0.0\n"
     ]
    },
    {
     "data": {
      "text/plain": [
       "[<Bio.Blast.Record.Alignment at 0x292ac4b4a60>]"
      ]
     },
     "execution_count": 20,
     "metadata": {},
     "output_type": "execute_result"
    }
   ],
   "source": [
    "flg_filtered_blast = blast_filter(flg_swissprot_blast_record, 0.05, 80, 80)\n",
    "flg_filtered_blast"
   ]
  },
  {
   "cell_type": "code",
   "execution_count": 21,
   "metadata": {},
   "outputs": [
    {
     "name": "stdout",
     "output_type": "stream",
     "text": [
      "1 filtered sequence\n"
     ]
    }
   ],
   "source": [
    "if len(flg_filtered_blast) == 1:\n",
    "    print(len(flg_filtered_blast), \"filtered sequence\")\n",
    "elif len(flg_filtered_blast) == 0 or len(flg_filtered_blast) >= 1:\n",
    "    print(len(flg_filtered_blast), \"filtered sequences\")"
   ]
  },
  {
   "cell_type": "markdown",
   "metadata": {},
   "source": [
    "BLAST contra a base de dados nr (non-redundant)"
   ]
  },
  {
   "cell_type": "code",
   "execution_count": null,
   "metadata": {},
   "outputs": [],
   "source": []
  },
  {
   "cell_type": "code",
   "execution_count": null,
   "metadata": {},
   "outputs": [],
   "source": []
  },
  {
   "cell_type": "code",
   "execution_count": null,
   "metadata": {},
   "outputs": [],
   "source": []
  },
  {
   "cell_type": "code",
   "execution_count": null,
   "metadata": {},
   "outputs": [],
   "source": []
  },
  {
   "cell_type": "markdown",
   "metadata": {},
   "source": [
    "**Não esquecer de ver a abrangencia taxonomica e os dominios conservados das seqs homologas e comparar com a query**"
   ]
  },
  {
   "cell_type": "markdown",
   "metadata": {},
   "source": [
    "## Gene C11ORF30"
   ]
  },
  {
   "cell_type": "markdown",
   "metadata": {},
   "source": [
    "BLAST contra a base de dados swissprot"
   ]
  },
  {
   "cell_type": "code",
   "execution_count": 25,
   "metadata": {},
   "outputs": [],
   "source": [
    "c11orf30_swissprot_blast_record = blast(\"47605660\", \"blastp\", \"swissprot\", \"c11orf30_protein_blast\")"
   ]
  },
  {
   "cell_type": "code",
   "execution_count": 26,
   "metadata": {},
   "outputs": [
    {
     "name": "stdout",
     "output_type": "stream",
     "text": [
      "3 hits\n"
     ]
    }
   ],
   "source": [
    "print(len(c11orf30_swissprot_blast_record.alignments), \"hits\")"
   ]
  },
  {
   "cell_type": "code",
   "execution_count": 27,
   "metadata": {},
   "outputs": [
    {
     "name": "stdout",
     "output_type": "stream",
     "text": [
      "\n",
      "****Alignment****\n",
      "acession: Q7Z589\n",
      "title: gi|47605660|sp|Q7Z589.2|EMSY_HUMAN RecName: Full=BRCA2-interacting transcriptional repressor EMSY\n",
      "alignment length: 1322\n",
      "e value: 0.0\n",
      "\n",
      "****Alignment****\n",
      "acession: Q8BMB0\n",
      "title: sp|Q8BMB0.2| RecName: Full=BRCA2-interacting transcriptional repressor EMSY [Mus musculus]\n",
      "alignment length: 1264\n",
      "e value: 0.0\n"
     ]
    },
    {
     "data": {
      "text/plain": [
       "[<Bio.Blast.Record.Alignment at 0x292ae8319a0>,\n",
       " <Bio.Blast.Record.Alignment at 0x292ae7fac70>]"
      ]
     },
     "execution_count": 27,
     "metadata": {},
     "output_type": "execute_result"
    }
   ],
   "source": [
    "c11orf30_filtered_blast = blast_filter(c11orf30_swissprot_blast_record, 0.05, 80, 80)\n",
    "c11orf30_filtered_blast"
   ]
  },
  {
   "cell_type": "code",
   "execution_count": null,
   "metadata": {},
   "outputs": [],
   "source": [
    "if len(c11orf30_filtered_blast) == 1:\n",
    "    print(len(c11orf30_filtered_blast), \"filtered sequence\")\n",
    "elif len(c11orf30_filtered_blast) == 0 or len(c11orf30_filtered_blast) >= 1:\n",
    "    print(len(c11orf30_filtered_blast), \"filtered sequences\")"
   ]
  },
  {
   "cell_type": "markdown",
   "metadata": {},
   "source": [
    "BLAST contra a base de dados nr (non-redundant)"
   ]
  },
  {
   "cell_type": "code",
   "execution_count": null,
   "metadata": {},
   "outputs": [],
   "source": []
  },
  {
   "cell_type": "code",
   "execution_count": null,
   "metadata": {},
   "outputs": [],
   "source": []
  },
  {
   "cell_type": "code",
   "execution_count": null,
   "metadata": {},
   "outputs": [],
   "source": []
  },
  {
   "cell_type": "code",
   "execution_count": null,
   "metadata": {},
   "outputs": [],
   "source": []
  },
  {
   "cell_type": "markdown",
   "metadata": {},
   "source": [
    "## Gene TSLP"
   ]
  },
  {
   "cell_type": "markdown",
   "metadata": {},
   "source": [
    "BLAST contra a base de dados swissprot"
   ]
  },
  {
   "cell_type": "code",
   "execution_count": 6,
   "metadata": {},
   "outputs": [],
   "source": [
    "tslp_swissprot_blast_record = blast(\"AAK67490\", \"blastp\", \"swissprot\", \"tslp_protein_blast\")"
   ]
  },
  {
   "cell_type": "code",
   "execution_count": null,
   "metadata": {},
   "outputs": [
    {
     "ename": "NameError",
     "evalue": "name 'tslp_swissprot_blast_record' is not defined",
     "output_type": "error",
     "traceback": [
      "\u001b[1;31m---------------------------------------------------------------------------\u001b[0m",
      "\u001b[1;31mNameError\u001b[0m                                 Traceback (most recent call last)",
      "\u001b[1;32m~\\AppData\\Local\\Temp\\ipykernel_18868\\3882728710.py\u001b[0m in \u001b[0;36m<module>\u001b[1;34m\u001b[0m\n\u001b[1;32m----> 1\u001b[1;33m \u001b[0mprint\u001b[0m\u001b[1;33m(\u001b[0m\u001b[0mlen\u001b[0m\u001b[1;33m(\u001b[0m\u001b[0mtslp_swissprot_blast_record\u001b[0m\u001b[1;33m.\u001b[0m\u001b[0malignments\u001b[0m\u001b[1;33m)\u001b[0m\u001b[1;33m,\u001b[0m \u001b[1;34m\"hits\"\u001b[0m\u001b[1;33m)\u001b[0m\u001b[1;33m\u001b[0m\u001b[1;33m\u001b[0m\u001b[0m\n\u001b[0m",
      "\u001b[1;31mNameError\u001b[0m: name 'tslp_swissprot_blast_record' is not defined"
     ]
    }
   ],
   "source": [
    "print(len(tslp_swissprot_blast_record.alignments), \"hits\")"
   ]
  },
  {
   "cell_type": "code",
   "execution_count": null,
   "metadata": {},
   "outputs": [],
   "source": [
    "tslp_filtered_blast = blast_filter(tslp_swissprot_blast_record, 0.05, 80, 80)\n",
    "tslp_filtered_blast"
   ]
  },
  {
   "cell_type": "code",
   "execution_count": null,
   "metadata": {},
   "outputs": [],
   "source": [
    "if len(tslp_filtered_blast) == 1:\n",
    "    print(len(tslp_filtered_blast), \"filtered sequence\")\n",
    "elif len(tslp_filtered_blast) == 0 or len(tslp_filtered_blast) >= 1:\n",
    "    print(len(tslp_filtered_blast), \"filtered sequences\")"
   ]
  },
  {
   "cell_type": "markdown",
   "metadata": {},
   "source": [
    "BLAST contra a base de dados nr (non-redundant)"
   ]
  },
  {
   "cell_type": "code",
   "execution_count": null,
   "metadata": {},
   "outputs": [],
   "source": []
  },
  {
   "cell_type": "code",
   "execution_count": null,
   "metadata": {},
   "outputs": [],
   "source": []
  },
  {
   "cell_type": "code",
   "execution_count": null,
   "metadata": {},
   "outputs": [],
   "source": []
  },
  {
   "cell_type": "code",
   "execution_count": null,
   "metadata": {},
   "outputs": [],
   "source": []
  }
 ],
 "metadata": {
  "kernelspec": {
   "display_name": "base",
   "language": "python",
   "name": "python3"
  },
  "language_info": {
   "codemirror_mode": {
    "name": "ipython",
    "version": 3
   },
   "file_extension": ".py",
   "mimetype": "text/x-python",
   "name": "python",
   "nbconvert_exporter": "python",
   "pygments_lexer": "ipython3",
   "version": "3.9.13"
  }
 },
 "nbformat": 4,
 "nbformat_minor": 2
}
