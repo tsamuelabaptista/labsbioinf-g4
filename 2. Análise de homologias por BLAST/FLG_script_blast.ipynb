{
 "cells": [
  {
   "cell_type": "markdown",
   "metadata": {},
   "source": [
    "# Análise de homologias por BLAST"
   ]
  },
  {
   "cell_type": "code",
   "execution_count": 9,
   "metadata": {},
   "outputs": [],
   "source": [
    "# importação de módulos e bibliotecas\n",
    "from Bio.Blast import NCBIXML \n",
    "from Bio.Blast import NCBIWWW "
   ]
  },
  {
   "cell_type": "code",
   "execution_count": 10,
   "metadata": {},
   "outputs": [],
   "source": [
    "def blast(accession : str, program : str, database : str, filename : str):\n",
    "    \"\"\"\n",
    "    função que executa um blast de uma sequência do NCBI e guarda o resultado\n",
    "    recebe o identificador da seq no NCBI, o tipo de programa de blast, a base de dados usada \n",
    "    e o nome do ficheiro que queremos guardar a informação\n",
    "    \"\"\"\n",
    "    result_handle = NCBIWWW.qblast(program, database, accession)\n",
    "\n",
    "    save_file = open(filename, \"w\")\n",
    "    save_file.write(result_handle.read())\n",
    "    save_file.close()\n",
    "    result_handle.close()\n",
    "\n",
    "    result_handle = open(filename)\n",
    "\n",
    "    blast_record = NCBIXML.read(result_handle)\n",
    "\n",
    "    return blast_record"
   ]
  },
  {
   "cell_type": "code",
   "execution_count": 11,
   "metadata": {},
   "outputs": [],
   "source": [
    "def blast_filter(blast_record, e_value_threshold : float, coverage_threshold : float, per_identity_threshold : float):\n",
    "    filtered_alignments = []\n",
    "    for alignment in blast_record.alignments:\n",
    "        for hsp in alignment.hsps:\n",
    "            # coverage = hsp.align_length / blast_record.query_length\n",
    "            e_value = hsp.expect\n",
    "            coverage = (hsp.query_end - hsp.query_start + 1) / blast_record.query_length * 100\n",
    "            per_identity = (hsp.identities / hsp.align_length) * 100\n",
    "            if e_value <= e_value_threshold and coverage >= coverage_threshold and per_identity >= per_identity_threshold:\n",
    "                print('\\n****Alignment****')\n",
    "                print('acession:', alignment.accession)\n",
    "                print('title:', alignment.title)\n",
    "                print('alignment length:', alignment.length)\n",
    "                print('e value:', hsp.expect)\n",
    "                #print('hsp length:', hsp.align_length)\n",
    "                #print('hsps:', len(alignment.hsps))\n",
    "                filtered_alignments.append(alignment)\n",
    "    return filtered_alignments"
   ]
  },
  {
   "cell_type": "markdown",
   "metadata": {},
   "source": [
    "## Gene FLG"
   ]
  },
  {
   "cell_type": "code",
   "execution_count": 12,
   "metadata": {},
   "outputs": [
    {
     "ename": "ValueError",
     "evalue": "Error message from NCBI: Message ID#24 Error: Failed to read the Blast query: Sequence ID not found: 'gi|60097902'",
     "output_type": "error",
     "traceback": [
      "\u001b[1;31m---------------------------------------------------------------------------\u001b[0m",
      "\u001b[1;31mValueError\u001b[0m                                Traceback (most recent call last)",
      "\u001b[1;32m~\\AppData\\Local\\Temp\\ipykernel_1648\\1463311731.py\u001b[0m in \u001b[0;36m<module>\u001b[1;34m\u001b[0m\n\u001b[1;32m----> 1\u001b[1;33m \u001b[0mflg_swissprot_blast_record\u001b[0m \u001b[1;33m=\u001b[0m \u001b[0mblast\u001b[0m\u001b[1;33m(\u001b[0m\u001b[1;34m\"60097902\"\u001b[0m\u001b[1;33m,\u001b[0m \u001b[1;34m\"blastp\"\u001b[0m\u001b[1;33m,\u001b[0m \u001b[1;34m\"swissprot\"\u001b[0m\u001b[1;33m,\u001b[0m \u001b[1;34m\"flg_protein_blast\"\u001b[0m\u001b[1;33m)\u001b[0m\u001b[1;33m\u001b[0m\u001b[1;33m\u001b[0m\u001b[0m\n\u001b[0m",
      "\u001b[1;32m~\\AppData\\Local\\Temp\\ipykernel_1648\\3835707554.py\u001b[0m in \u001b[0;36mblast\u001b[1;34m(accession, program, database, filename)\u001b[0m\n\u001b[0;32m      5\u001b[0m     \u001b[0me\u001b[0m \u001b[0mo\u001b[0m \u001b[0mnome\u001b[0m \u001b[0mdo\u001b[0m \u001b[0mficheiro\u001b[0m \u001b[0mque\u001b[0m \u001b[0mqueremos\u001b[0m \u001b[0mguardar\u001b[0m \u001b[0ma\u001b[0m \u001b[0minformação\u001b[0m\u001b[1;33m\u001b[0m\u001b[1;33m\u001b[0m\u001b[0m\n\u001b[0;32m      6\u001b[0m     \"\"\"\n\u001b[1;32m----> 7\u001b[1;33m     \u001b[0mresult_handle\u001b[0m \u001b[1;33m=\u001b[0m \u001b[0mNCBIWWW\u001b[0m\u001b[1;33m.\u001b[0m\u001b[0mqblast\u001b[0m\u001b[1;33m(\u001b[0m\u001b[0mprogram\u001b[0m\u001b[1;33m,\u001b[0m \u001b[0mdatabase\u001b[0m\u001b[1;33m,\u001b[0m \u001b[0maccession\u001b[0m\u001b[1;33m)\u001b[0m\u001b[1;33m\u001b[0m\u001b[1;33m\u001b[0m\u001b[0m\n\u001b[0m\u001b[0;32m      8\u001b[0m \u001b[1;33m\u001b[0m\u001b[0m\n\u001b[0;32m      9\u001b[0m     \u001b[0msave_file\u001b[0m \u001b[1;33m=\u001b[0m \u001b[0mopen\u001b[0m\u001b[1;33m(\u001b[0m\u001b[0mfilename\u001b[0m\u001b[1;33m,\u001b[0m \u001b[1;34m\"w\"\u001b[0m\u001b[1;33m)\u001b[0m\u001b[1;33m\u001b[0m\u001b[1;33m\u001b[0m\u001b[0m\n",
      "\u001b[1;32mc:\\Users\\tsamu\\anaconda3\\lib\\site-packages\\Bio\\Blast\\NCBIWWW.py\u001b[0m in \u001b[0;36mqblast\u001b[1;34m(program, database, sequence, url_base, auto_format, composition_based_statistics, db_genetic_code, endpoints, entrez_query, expect, filter, gapcosts, genetic_code, hitlist_size, i_thresh, layout, lcase_mask, matrix_name, nucl_penalty, nucl_reward, other_advanced, perc_ident, phi_pattern, query_file, query_believe_defline, query_from, query_to, searchsp_eff, service, threshold, ungapped_alignment, word_size, short_query, alignments, alignment_view, descriptions, entrez_links_new_window, expect_low, expect_high, format_entrez_query, format_object, format_type, ncbi_gi, results_file, show_overview, megablast, template_type, template_length)\u001b[0m\n\u001b[0;32m    206\u001b[0m     \u001b[1;31m# Format the \"Get\" command, which gets the formatted results from qblast\u001b[0m\u001b[1;33m\u001b[0m\u001b[1;33m\u001b[0m\u001b[0m\n\u001b[0;32m    207\u001b[0m     \u001b[1;31m# Parameters taken from http://www.ncbi.nlm.nih.gov/BLAST/Doc/node6.html on 9 July 2007\u001b[0m\u001b[1;33m\u001b[0m\u001b[1;33m\u001b[0m\u001b[0m\n\u001b[1;32m--> 208\u001b[1;33m     \u001b[0mrid\u001b[0m\u001b[1;33m,\u001b[0m \u001b[0mrtoe\u001b[0m \u001b[1;33m=\u001b[0m \u001b[0m_parse_qblast_ref_page\u001b[0m\u001b[1;33m(\u001b[0m\u001b[0mhandle\u001b[0m\u001b[1;33m)\u001b[0m\u001b[1;33m\u001b[0m\u001b[1;33m\u001b[0m\u001b[0m\n\u001b[0m\u001b[0;32m    209\u001b[0m     parameters = [\n\u001b[0;32m    210\u001b[0m         \u001b[1;33m(\u001b[0m\u001b[1;34m\"ALIGNMENTS\"\u001b[0m\u001b[1;33m,\u001b[0m \u001b[0malignments\u001b[0m\u001b[1;33m)\u001b[0m\u001b[1;33m,\u001b[0m\u001b[1;33m\u001b[0m\u001b[1;33m\u001b[0m\u001b[0m\n",
      "\u001b[1;32mc:\\Users\\tsamu\\anaconda3\\lib\\site-packages\\Bio\\Blast\\NCBIWWW.py\u001b[0m in \u001b[0;36m_parse_qblast_ref_page\u001b[1;34m(handle)\u001b[0m\n\u001b[0;32m    316\u001b[0m             \u001b[0mmsg\u001b[0m \u001b[1;33m=\u001b[0m \u001b[0mmsg\u001b[0m\u001b[1;33m.\u001b[0m\u001b[0msplit\u001b[0m\u001b[1;33m(\u001b[0m\u001b[1;34m\"</p>\"\u001b[0m\u001b[1;33m,\u001b[0m \u001b[1;36m1\u001b[0m\u001b[1;33m)\u001b[0m\u001b[1;33m[\u001b[0m\u001b[1;36m0\u001b[0m\u001b[1;33m]\u001b[0m\u001b[1;33m.\u001b[0m\u001b[0msplit\u001b[0m\u001b[1;33m(\u001b[0m\u001b[1;34m\"\\n\"\u001b[0m\u001b[1;33m,\u001b[0m \u001b[1;36m1\u001b[0m\u001b[1;33m)\u001b[0m\u001b[1;33m[\u001b[0m\u001b[1;36m0\u001b[0m\u001b[1;33m]\u001b[0m\u001b[1;33m.\u001b[0m\u001b[0mstrip\u001b[0m\u001b[1;33m(\u001b[0m\u001b[1;33m)\u001b[0m\u001b[1;33m\u001b[0m\u001b[1;33m\u001b[0m\u001b[0m\n\u001b[0;32m    317\u001b[0m             \u001b[1;32mif\u001b[0m \u001b[0mmsg\u001b[0m\u001b[1;33m:\u001b[0m\u001b[1;33m\u001b[0m\u001b[1;33m\u001b[0m\u001b[0m\n\u001b[1;32m--> 318\u001b[1;33m                 \u001b[1;32mraise\u001b[0m \u001b[0mValueError\u001b[0m\u001b[1;33m(\u001b[0m\u001b[1;34m\"Error message from NCBI: %s\"\u001b[0m \u001b[1;33m%\u001b[0m \u001b[0mmsg\u001b[0m\u001b[1;33m)\u001b[0m\u001b[1;33m\u001b[0m\u001b[1;33m\u001b[0m\u001b[0m\n\u001b[0m\u001b[0;32m    319\u001b[0m         \u001b[1;31m# Generic search based on the way the error messages start:\u001b[0m\u001b[1;33m\u001b[0m\u001b[1;33m\u001b[0m\u001b[0m\n\u001b[0;32m    320\u001b[0m         \u001b[0mi\u001b[0m \u001b[1;33m=\u001b[0m \u001b[0ms\u001b[0m\u001b[1;33m.\u001b[0m\u001b[0mfind\u001b[0m\u001b[1;33m(\u001b[0m\u001b[1;34m\"Message ID#\"\u001b[0m\u001b[1;33m)\u001b[0m\u001b[1;33m\u001b[0m\u001b[1;33m\u001b[0m\u001b[0m\n",
      "\u001b[1;31mValueError\u001b[0m: Error message from NCBI: Message ID#24 Error: Failed to read the Blast query: Sequence ID not found: 'gi|60097902'"
     ]
    }
   ],
   "source": [
    "flg_swissprot_blast_record = blast(\"60097902\", \"blastp\", \"swissprot\", \"flg_protein_blast\")"
   ]
  },
  {
   "cell_type": "code",
   "execution_count": null,
   "metadata": {},
   "outputs": [
    {
     "name": "stdout",
     "output_type": "stream",
     "text": [
      "0 hits\n"
     ]
    }
   ],
   "source": [
    "print(len(flg_swissprot_blast_record.alignments), \"hits\")"
   ]
  },
  {
   "cell_type": "code",
   "execution_count": null,
   "metadata": {},
   "outputs": [
    {
     "data": {
      "text/plain": [
       "[]"
      ]
     },
     "execution_count": 6,
     "metadata": {},
     "output_type": "execute_result"
    }
   ],
   "source": [
    "flg_filtered_blast = blast_filter(flg_swissprot_blast_record, 0.05, 0, 0)\n",
    "flg_filtered_blast"
   ]
  },
  {
   "cell_type": "code",
   "execution_count": null,
   "metadata": {},
   "outputs": [
    {
     "name": "stdout",
     "output_type": "stream",
     "text": [
      "0 filtered sequences\n"
     ]
    }
   ],
   "source": [
    "if len(flg_filtered_blast) == 1:\n",
    "    print(len(flg_filtered_blast), \"filtered sequence\")\n",
    "elif len(flg_filtered_blast) == 0 or len(flg_filtered_blast) >= 1:\n",
    "    print(len(flg_filtered_blast), \"filtered sequences\")"
   ]
  },
  {
   "cell_type": "markdown",
   "metadata": {},
   "source": [
    "**Não esquecer de ver a abrangencia taxonomica e os dominios conservados das seqs homologas e comparar com a query**"
   ]
  },
  {
   "cell_type": "code",
   "execution_count": null,
   "metadata": {},
   "outputs": [],
   "source": []
  }
 ],
 "metadata": {
  "kernelspec": {
   "display_name": "base",
   "language": "python",
   "name": "python3"
  },
  "language_info": {
   "codemirror_mode": {
    "name": "ipython",
    "version": 3
   },
   "file_extension": ".py",
   "mimetype": "text/x-python",
   "name": "python",
   "nbconvert_exporter": "python",
   "pygments_lexer": "ipython3",
   "version": "3.9.13"
  }
 },
 "nbformat": 4,
 "nbformat_minor": 2
}
