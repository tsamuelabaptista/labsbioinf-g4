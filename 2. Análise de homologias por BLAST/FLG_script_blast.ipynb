{
 "cells": [
  {
   "cell_type": "markdown",
   "metadata": {},
   "source": [
    "# Análise de homologias por BLAST"
   ]
  },
  {
   "cell_type": "code",
   "execution_count": 72,
   "metadata": {},
   "outputs": [],
   "source": [
    "from Bio.Blast import NCBIXML \n",
    "from Bio.Blast import NCBIWWW \n",
    "import requests"
   ]
  },
  {
   "cell_type": "code",
   "execution_count": 73,
   "metadata": {},
   "outputs": [],
   "source": [
    "def blast(accession : str, program : str, database : str, filename : str):\n",
    "    \"\"\"\n",
    "    função que executa um blast de uma sequência do NCBI e guarda o resultado\n",
    "    recebe o identificador da seq no NCBI, o tipo de programa de blast, a base de dados usada \n",
    "    e o nome do ficheiro que queremos guardar a informação\n",
    "    \"\"\"\n",
    "    result_handle = NCBIWWW.qblast(program, database, accession)\n",
    "\n",
    "    save_file = open(filename, \"w\")\n",
    "    save_file.write(result_handle.read())\n",
    "    save_file.close()\n",
    "    result_handle.close()\n",
    "\n",
    "    result_handle = open(filename)\n",
    "\n",
    "    blast_record = NCBIXML.read(result_handle)\n",
    "\n",
    "    return blast_record"
   ]
  },
  {
   "cell_type": "code",
   "execution_count": 74,
   "metadata": {},
   "outputs": [],
   "source": [
    "def blast_filter(blast_record, e_value_threshold : float, coverage_threshold : float, per_identity_threshold : float):\n",
    "    filtered_alignments = []\n",
    "    for alignment in blast_record.alignments:\n",
    "        for hsp in alignment.hsps:\n",
    "            # coverage = hsp.align_length / blast_record.query_length\n",
    "            e_value = hsp.expect\n",
    "            coverage = (hsp.query_end - hsp.query_start + 1) / blast_record.query_length * 100\n",
    "            per_identity = (hsp.identities / hsp.align_length) * 100\n",
    "            if e_value <= e_value_threshold and coverage >= coverage_threshold and per_identity >= per_identity_threshold:\n",
    "                print('\\n****Alignment****')\n",
    "                print('acession:', alignment.accession)\n",
    "                print('title:', alignment.title)\n",
    "                print('alignment length:', alignment.length)\n",
    "                print('e value:', hsp.expect)\n",
    "                #print('hsp length:', hsp.align_length)\n",
    "                #print('hsps:', len(alignment.hsps))\n",
    "                filtered_alignments.append(alignment)\n",
    "    return filtered_alignments"
   ]
  },
  {
   "cell_type": "code",
   "execution_count": 81,
   "metadata": {},
   "outputs": [],
   "source": [
    "def extract_ncbi_id_from_alignment(alignment):\n",
    "    \"\"\"\n",
    "    Extracts the UniProt ID from a Bio.Blast.Record.Alignment object.\n",
    "\n",
    "    Parameters:\n",
    "    - alignment: Bio.Blast.Record.Alignment object\n",
    "\n",
    "    Returns:\n",
    "    - UniProt ID (str) if found, else None\n",
    "    \"\"\"\n",
    "    try:\n",
    "        # Access the sequence identifier from the alignment object\n",
    "        seq_id = alignment.hit_id\n",
    "\n",
    "        # Extract the UniProt ID from the sequence identifier\n",
    "        uniprot_id_start = seq_id.find(\"|\") + 1\n",
    "        uniprot_id_end = seq_id.find(\"|\", uniprot_id_start)\n",
    "        uniprot_id = seq_id[uniprot_id_start:uniprot_id_end]\n",
    "\n",
    "        return uniprot_id\n",
    "\n",
    "    except AttributeError:\n",
    "        # Handle cases where the required attributes are not present\n",
    "        return None"
   ]
  },
  {
   "cell_type": "code",
   "execution_count": 95,
   "metadata": {},
   "outputs": [],
   "source": [
    "def get_protein_function(ncbi_id):\n",
    "    # UniProt API endpoint para devolver informação sobre a proteína\n",
    "    api_url = f'https://www.ebi.ac.uk/proteins/api/proteins/{ncbi_id}'\n",
    "\n",
    "    try:\n",
    "        # Fazer um GET request para o UniProt API\n",
    "        response = requests.get(api_url)\n",
    "\n",
    "        # Verificar se o pedido foi bem sucedido (status code 200)\n",
    "        if response.status_code == 200:\n",
    "            # Parse da resposta JSON\n",
    "            protein_data = response.json()\n",
    "\n",
    "            # Extrair a função da proteína\n",
    "            if 'comments' in protein_data:\n",
    "                for comment in protein_data['comments']:\n",
    "                    if 'text' in comment and comment['type'] == 'FUNCTION':\n",
    "                        return comment['text'][0]\n",
    "\n",
    "            return \"Informação sobre a função não disponível.\"\n",
    "\n",
    "        else:\n",
    "            # Imprimir uma mensagem de erro se o pedido não for bem sucedido\n",
    "            return f\"Erro: Incapaz de retribuir informação para {ncbi_id}. Status code: {response.status_code}\"\n",
    "\n",
    "    except requests.exceptions.RequestException as e:\n",
    "        # Lidar com exceções do pedido\n",
    "        return f\"Error: {e}\""
   ]
  },
  {
   "cell_type": "markdown",
   "metadata": {},
   "source": [
    "## Gene FLG"
   ]
  },
  {
   "cell_type": "markdown",
   "metadata": {},
   "source": [
    "BLAST contra a base de dados swissprot"
   ]
  },
  {
   "cell_type": "code",
   "execution_count": 12,
   "metadata": {},
   "outputs": [],
   "source": [
    "flg_swissprot_blast_record = blast(\"NP_002007.1\", \"blastp\", \"swissprot\", \"flg_swissprot_protein_blast\")"
   ]
  },
  {
   "cell_type": "code",
   "execution_count": 13,
   "metadata": {},
   "outputs": [
    {
     "name": "stdout",
     "output_type": "stream",
     "text": [
      "22 hits\n"
     ]
    }
   ],
   "source": [
    "print(len(flg_swissprot_blast_record.alignments), \"hits\")"
   ]
  },
  {
   "cell_type": "code",
   "execution_count": 14,
   "metadata": {},
   "outputs": [
    {
     "name": "stdout",
     "output_type": "stream",
     "text": [
      "\n",
      "****Alignment****\n",
      "acession: P20930\n",
      "title: sp|P20930.3| RecName: Full=Filaggrin [Homo sapiens]\n",
      "alignment length: 4061\n",
      "e value: 0.0\n"
     ]
    },
    {
     "data": {
      "text/plain": [
       "[<Bio.Blast.Record.Alignment at 0x28c1826d430>]"
      ]
     },
     "execution_count": 14,
     "metadata": {},
     "output_type": "execute_result"
    }
   ],
   "source": [
    "flg_swissprot_filtered_blast = blast_filter(flg_swissprot_blast_record, 0.05, 80, 80)\n",
    "flg_swissprot_filtered_blast"
   ]
  },
  {
   "cell_type": "code",
   "execution_count": 15,
   "metadata": {},
   "outputs": [
    {
     "name": "stdout",
     "output_type": "stream",
     "text": [
      "1 filtered sequence\n"
     ]
    }
   ],
   "source": [
    "if len(flg_swissprot_filtered_blast) == 1:\n",
    "    print(len(flg_swissprot_filtered_blast), \"filtered sequence\")\n",
    "elif len(flg_swissprot_filtered_blast) == 0 or len(flg_swissprot_filtered_blast) >= 1:\n",
    "    print(len(flg_swissprot_filtered_blast), \"filtered sequences\")"
   ]
  },
  {
   "cell_type": "markdown",
   "metadata": {},
   "source": [
    "BLAST contra a base de dados nr (non-redundant)"
   ]
  },
  {
   "cell_type": "code",
   "execution_count": 16,
   "metadata": {},
   "outputs": [],
   "source": [
    "flg_nr_blast_record = blast(\"NP_002007.1\", \"blastp\", \"nr\", \"flg_nr_protein_blast\")"
   ]
  },
  {
   "cell_type": "code",
   "execution_count": 17,
   "metadata": {},
   "outputs": [
    {
     "name": "stdout",
     "output_type": "stream",
     "text": [
      "50 hits\n"
     ]
    }
   ],
   "source": [
    "print(len(flg_nr_blast_record.alignments), \"hits\")"
   ]
  },
  {
   "cell_type": "code",
   "execution_count": 18,
   "metadata": {},
   "outputs": [
    {
     "name": "stdout",
     "output_type": "stream",
     "text": [
      "\n",
      "****Alignment****\n",
      "acession: NP_002007\n",
      "title: ref|NP_002007.1| filaggrin [Homo sapiens] >sp|P20930.3| RecName: Full=Filaggrin [Homo sapiens] >gb|ACX32320.1| filaggrin [synthetic construct]\n",
      "alignment length: 4061\n",
      "e value: 0.0\n",
      "\n",
      "****Alignment****\n",
      "acession: AFH55059\n",
      "title: gb|AFH55059.1| truncated profilaggrin [Homo sapiens]\n",
      "alignment length: 4021\n",
      "e value: 0.0\n",
      "\n",
      "****Alignment****\n",
      "acession: KAI4082684\n",
      "title: gb|KAI4082684.1| filaggrin [Homo sapiens]\n",
      "alignment length: 4061\n",
      "e value: 0.0\n",
      "\n",
      "****Alignment****\n",
      "acession: KAI2519162\n",
      "title: gb|KAI2519162.1| filaggrin [Homo sapiens]\n",
      "alignment length: 4061\n",
      "e value: 0.0\n",
      "\n",
      "****Alignment****\n",
      "acession: PNI23036\n",
      "title: gb|PNI23036.1| FLG isoform 1 [Pan troglodytes]\n",
      "alignment length: 4060\n",
      "e value: 0.0\n",
      "\n",
      "****Alignment****\n",
      "acession: XP_024204293\n",
      "title: ref|XP_024204293.2| filaggrin [Pan troglodytes]\n",
      "alignment length: 4060\n",
      "e value: 0.0\n",
      "\n",
      "****Alignment****\n",
      "acession: XP_030858012\n",
      "title: ref|XP_030858012.2| filaggrin [Gorilla gorilla gorilla]\n",
      "alignment length: 4060\n",
      "e value: 0.0\n",
      "\n",
      "****Alignment****\n",
      "acession: BAT51077\n",
      "title: dbj|BAT51077.1| filaggrin [Pan troglodytes verus]\n",
      "alignment length: 3906\n",
      "e value: 0.0\n",
      "\n",
      "****Alignment****\n",
      "acession: BAT51076\n",
      "title: dbj|BAT51076.1| filaggrin [Gorilla gorilla]\n",
      "alignment length: 3906\n",
      "e value: 0.0\n",
      "\n",
      "****Alignment****\n",
      "acession: XP_034791557\n",
      "title: ref|XP_034791557.2| filaggrin [Pan paniscus]\n",
      "alignment length: 3736\n",
      "e value: 0.0\n",
      "\n",
      "****Alignment****\n",
      "acession: XP_034791557\n",
      "title: ref|XP_034791557.2| filaggrin [Pan paniscus]\n",
      "alignment length: 3736\n",
      "e value: 0.0\n",
      "\n",
      "****Alignment****\n",
      "acession: XP_050612572\n",
      "title: ref|XP_050612572.1| LOW QUALITY PROTEIN: filaggrin [Macaca thibetana thibetana]\n",
      "alignment length: 4060\n",
      "e value: 0.0\n",
      "\n",
      "****Alignment****\n",
      "acession: XP_024107845\n",
      "title: ref|XP_024107845.1| filaggrin [Pongo abelii]\n",
      "alignment length: 3734\n",
      "e value: 0.0\n",
      "\n",
      "****Alignment****\n",
      "acession: XP_024107845\n",
      "title: ref|XP_024107845.1| filaggrin [Pongo abelii]\n",
      "alignment length: 3734\n",
      "e value: 0.0\n",
      "\n",
      "****Alignment****\n",
      "acession: XP_054335399\n",
      "title: ref|XP_054335399.1| filaggrin [Pongo pygmaeus]\n",
      "alignment length: 3734\n",
      "e value: 0.0\n",
      "\n",
      "****Alignment****\n",
      "acession: XP_054335399\n",
      "title: ref|XP_054335399.1| filaggrin [Pongo pygmaeus]\n",
      "alignment length: 3734\n",
      "e value: 0.0\n",
      "\n",
      "****Alignment****\n",
      "acession: XP_012367055\n",
      "title: ref|XP_012367055.2| LOW QUALITY PROTEIN: filaggrin [Nomascus leucogenys]\n",
      "alignment length: 3730\n",
      "e value: 0.0\n",
      "\n",
      "****Alignment****\n",
      "acession: XP_012367055\n",
      "title: ref|XP_012367055.2| LOW QUALITY PROTEIN: filaggrin [Nomascus leucogenys]\n",
      "alignment length: 3730\n",
      "e value: 0.0\n",
      "\n",
      "****Alignment****\n",
      "acession: BAT51074\n",
      "title: dbj|BAT51074.1| filaggrin [Macaca fascicularis]\n",
      "alignment length: 4553\n",
      "e value: 0.0\n",
      "\n",
      "****Alignment****\n",
      "acession: BAT51074\n",
      "title: dbj|BAT51074.1| filaggrin [Macaca fascicularis]\n",
      "alignment length: 4553\n",
      "e value: 0.0\n",
      "\n",
      "****Alignment****\n",
      "acession: BAT51075\n",
      "title: dbj|BAT51075.1| filaggrin [Pongo pygmaeus pygmaeus]\n",
      "alignment length: 3580\n",
      "e value: 0.0\n",
      "\n",
      "****Alignment****\n",
      "acession: BAT51075\n",
      "title: dbj|BAT51075.1| filaggrin [Pongo pygmaeus pygmaeus]\n",
      "alignment length: 3580\n",
      "e value: 0.0\n",
      "\n",
      "****Alignment****\n",
      "acession: XP_010351274\n",
      "title: ref|XP_010351274.2| filaggrin [Rhinopithecus roxellana]\n",
      "alignment length: 3735\n",
      "e value: 0.0\n",
      "\n",
      "****Alignment****\n",
      "acession: XP_033052602\n",
      "title: ref|XP_033052602.1| LOW QUALITY PROTEIN: filaggrin [Trachypithecus francoisi]\n",
      "alignment length: 3410\n",
      "e value: 0.0\n"
     ]
    },
    {
     "data": {
      "text/plain": [
       "[<Bio.Blast.Record.Alignment at 0x28c15a026d0>,\n",
       " <Bio.Blast.Record.Alignment at 0x28c18274820>,\n",
       " <Bio.Blast.Record.Alignment at 0x28c143af790>,\n",
       " <Bio.Blast.Record.Alignment at 0x28c18274730>,\n",
       " <Bio.Blast.Record.Alignment at 0x28c182747c0>,\n",
       " <Bio.Blast.Record.Alignment at 0x28c182748e0>,\n",
       " <Bio.Blast.Record.Alignment at 0x28c18274970>,\n",
       " <Bio.Blast.Record.Alignment at 0x28c18274a00>,\n",
       " <Bio.Blast.Record.Alignment at 0x28c18274a90>,\n",
       " <Bio.Blast.Record.Alignment at 0x28c18274b20>,\n",
       " <Bio.Blast.Record.Alignment at 0x28c18274b20>,\n",
       " <Bio.Blast.Record.Alignment at 0x28c18274c40>,\n",
       " <Bio.Blast.Record.Alignment at 0x28c18274e20>,\n",
       " <Bio.Blast.Record.Alignment at 0x28c18274e20>,\n",
       " <Bio.Blast.Record.Alignment at 0x28c18274f10>,\n",
       " <Bio.Blast.Record.Alignment at 0x28c18274f10>,\n",
       " <Bio.Blast.Record.Alignment at 0x28c1827f0a0>,\n",
       " <Bio.Blast.Record.Alignment at 0x28c1827f0a0>,\n",
       " <Bio.Blast.Record.Alignment at 0x28c1827f160>,\n",
       " <Bio.Blast.Record.Alignment at 0x28c1827f160>,\n",
       " <Bio.Blast.Record.Alignment at 0x28c1827f220>,\n",
       " <Bio.Blast.Record.Alignment at 0x28c1827f220>,\n",
       " <Bio.Blast.Record.Alignment at 0x28c1827f3a0>,\n",
       " <Bio.Blast.Record.Alignment at 0x28c1827f640>]"
      ]
     },
     "execution_count": 18,
     "metadata": {},
     "output_type": "execute_result"
    }
   ],
   "source": [
    "flg_nr_filtered_blast = blast_filter(flg_nr_blast_record, 0.05, 80, 80)\n",
    "flg_nr_filtered_blast"
   ]
  },
  {
   "cell_type": "code",
   "execution_count": 19,
   "metadata": {},
   "outputs": [
    {
     "name": "stdout",
     "output_type": "stream",
     "text": [
      "24 filtered sequences\n"
     ]
    }
   ],
   "source": [
    "if len(flg_nr_filtered_blast) == 1:\n",
    "    print(len(flg_nr_filtered_blast), \"filtered sequence\")\n",
    "elif len(flg_nr_filtered_blast) == 0 or len(flg_nr_filtered_blast) >= 1:\n",
    "    print(len(flg_nr_filtered_blast), \"filtered sequences\")"
   ]
  },
  {
   "cell_type": "markdown",
   "metadata": {},
   "source": [
    "**Não esquecer de ver a abrangencia taxonomica e os dominios conservados das seqs homologas e comparar com a query**"
   ]
  },
  {
   "cell_type": "markdown",
   "metadata": {},
   "source": [
    "## Gene C11ORF30"
   ]
  },
  {
   "cell_type": "markdown",
   "metadata": {},
   "source": [
    "BLAST contra a base de dados swissprot"
   ]
  },
  {
   "cell_type": "code",
   "execution_count": 22,
   "metadata": {},
   "outputs": [],
   "source": [
    "c11orf30_swissprot_blast_record = blast(\"Q7Z589.2\", \"blastp\", \"swissprot\", \"c11orf30_swissprot_protein_blast\")"
   ]
  },
  {
   "cell_type": "code",
   "execution_count": 23,
   "metadata": {},
   "outputs": [
    {
     "name": "stdout",
     "output_type": "stream",
     "text": [
      "3 hits\n"
     ]
    }
   ],
   "source": [
    "print(len(c11orf30_swissprot_blast_record.alignments), \"hits\")"
   ]
  },
  {
   "cell_type": "code",
   "execution_count": 24,
   "metadata": {},
   "outputs": [
    {
     "name": "stdout",
     "output_type": "stream",
     "text": [
      "\n",
      "****Alignment****\n",
      "acession: Q7Z589\n",
      "title: ref|NP_064578.2| BRCA2-interacting transcriptional repressor EMSY isoform 4 [Homo sapiens] >ref|XP_003254738.1| BRCA2-interacting transcriptional repressor EMSY isoform X5 [Nomascus leucogenys] >ref|XP_016777137.1| BRCA2-interacting transcriptional repressor EMSY isoform X8 [Pan troglodytes] >ref|XP_034789296.1| BRCA2-interacting transcriptional repressor EMSY isoform X5 [Pan paniscus] >ref|XP_055138967.1| BRCA2-interacting transcriptional repressor EMSY isoform X5 [Symphalangus syndactylus] >sp|Q7Z589.2| RecName: Full=BRCA2-interacting transcriptional repressor EMSY [Homo sapiens] >gb|EAW74999.1| chromosome 11 open reading frame 30, isoform CRA_d [Homo sapiens] >gb|KAI2561948.1| EMSY transcriptional repressor, BRCA2 interacting [Homo sapiens] >gb|KAI2561949.1| EMSY transcriptional repressor, BRCA2 interacting [Homo sapiens] >gb|KAI4073267.1| EMSY transcriptional repressor, BRCA2 interacting [Homo sapiens] >gb|KAI4073274.1| EMSY transcriptional repressor, BRCA2 interacting [Homo sapiens]\n",
      "alignment length: 1322\n",
      "e value: 0.0\n",
      "\n",
      "****Alignment****\n",
      "acession: Q8BMB0\n",
      "title: sp|Q8BMB0.2| RecName: Full=BRCA2-interacting transcriptional repressor EMSY [Mus musculus]\n",
      "alignment length: 1264\n",
      "e value: 0.0\n"
     ]
    },
    {
     "data": {
      "text/plain": [
       "[<Bio.Blast.Record.Alignment at 0x28c182a5e50>,\n",
       " <Bio.Blast.Record.Alignment at 0x28c182ba100>]"
      ]
     },
     "execution_count": 24,
     "metadata": {},
     "output_type": "execute_result"
    }
   ],
   "source": [
    "c11orf30_swissprot_filtered_blast = blast_filter(c11orf30_swissprot_blast_record, 0.05, 80, 80)\n",
    "c11orf30_swissprot_filtered_blast"
   ]
  },
  {
   "cell_type": "code",
   "execution_count": 25,
   "metadata": {},
   "outputs": [
    {
     "name": "stdout",
     "output_type": "stream",
     "text": [
      "2 filtered sequences\n"
     ]
    }
   ],
   "source": [
    "if len(c11orf30_swissprot_filtered_blast) == 1:\n",
    "    print(len(c11orf30_swissprot_filtered_blast), \"filtered sequence\")\n",
    "elif len(c11orf30_swissprot_filtered_blast) == 0 or len(c11orf30_swissprot_filtered_blast) >= 1:\n",
    "    print(len(c11orf30_swissprot_filtered_blast), \"filtered sequences\")"
   ]
  },
  {
   "cell_type": "markdown",
   "metadata": {},
   "source": [
    "BLAST contra a base de dados nr (non-redundant)"
   ]
  },
  {
   "cell_type": "code",
   "execution_count": 26,
   "metadata": {},
   "outputs": [],
   "source": [
    "c11orf30_nr_blast_record = blast(\"Q7Z589.2\", \"blastp\", \"nr\", \"c11orf30_nr_protein_blast\")"
   ]
  },
  {
   "cell_type": "code",
   "execution_count": 27,
   "metadata": {},
   "outputs": [
    {
     "name": "stdout",
     "output_type": "stream",
     "text": [
      "50 hits\n"
     ]
    }
   ],
   "source": [
    "print(len(c11orf30_nr_blast_record.alignments), \"hits\")"
   ]
  },
  {
   "cell_type": "code",
   "execution_count": 34,
   "metadata": {},
   "outputs": [
    {
     "name": "stdout",
     "output_type": "stream",
     "text": [
      "\n",
      "****Alignment****\n",
      "acession: XP_024111401\n",
      "title: ref|XP_024111401.1| BRCA2-interacting transcriptional repressor EMSY isoform X9 [Pongo abelii] >ref|XP_054295825.1| BRCA2-interacting transcriptional repressor EMSY isoform X5 [Pongo pygmaeus] >gb|PNJ51184.1| EMSY isoform 1 [Pongo abelii] >gb|PNJ51185.1| EMSY isoform 2 [Pongo abelii]\n",
      "alignment length: 1322\n",
      "e value: 0.0\n",
      "\n",
      "****Alignment****\n",
      "acession: NP_064578\n",
      "title: ref|NP_064578.2| BRCA2-interacting transcriptional repressor EMSY isoform 4 [Homo sapiens] >ref|XP_003254738.1| BRCA2-interacting transcriptional repressor EMSY isoform X5 [Nomascus leucogenys] >ref|XP_016777137.1| BRCA2-interacting transcriptional repressor EMSY isoform X8 [Pan troglodytes] >ref|XP_034789296.1| BRCA2-interacting transcriptional repressor EMSY isoform X5 [Pan paniscus] >ref|XP_055138967.1| BRCA2-interacting transcriptional repressor EMSY isoform X5 [Symphalangus syndactylus] >sp|Q7Z589.2| RecName: Full=BRCA2-interacting transcriptional repressor EMSY [Homo sapiens] >gb|EAW74999.1| chromosome 11 open reading frame 30, isoform CRA_d [Homo sapiens] >gb|KAI2561948.1| EMSY transcriptional repressor, BRCA2 interacting [Homo sapiens] >gb|KAI2561949.1| EMSY transcriptional repressor, BRCA2 interacting [Homo sapiens] >gb|KAI4073267.1| EMSY transcriptional repressor, BRCA2 interacting [Homo sapiens] >gb|KAI4073274.1| EMSY transcriptional repressor, BRCA2 interacting [Homo sapiens]\n",
      "alignment length: 1322\n",
      "e value: 0.0\n",
      "\n",
      "****Alignment****\n",
      "acession: XP_004051892\n",
      "title: ref|XP_004051892.2| BRCA2-interacting transcriptional repressor EMSY isoform X5 [Gorilla gorilla gorilla]\n",
      "alignment length: 1322\n",
      "e value: 0.0\n",
      "\n",
      "****Alignment****\n",
      "acession: XP_032022861\n",
      "title: ref|XP_032022861.1| BRCA2-interacting transcriptional repressor EMSY isoform X5 [Hylobates moloch]\n",
      "alignment length: 1322\n",
      "e value: 0.0\n",
      "\n",
      "****Alignment****\n",
      "acession: NP_001287872\n",
      "title: ref|NP_001287872.1| BRCA2-interacting transcriptional repressor EMSY isoform 2 [Homo sapiens] >ref|XP_012361714.1| BRCA2-interacting transcriptional repressor EMSY isoform X3 [Nomascus leucogenys] >ref|XP_016777135.1| BRCA2-interacting transcriptional repressor EMSY isoform X6 [Pan troglodytes] >ref|XP_034789294.1| BRCA2-interacting transcriptional repressor EMSY isoform X3 [Pan paniscus] >ref|XP_055138965.1| BRCA2-interacting transcriptional repressor EMSY isoform X3 [Symphalangus syndactylus] >gb|AAI17266.1| Chromosome 11 open reading frame 30 [Homo sapiens] >gb|EAW74998.1| chromosome 11 open reading frame 30, isoform CRA_c [Homo sapiens] >gb|KAI2561946.1| EMSY transcriptional repressor, BRCA2 interacting [Homo sapiens] >gb|KAI4073272.1| EMSY transcriptional repressor, BRCA2 interacting [Homo sapiens] >gb|PNI56834.1| EMSY isoform 11 [Pan troglodytes]\n",
      "alignment length: 1323\n",
      "e value: 0.0\n",
      "\n",
      "****Alignment****\n",
      "acession: XP_024111399\n",
      "title: ref|XP_024111399.1| BRCA2-interacting transcriptional repressor EMSY isoform X7 [Pongo abelii] >ref|XP_054295823.1| BRCA2-interacting transcriptional repressor EMSY isoform X3 [Pongo pygmaeus] >gb|PNJ51191.1| EMSY isoform 8 [Pongo abelii]\n",
      "alignment length: 1323\n",
      "e value: 0.0\n",
      "\n",
      "****Alignment****\n",
      "acession: XP_032022859\n",
      "title: ref|XP_032022859.1| BRCA2-interacting transcriptional repressor EMSY isoform X3 [Hylobates moloch]\n",
      "alignment length: 1323\n",
      "e value: 0.0\n",
      "\n",
      "****Alignment****\n",
      "acession: XP_008018398\n",
      "title: ref|XP_008018398.1| BRCA2-interacting transcriptional repressor EMSY isoform X7 [Chlorocebus sabaeus] >ref|XP_009185227.2| BRCA2-interacting transcriptional repressor EMSY isoform X7 [Papio anubis] >ref|XP_025213674.1| BRCA2-interacting transcriptional repressor EMSY isoform X4 [Theropithecus gelada]\n",
      "alignment length: 1322\n",
      "e value: 0.0\n",
      "\n",
      "****Alignment****\n",
      "acession: XP_018893080\n",
      "title: ref|XP_018893080.2| BRCA2-interacting transcriptional repressor EMSY isoform X3 [Gorilla gorilla gorilla]\n",
      "alignment length: 1323\n",
      "e value: 0.0\n",
      "\n",
      "****Alignment****\n",
      "acession: XP_008018395\n",
      "title: ref|XP_008018395.1| BRCA2-interacting transcriptional repressor EMSY isoform X5 [Chlorocebus sabaeus] >ref|XP_009185225.2| BRCA2-interacting transcriptional repressor EMSY isoform X5 [Papio anubis] >ref|XP_025213672.1| BRCA2-interacting transcriptional repressor EMSY isoform X2 [Theropithecus gelada]\n",
      "alignment length: 1323\n",
      "e value: 0.0\n",
      "\n",
      "****Alignment****\n",
      "acession: XP_011844779\n",
      "title: ref|XP_011844779.1| PREDICTED: protein EMSY isoform X4 [Mandrillus leucophaeus] >ref|XP_011900166.1| PREDICTED: protein EMSY isoform X5 [Cercocebus atys]\n",
      "alignment length: 1322\n",
      "e value: 0.0\n",
      "\n",
      "****Alignment****\n",
      "acession: XP_011844770\n",
      "title: ref|XP_011844770.1| PREDICTED: protein EMSY isoform X2 [Mandrillus leucophaeus] >ref|XP_011900164.1| PREDICTED: protein EMSY isoform X3 [Cercocebus atys]\n",
      "alignment length: 1323\n",
      "e value: 0.0\n",
      "\n",
      "****Alignment****\n",
      "acession: XP_005579193\n",
      "title: ref|XP_005579193.1| BRCA2-interacting transcriptional repressor EMSY isoform X7 [Macaca fascicularis] >ref|XP_011717434.1| BRCA2-interacting transcriptional repressor EMSY isoform X7 [Macaca nemestrina] >ref|XP_014970718.1| BRCA2-interacting transcriptional repressor EMSY isoform X5 [Macaca mulatta] >ref|XP_050612020.1| BRCA2-interacting transcriptional repressor EMSY isoform X5 [Macaca thibetana thibetana]\n",
      "alignment length: 1322\n",
      "e value: 0.0\n",
      "\n",
      "****Alignment****\n",
      "acession: XP_011794353\n",
      "title: ref|XP_011794353.1| PREDICTED: protein EMSY isoform X4 [Colobus angolensis palliatus]\n",
      "alignment length: 1322\n",
      "e value: 0.0\n",
      "\n",
      "****Alignment****\n",
      "acession: XP_026302766\n",
      "title: ref|XP_026302766.1| BRCA2-interacting transcriptional repressor EMSY isoform X5 [Piliocolobus tephrosceles]\n",
      "alignment length: 1322\n",
      "e value: 0.0\n",
      "\n",
      "****Alignment****\n",
      "acession: XP_005579191\n",
      "title: ref|XP_005579191.1| BRCA2-interacting transcriptional repressor EMSY isoform X5 [Macaca fascicularis] >ref|XP_011717431.1| BRCA2-interacting transcriptional repressor EMSY isoform X5 [Macaca nemestrina] >ref|XP_014970716.1| BRCA2-interacting transcriptional repressor EMSY isoform X3 [Macaca mulatta] >ref|XP_050612017.1| BRCA2-interacting transcriptional repressor EMSY isoform X3 [Macaca thibetana thibetana] >gb|EHH23263.1| hypothetical protein EGK_06698 [Macaca mulatta] >gb|EHH56598.1| hypothetical protein EGM_06047 [Macaca fascicularis]\n",
      "alignment length: 1323\n",
      "e value: 0.0\n",
      "\n",
      "****Alignment****\n",
      "acession: XP_017388527\n",
      "title: ref|XP_017388527.1| BRCA2-interacting transcriptional repressor EMSY isoform X5 [Cebus imitator] >ref|XP_032115017.1| BRCA2-interacting transcriptional repressor EMSY isoform X5 [Sapajus apella]\n",
      "alignment length: 1322\n",
      "e value: 0.0\n",
      "\n",
      "****Alignment****\n",
      "acession: XP_012325054\n",
      "title: ref|XP_012325054.1| BRCA2-interacting transcriptional repressor EMSY isoform X7 [Aotus nancymaae]\n",
      "alignment length: 1322\n",
      "e value: 0.0\n",
      "\n",
      "****Alignment****\n",
      "acession: XP_010332639\n",
      "title: ref|XP_010332639.1| BRCA2-interacting transcriptional repressor EMSY isoform X4 [Saimiri boliviensis boliviensis]\n",
      "alignment length: 1322\n",
      "e value: 0.0\n",
      "\n",
      "****Alignment****\n",
      "acession: XP_010365082\n",
      "title: ref|XP_010365082.1| BRCA2-interacting transcriptional repressor EMSY isoform X2 [Rhinopithecus roxellana] >ref|XP_017724132.1| PREDICTED: BRCA2-interacting transcriptional repressor EMSY isoform X4 [Rhinopithecus bieti]\n",
      "alignment length: 1323\n",
      "e value: 0.0\n",
      "\n",
      "****Alignment****\n",
      "acession: XP_009005652\n",
      "title: ref|XP_009005652.1| BRCA2-interacting transcriptional repressor EMSY isoform X7 [Callithrix jacchus]\n",
      "alignment length: 1322\n",
      "e value: 0.0\n",
      "\n",
      "****Alignment****\n",
      "acession: XP_011794351\n",
      "title: ref|XP_011794351.1| PREDICTED: protein EMSY isoform X2 [Colobus angolensis palliatus]\n",
      "alignment length: 1323\n",
      "e value: 0.0\n",
      "\n",
      "****Alignment****\n",
      "acession: XP_026302764\n",
      "title: ref|XP_026302764.1| BRCA2-interacting transcriptional repressor EMSY isoform X3 [Piliocolobus tephrosceles]\n",
      "alignment length: 1323\n",
      "e value: 0.0\n",
      "\n",
      "****Alignment****\n",
      "acession: XP_033063751\n",
      "title: ref|XP_033063751.1| BRCA2-interacting transcriptional repressor EMSY isoform X7 [Trachypithecus francoisi]\n",
      "alignment length: 1322\n",
      "e value: 0.0\n",
      "\n",
      "****Alignment****\n",
      "acession: XP_017388525\n",
      "title: ref|XP_017388525.1| BRCA2-interacting transcriptional repressor EMSY isoform X3 [Cebus imitator] >ref|XP_032115015.1| BRCA2-interacting transcriptional repressor EMSY isoform X3 [Sapajus apella]\n",
      "alignment length: 1323\n",
      "e value: 0.0\n",
      "\n",
      "****Alignment****\n",
      "acession: XP_012325052\n",
      "title: ref|XP_012325052.1| BRCA2-interacting transcriptional repressor EMSY isoform X5 [Aotus nancymaae]\n",
      "alignment length: 1323\n",
      "e value: 0.0\n",
      "\n",
      "****Alignment****\n",
      "acession: XP_010332637\n",
      "title: ref|XP_010332637.1| BRCA2-interacting transcriptional repressor EMSY isoform X2 [Saimiri boliviensis boliviensis]\n",
      "alignment length: 1323\n",
      "e value: 0.0\n",
      "\n",
      "****Alignment****\n",
      "acession: XP_033063749\n",
      "title: ref|XP_033063749.1| BRCA2-interacting transcriptional repressor EMSY isoform X5 [Trachypithecus francoisi]\n",
      "alignment length: 1323\n",
      "e value: 0.0\n",
      "\n",
      "****Alignment****\n",
      "acession: XP_009005650\n",
      "title: ref|XP_009005650.1| BRCA2-interacting transcriptional repressor EMSY isoform X5 [Callithrix jacchus]\n",
      "alignment length: 1323\n",
      "e value: 0.0\n"
     ]
    },
    {
     "data": {
      "text/plain": [
       "[<Bio.Blast.Record.Alignment at 0x28c1826d4c0>,\n",
       " <Bio.Blast.Record.Alignment at 0x28c1826d5b0>,\n",
       " <Bio.Blast.Record.Alignment at 0x28c1826d7c0>,\n",
       " <Bio.Blast.Record.Alignment at 0x28c1826d0d0>,\n",
       " <Bio.Blast.Record.Alignment at 0x28c18274640>,\n",
       " <Bio.Blast.Record.Alignment at 0x28c182745e0>,\n",
       " <Bio.Blast.Record.Alignment at 0x28c182ba220>,\n",
       " <Bio.Blast.Record.Alignment at 0x28c182ba370>,\n",
       " <Bio.Blast.Record.Alignment at 0x28c182ba250>,\n",
       " <Bio.Blast.Record.Alignment at 0x28c182ba040>,\n",
       " <Bio.Blast.Record.Alignment at 0x28c182ba2b0>,\n",
       " <Bio.Blast.Record.Alignment at 0x28c182ba520>,\n",
       " <Bio.Blast.Record.Alignment at 0x28c182ba4c0>,\n",
       " <Bio.Blast.Record.Alignment at 0x28c182ba580>,\n",
       " <Bio.Blast.Record.Alignment at 0x28c182ba6a0>,\n",
       " <Bio.Blast.Record.Alignment at 0x28c182ba850>,\n",
       " <Bio.Blast.Record.Alignment at 0x28c182ba8e0>,\n",
       " <Bio.Blast.Record.Alignment at 0x28c182ba970>,\n",
       " <Bio.Blast.Record.Alignment at 0x28c182baa00>,\n",
       " <Bio.Blast.Record.Alignment at 0x28c182baa90>,\n",
       " <Bio.Blast.Record.Alignment at 0x28c182bab20>,\n",
       " <Bio.Blast.Record.Alignment at 0x28c182bac40>,\n",
       " <Bio.Blast.Record.Alignment at 0x28c182bacd0>,\n",
       " <Bio.Blast.Record.Alignment at 0x28c182badf0>,\n",
       " <Bio.Blast.Record.Alignment at 0x28c182ca070>,\n",
       " <Bio.Blast.Record.Alignment at 0x28c182ca100>,\n",
       " <Bio.Blast.Record.Alignment at 0x28c182ca2b0>,\n",
       " <Bio.Blast.Record.Alignment at 0x28c182ca340>,\n",
       " <Bio.Blast.Record.Alignment at 0x28c182ca460>]"
      ]
     },
     "execution_count": 34,
     "metadata": {},
     "output_type": "execute_result"
    }
   ],
   "source": [
    "c11orf30_nr_filtered_blast = blast_filter(c11orf30_nr_blast_record, 0.05, 99, 99)\n",
    "c11orf30_nr_filtered_blast"
   ]
  },
  {
   "cell_type": "code",
   "execution_count": 35,
   "metadata": {},
   "outputs": [
    {
     "name": "stdout",
     "output_type": "stream",
     "text": [
      "29 filtered sequences\n"
     ]
    }
   ],
   "source": [
    "if len(c11orf30_nr_filtered_blast) == 1:\n",
    "    print(len(c11orf30_nr_filtered_blast), \"filtered sequence\")\n",
    "elif len(c11orf30_nr_filtered_blast) == 0 or len(c11orf30_nr_filtered_blast) >= 1:\n",
    "    print(len(c11orf30_nr_filtered_blast), \"filtered sequences\")"
   ]
  },
  {
   "cell_type": "markdown",
   "metadata": {},
   "source": [
    "## Gene TSLP"
   ]
  },
  {
   "cell_type": "markdown",
   "metadata": {},
   "source": [
    "BLAST contra a base de dados swissprot"
   ]
  },
  {
   "cell_type": "code",
   "execution_count": 36,
   "metadata": {},
   "outputs": [],
   "source": [
    "tslp_swissprot_blast_record = blast(\"AAK67490.1\", \"blastp\", \"swissprot\", \"tslp_swissprot_protein_blast\")"
   ]
  },
  {
   "cell_type": "code",
   "execution_count": 37,
   "metadata": {},
   "outputs": [
    {
     "name": "stdout",
     "output_type": "stream",
     "text": [
      "2 hits\n"
     ]
    }
   ],
   "source": [
    "print(len(tslp_swissprot_blast_record.alignments), \"hits\")"
   ]
  },
  {
   "cell_type": "code",
   "execution_count": 38,
   "metadata": {},
   "outputs": [
    {
     "name": "stdout",
     "output_type": "stream",
     "text": [
      "\n",
      "****Alignment****\n",
      "acession: Q969D9\n",
      "title: sp|Q969D9.1| RecName: Full=Thymic stromal lymphopoietin; Flags: Precursor [Homo sapiens]\n",
      "alignment length: 159\n",
      "e value: 2.53914e-117\n"
     ]
    },
    {
     "data": {
      "text/plain": [
       "[<Bio.Blast.Record.Alignment at 0x28c1826d790>]"
      ]
     },
     "execution_count": 38,
     "metadata": {},
     "output_type": "execute_result"
    }
   ],
   "source": [
    "tslp_swissprot_filtered_blast = blast_filter(tslp_swissprot_blast_record, 0.05, 80, 80)\n",
    "tslp_swissprot_filtered_blast"
   ]
  },
  {
   "cell_type": "code",
   "execution_count": 39,
   "metadata": {},
   "outputs": [
    {
     "name": "stdout",
     "output_type": "stream",
     "text": [
      "1 filtered sequence\n"
     ]
    }
   ],
   "source": [
    "if len(tslp_swissprot_filtered_blast) == 1:\n",
    "    print(len(tslp_swissprot_filtered_blast), \"filtered sequence\")\n",
    "elif len(tslp_swissprot_filtered_blast) == 0 or len(tslp_swissprot_filtered_blast) >= 1:\n",
    "    print(len(tslp_swissprot_filtered_blast), \"filtered sequences\")"
   ]
  },
  {
   "cell_type": "markdown",
   "metadata": {},
   "source": [
    "BLAST contra a base de dados nr (non-redundant)"
   ]
  },
  {
   "cell_type": "code",
   "execution_count": 40,
   "metadata": {},
   "outputs": [],
   "source": [
    "tslp_nr_blast_record = blast(\"AAK67490.1\", \"blastp\", \"nr\", \"tslp_nr_protein_blast\")"
   ]
  },
  {
   "cell_type": "code",
   "execution_count": 41,
   "metadata": {},
   "outputs": [
    {
     "name": "stdout",
     "output_type": "stream",
     "text": [
      "50 hits\n"
     ]
    }
   ],
   "source": [
    "print(len(tslp_nr_blast_record.alignments), \"hits\")"
   ]
  },
  {
   "cell_type": "code",
   "execution_count": 45,
   "metadata": {},
   "outputs": [
    {
     "name": "stdout",
     "output_type": "stream",
     "text": [
      "\n",
      "****Alignment****\n",
      "acession: NP_149024\n",
      "title: ref|NP_149024.1| thymic stromal lymphopoietin isoform 1 precursor [Homo sapiens] >ref|XP_057158304.1| thymic stromal lymphopoietin isoform X2 [Pan paniscus] >sp|Q969D9.1| RecName: Full=Thymic stromal lymphopoietin; Flags: Precursor [Homo sapiens] >gb|PNI34937.1| TSLP isoform 2 [Pan troglodytes] >dbj|BAJ20847.1| thymic stromal lymphopoietin, partial [synthetic construct] >gb|AAK60617.1| thymic stromal lymphopoietin protein TSLP [Homo sapiens] >gb|AAK67490.1| thymic stromal lymphopoietin [Homo sapiens] >gb|EAW49037.1| thymic stromal lymphopoietin, isoform CRA_a [Homo sapiens]\n",
      "alignment length: 159\n",
      "e value: 3.54175e-114\n",
      "\n",
      "****Alignment****\n",
      "acession: PNJ80532\n",
      "title: gb|PNJ80532.1| TSLP isoform 3, partial [Pongo abelii]\n",
      "alignment length: 159\n",
      "e value: 5.97347e-111\n",
      "\n",
      "****Alignment****\n",
      "acession: 5J12_A\n",
      "title: pdb|5J12|A Chain A, Thymic stromal lymphopoietin [Homo sapiens]\n",
      "alignment length: 163\n",
      "e value: 1.61083e-106\n",
      "\n",
      "****Alignment****\n",
      "acession: XP_016809101\n",
      "title: ref|XP_016809101.2| thymic stromal lymphopoietin isoform X1 [Pan troglodytes] >ref|XP_054968507.1| thymic stromal lymphopoietin isoform X1 [Pan paniscus]\n",
      "alignment length: 173\n",
      "e value: 5.13385e-106\n",
      "\n",
      "****Alignment****\n",
      "acession: XP_047273802\n",
      "title: ref|XP_047273802.1| thymic stromal lymphopoietin isoform X1 [Homo sapiens] >ref|XP_054540500.1| thymic stromal lymphopoietin isoform X2 [Pan troglodytes]\n",
      "alignment length: 149\n",
      "e value: 1.5594e-105\n",
      "\n",
      "****Alignment****\n",
      "acession: XP_003826800\n",
      "title: ref|XP_003826800.1| thymic stromal lymphopoietin isoform X3 [Pan paniscus] >gb|AAH40592.1| TSLP protein [Homo sapiens] >gb|KAI2538412.1| thymic stromal lymphopoietin [Homo sapiens] >gb|KAI4022184.1| thymic stromal lymphopoietin [Homo sapiens] >gb|PNI34936.1| TSLP isoform 1 [Pan troglodytes]\n",
      "alignment length: 159\n",
      "e value: 2.10854e-105\n",
      "\n",
      "****Alignment****\n",
      "acession: XP_054344267\n",
      "title: ref|XP_054344267.1| thymic stromal lymphopoietin [Pongo pygmaeus] >gb|PNJ80531.1| TSLP isoform 2 [Pongo abelii]\n",
      "alignment length: 159\n",
      "e value: 4.61205e-103\n",
      "\n",
      "****Alignment****\n",
      "acession: XP_003259868\n",
      "title: ref|XP_003259868.2| thymic stromal lymphopoietin [Nomascus leucogenys]\n",
      "alignment length: 159\n",
      "e value: 6.37972e-99\n",
      "\n",
      "****Alignment****\n",
      "acession: XP_011721784\n",
      "title: ref|XP_011721784.1| thymic stromal lymphopoietin isoform X2 [Macaca nemestrina]\n",
      "alignment length: 149\n",
      "e value: 3.14861e-92\n",
      "\n",
      "****Alignment****\n",
      "acession: XP_001100503\n",
      "title: ref|XP_001100503.1| thymic stromal lymphopoietin [Macaca mulatta] >ref|XP_011721783.1| thymic stromal lymphopoietin isoform X1 [Macaca nemestrina]\n",
      "alignment length: 159\n",
      "e value: 3.15211e-92\n",
      "\n",
      "****Alignment****\n",
      "acession: XP_025244335\n",
      "title: ref|XP_025244335.1| thymic stromal lymphopoietin [Theropithecus gelada]\n",
      "alignment length: 159\n",
      "e value: 3.25756e-92\n",
      "\n",
      "****Alignment****\n",
      "acession: XP_011895318\n",
      "title: ref|XP_011895318.1| PREDICTED: thymic stromal lymphopoietin [Cercocebus atys]\n",
      "alignment length: 149\n",
      "e value: 4.37574e-92\n",
      "\n",
      "****Alignment****\n",
      "acession: EHH26699\n",
      "title: gb|EHH26699.1| hypothetical protein EGK_16744 [Macaca mulatta] >gb|EHH54440.1| hypothetical protein EGM_15282 [Macaca fascicularis]\n",
      "alignment length: 159\n",
      "e value: 1.26935e-91\n",
      "\n",
      "****Alignment****\n",
      "acession: XP_031522246\n",
      "title: ref|XP_031522246.1| thymic stromal lymphopoietin [Papio anubis] >ref|XP_031522247.1| thymic stromal lymphopoietin [Papio anubis]\n",
      "alignment length: 149\n",
      "e value: 1.84154e-91\n",
      "\n",
      "****Alignment****\n",
      "acession: XP_011844791\n",
      "title: ref|XP_011844791.1| PREDICTED: thymic stromal lymphopoietin [Mandrillus leucophaeus]\n",
      "alignment length: 159\n",
      "e value: 1.90473e-91\n",
      "\n",
      "****Alignment****\n",
      "acession: XP_050649065\n",
      "title: ref|XP_050649065.1| thymic stromal lymphopoietin [Macaca thibetana thibetana]\n",
      "alignment length: 159\n",
      "e value: 2.6761e-91\n",
      "\n",
      "****Alignment****\n",
      "acession: XP_005557555\n",
      "title: ref|XP_005557555.2| thymic stromal lymphopoietin [Macaca fascicularis]\n",
      "alignment length: 159\n",
      "e value: 3.36927e-91\n",
      "\n",
      "****Alignment****\n",
      "acession: XP_005557555\n",
      "title: ref|XP_005557555.1| PREDICTED: thymic stromal lymphopoietin [Macaca fascicularis]\n",
      "alignment length: 159\n",
      "e value: 4.73372e-91\n",
      "\n",
      "****Alignment****\n",
      "acession: 5J11_A\n",
      "title: pdb|5J11|A Chain A, Thymic stromal lymphopoietin [Homo sapiens] >pdb|5J13|A Chain A, Thymic stromal lymphopoietin [Homo sapiens]\n",
      "alignment length: 147\n",
      "e value: 5.34697e-87\n",
      "\n",
      "****Alignment****\n",
      "acession: XP_003920983\n",
      "title: ref|XP_003920983.1| thymic stromal lymphopoietin [Saimiri boliviensis boliviensis]\n",
      "alignment length: 157\n",
      "e value: 4.00733e-76\n",
      "\n",
      "****Alignment****\n",
      "acession: XP_017382658\n",
      "title: ref|XP_017382658.1| thymic stromal lymphopoietin [Cebus imitator]\n",
      "alignment length: 157\n",
      "e value: 3.91654e-75\n"
     ]
    },
    {
     "data": {
      "text/plain": [
       "[<Bio.Blast.Record.Alignment at 0x28c143c8a90>,\n",
       " <Bio.Blast.Record.Alignment at 0x28c182de0d0>,\n",
       " <Bio.Blast.Record.Alignment at 0x28c143c8be0>,\n",
       " <Bio.Blast.Record.Alignment at 0x28c182de160>,\n",
       " <Bio.Blast.Record.Alignment at 0x28c182de1f0>,\n",
       " <Bio.Blast.Record.Alignment at 0x28c182de280>,\n",
       " <Bio.Blast.Record.Alignment at 0x28c182de310>,\n",
       " <Bio.Blast.Record.Alignment at 0x28c182de3a0>,\n",
       " <Bio.Blast.Record.Alignment at 0x28c182de430>,\n",
       " <Bio.Blast.Record.Alignment at 0x28c182de4c0>,\n",
       " <Bio.Blast.Record.Alignment at 0x28c182de550>,\n",
       " <Bio.Blast.Record.Alignment at 0x28c182de5e0>,\n",
       " <Bio.Blast.Record.Alignment at 0x28c182de670>,\n",
       " <Bio.Blast.Record.Alignment at 0x28c182de700>,\n",
       " <Bio.Blast.Record.Alignment at 0x28c182de790>,\n",
       " <Bio.Blast.Record.Alignment at 0x28c182de820>,\n",
       " <Bio.Blast.Record.Alignment at 0x28c182de8b0>,\n",
       " <Bio.Blast.Record.Alignment at 0x28c182caa90>,\n",
       " <Bio.Blast.Record.Alignment at 0x28c15a06340>,\n",
       " <Bio.Blast.Record.Alignment at 0x28c182cac70>,\n",
       " <Bio.Blast.Record.Alignment at 0x28c182a5f10>]"
      ]
     },
     "execution_count": 45,
     "metadata": {},
     "output_type": "execute_result"
    }
   ],
   "source": [
    "tslp_nr_filtered_blast = blast_filter(tslp_nr_blast_record, 0.05, 80, 80)\n",
    "tslp_nr_filtered_blast"
   ]
  },
  {
   "cell_type": "code",
   "execution_count": 46,
   "metadata": {},
   "outputs": [
    {
     "name": "stdout",
     "output_type": "stream",
     "text": [
      "21 filtered sequences\n"
     ]
    }
   ],
   "source": [
    "if len(tslp_nr_filtered_blast) == 1:\n",
    "    print(len(tslp_nr_filtered_blast), \"filtered sequence\")\n",
    "elif len(tslp_nr_filtered_blast) == 0 or len(tslp_nr_filtered_blast) >= 1:\n",
    "    print(len(tslp_nr_filtered_blast), \"filtered sequences\")"
   ]
  },
  {
   "cell_type": "markdown",
   "metadata": {},
   "source": [
    "## Web scrapping da função das sequências homólogas"
   ]
  },
  {
   "cell_type": "code",
   "execution_count": 96,
   "metadata": {},
   "outputs": [
    {
     "name": "stdout",
     "output_type": "stream",
     "text": [
      "['NP_149024.1', 'PNJ80532.1', '5J12', 'XP_016809101.2', 'XP_047273802.1', 'XP_003826800.1', 'XP_054344267.1', 'XP_003259868.2', 'XP_011721784.1', 'XP_001100503.1', 'XP_025244335.1', 'XP_011895318.1', 'EHH26699.1', 'XP_031522246.1', 'XP_011844791.1', 'XP_050649065.1', 'XP_005557555.2', 'XP_005557555.1', '5J11', 'XP_003920983.1', 'XP_017382658.1']\n"
     ]
    }
   ],
   "source": [
    "ncbi_ids = []\n",
    "for alignment in tslp_nr_filtered_blast:\n",
    "    ncbi_id = extract_ncbi_id_from_alignment(alignment)\n",
    "    ncbi_ids.append(ncbi_id)\n",
    "print(ncbi_ids)"
   ]
  },
  {
   "cell_type": "code",
   "execution_count": 97,
   "metadata": {},
   "outputs": [
    {
     "name": "stdout",
     "output_type": "stream",
     "text": [
      "NP_149024.1 function: Erro: Incapaz de retribuir informação para NP_149024.1. Status code: 400\n",
      "PNJ80532.1 function: Erro: Incapaz de retribuir informação para PNJ80532.1. Status code: 400\n",
      "5J12 function: Erro: Incapaz de retribuir informação para 5J12. Status code: 400\n",
      "XP_016809101.2 function: Erro: Incapaz de retribuir informação para XP_016809101.2. Status code: 400\n",
      "XP_047273802.1 function: Erro: Incapaz de retribuir informação para XP_047273802.1. Status code: 400\n",
      "XP_003826800.1 function: Erro: Incapaz de retribuir informação para XP_003826800.1. Status code: 400\n",
      "XP_054344267.1 function: Erro: Incapaz de retribuir informação para XP_054344267.1. Status code: 400\n",
      "XP_003259868.2 function: Erro: Incapaz de retribuir informação para XP_003259868.2. Status code: 400\n",
      "XP_011721784.1 function: Erro: Incapaz de retribuir informação para XP_011721784.1. Status code: 400\n",
      "XP_001100503.1 function: Erro: Incapaz de retribuir informação para XP_001100503.1. Status code: 400\n",
      "XP_025244335.1 function: Erro: Incapaz de retribuir informação para XP_025244335.1. Status code: 400\n",
      "XP_011895318.1 function: Erro: Incapaz de retribuir informação para XP_011895318.1. Status code: 400\n",
      "EHH26699.1 function: Erro: Incapaz de retribuir informação para EHH26699.1. Status code: 400\n",
      "XP_031522246.1 function: Erro: Incapaz de retribuir informação para XP_031522246.1. Status code: 400\n",
      "XP_011844791.1 function: Erro: Incapaz de retribuir informação para XP_011844791.1. Status code: 400\n",
      "XP_050649065.1 function: Erro: Incapaz de retribuir informação para XP_050649065.1. Status code: 400\n",
      "XP_005557555.2 function: Erro: Incapaz de retribuir informação para XP_005557555.2. Status code: 400\n",
      "XP_005557555.1 function: Erro: Incapaz de retribuir informação para XP_005557555.1. Status code: 400\n",
      "5J11 function: Erro: Incapaz de retribuir informação para 5J11. Status code: 400\n",
      "XP_003920983.1 function: Erro: Incapaz de retribuir informação para XP_003920983.1. Status code: 400\n",
      "XP_017382658.1 function: Erro: Incapaz de retribuir informação para XP_017382658.1. Status code: 400\n"
     ]
    }
   ],
   "source": [
    "for ncbi_id in ncbi_ids:\n",
    "    protein_function = get_protein_function(ncbi_id)\n",
    "    print(f\"{ncbi_id} function: {protein_function}\")"
   ]
  },
  {
   "cell_type": "code",
   "execution_count": 99,
   "metadata": {},
   "outputs": [
    {
     "data": {
      "text/plain": [
       "'Erro: Incapaz de retribuir informação para NP_149024.1 . Status code: 400'"
      ]
     },
     "execution_count": 99,
     "metadata": {},
     "output_type": "execute_result"
    }
   ],
   "source": [
    "get_protein_function(\"NP_149024.1 \")"
   ]
  }
 ],
 "metadata": {
  "kernelspec": {
   "display_name": "base",
   "language": "python",
   "name": "python3"
  },
  "language_info": {
   "codemirror_mode": {
    "name": "ipython",
    "version": 3
   },
   "file_extension": ".py",
   "mimetype": "text/x-python",
   "name": "python",
   "nbconvert_exporter": "python",
   "pygments_lexer": "ipython3",
   "version": "3.9.13"
  }
 },
 "nbformat": 4,
 "nbformat_minor": 2
}
