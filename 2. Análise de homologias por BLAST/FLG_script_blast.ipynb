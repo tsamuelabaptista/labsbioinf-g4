{
 "cells": [
  {
   "cell_type": "markdown",
   "metadata": {},
   "source": [
    "# Análise de homologias por BLAST"
   ]
  },
  {
   "cell_type": "code",
   "execution_count": 13,
   "metadata": {},
   "outputs": [],
   "source": [
    "from Bio.Blast import NCBIXML \n",
    "from Bio.Blast import NCBIWWW "
   ]
  },
  {
   "cell_type": "code",
   "execution_count": 14,
   "metadata": {},
   "outputs": [],
   "source": [
    "def blast(accession : str, program : str, database : str, filename : str):\n",
    "    \"\"\"\n",
    "    função que executa um blast de uma sequência do NCBI e guarda o resultado\n",
    "    recebe o identificador da seq no NCBI, o tipo de programa de blast, a base de dados usada \n",
    "    e o nome do ficheiro que queremos guardar a informação\n",
    "    \"\"\"\n",
    "    result_handle = NCBIWWW.qblast(program, database, accession)\n",
    "\n",
    "    save_file = open(filename, \"w\")\n",
    "    save_file.write(result_handle.read())\n",
    "    save_file.close()\n",
    "    result_handle.close()\n",
    "\n",
    "    result_handle = open(filename)\n",
    "\n",
    "    blast_record = NCBIXML.read(result_handle)\n",
    "\n",
    "    return blast_record"
   ]
  },
  {
   "cell_type": "code",
   "execution_count": 15,
   "metadata": {},
   "outputs": [],
   "source": [
    "def blast_filter(blast_record, e_value_threshold : float, coverage_threshold : float, per_identity_threshold : float):\n",
    "    filtered_alignments = []\n",
    "    for alignment in blast_record.alignments:\n",
    "        for hsp in alignment.hsps:\n",
    "            # coverage = hsp.align_length / blast_record.query_length\n",
    "            e_value = hsp.expect\n",
    "            coverage = (hsp.query_end - hsp.query_start + 1) / blast_record.query_length * 100\n",
    "            per_identity = (hsp.identities / hsp.align_length) * 100\n",
    "            if e_value <= e_value_threshold and coverage >= coverage_threshold and per_identity >= per_identity_threshold:\n",
    "                print('\\n****Alignment****')\n",
    "                print('acession:', alignment.accession)\n",
    "                print('title:', alignment.title)\n",
    "                print('alignment length:', alignment.length)\n",
    "                print('e value:', hsp.expect)\n",
    "                #print('hsp length:', hsp.align_length)\n",
    "                #print('hsps:', len(alignment.hsps))\n",
    "                filtered_alignments.append(alignment)\n",
    "    return filtered_alignments"
   ]
  },
  {
   "cell_type": "markdown",
   "metadata": {},
   "source": [
    "## Gene FLG"
   ]
  },
  {
   "cell_type": "code",
   "execution_count": 16,
   "metadata": {},
   "outputs": [],
   "source": [
    "flg_swissprot_blast_record = blast(\"60097902\", \"blastp\", \"swissprot\", \"flg_protein_blast\")"
   ]
  },
  {
   "cell_type": "code",
   "execution_count": 17,
   "metadata": {},
   "outputs": [
    {
     "name": "stdout",
     "output_type": "stream",
     "text": [
      "22 hits\n"
     ]
    }
   ],
   "source": [
    "print(len(flg_swissprot_blast_record.alignments), \"hits\")"
   ]
  },
  {
   "cell_type": "code",
   "execution_count": 20,
   "metadata": {},
   "outputs": [
    {
     "name": "stdout",
     "output_type": "stream",
     "text": [
      "\n",
      "****Alignment****\n",
      "acession: P20930\n",
      "title: sp|P20930.3| RecName: Full=Filaggrin [Homo sapiens]\n",
      "alignment length: 4061\n",
      "e value: 0.0\n"
     ]
    },
    {
     "data": {
      "text/plain": [
       "[<Bio.Blast.Record.Alignment at 0x292ac4b4a60>]"
      ]
     },
     "execution_count": 20,
     "metadata": {},
     "output_type": "execute_result"
    }
   ],
   "source": [
    "flg_filtered_blast = blast_filter(flg_swissprot_blast_record, 0.05, 80, 80)\n",
    "flg_filtered_blast"
   ]
  },
  {
   "cell_type": "code",
   "execution_count": 21,
   "metadata": {},
   "outputs": [
    {
     "name": "stdout",
     "output_type": "stream",
     "text": [
      "1 filtered sequence\n"
     ]
    }
   ],
   "source": [
    "if len(flg_filtered_blast) == 1:\n",
    "    print(len(flg_filtered_blast), \"filtered sequence\")\n",
    "elif len(flg_filtered_blast) == 0 or len(flg_filtered_blast) >= 1:\n",
    "    print(len(flg_filtered_blast), \"filtered sequences\")"
   ]
  },
  {
   "cell_type": "markdown",
   "metadata": {},
   "source": [
    "**Não esquecer de ver a abrangencia taxonomica e os dominios conservados das seqs homologas e comparar com a query**"
   ]
  },
  {
   "cell_type": "markdown",
   "metadata": {},
   "source": [
    "## Gene C11ORF30"
   ]
  },
  {
   "cell_type": "code",
   "execution_count": 22,
   "metadata": {},
   "outputs": [],
   "source": [
    "c11orf30_swissprot_blast_record = blast(\"60097902\", \"blastp\", \"swissprot\", \"c11orf30_protein_blast\")"
   ]
  },
  {
   "cell_type": "code",
   "execution_count": null,
   "metadata": {},
   "outputs": [],
   "source": [
    "print(len(c11orf30_swissprot_blast_record.alignments), \"hits\")"
   ]
  },
  {
   "cell_type": "code",
   "execution_count": null,
   "metadata": {},
   "outputs": [],
   "source": [
    "c11orf30_filtered_blast = blast_filter(c11orf30_swissprot_blast_record, 0.05, 80, 80)\n",
    "c11orf30_filtered_blast"
   ]
  },
  {
   "cell_type": "code",
   "execution_count": null,
   "metadata": {},
   "outputs": [],
   "source": [
    "if len(c11orf30_filtered_blast) == 1:\n",
    "    print(len(c11orf30_filtered_blast), \"filtered sequence\")\n",
    "elif len(c11orf30_filtered_blast) == 0 or len(c11orf30_filtered_blast) >= 1:\n",
    "    print(len(c11orf30_filtered_blast), \"filtered sequences\")"
   ]
  },
  {
   "cell_type": "markdown",
   "metadata": {},
   "source": [
    "## Gene TSLP"
   ]
  },
  {
   "cell_type": "code",
   "execution_count": null,
   "metadata": {},
   "outputs": [],
   "source": []
  },
  {
   "cell_type": "code",
   "execution_count": null,
   "metadata": {},
   "outputs": [],
   "source": []
  },
  {
   "cell_type": "code",
   "execution_count": null,
   "metadata": {},
   "outputs": [],
   "source": []
  },
  {
   "cell_type": "code",
   "execution_count": null,
   "metadata": {},
   "outputs": [],
   "source": []
  }
 ],
 "metadata": {
  "kernelspec": {
   "display_name": "base",
   "language": "python",
   "name": "python3"
  },
  "language_info": {
   "codemirror_mode": {
    "name": "ipython",
    "version": 3
   },
   "file_extension": ".py",
   "mimetype": "text/x-python",
   "name": "python",
   "nbconvert_exporter": "python",
   "pygments_lexer": "ipython3",
   "version": "3.9.13"
  }
 },
 "nbformat": 4,
 "nbformat_minor": 2
}
