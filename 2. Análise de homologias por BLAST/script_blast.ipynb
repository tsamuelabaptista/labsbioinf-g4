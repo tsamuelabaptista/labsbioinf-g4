{
 "cells": [
  {
   "cell_type": "markdown",
   "metadata": {},
   "source": [
    "# BLAST"
   ]
  },
  {
   "cell_type": "code",
   "execution_count": 4,
   "metadata": {},
   "outputs": [],
   "source": [
    "from Bio.Blast import NCBIXML \n",
    "from Bio.Blast import NCBIWWW "
   ]
  },
  {
   "cell_type": "code",
   "execution_count": 5,
   "metadata": {},
   "outputs": [],
   "source": [
    "def blast(accession : str, program : str, database : str, filename : str):\n",
    "    \"\"\"\n",
    "    função que executa um blast de uma sequência do NCBI e guarda o resultado\n",
    "    recebe o identificador da seq no NCBI, o tipo de programa de blast, a base de dados usada \n",
    "    e o nome do ficheiro que queremos guardar a informação\n",
    "    \"\"\"\n",
    "    result_handle = NCBIWWW.qblast(program, database, accession)\n",
    "\n",
    "    save_file = open(filename, \"w\")\n",
    "    save_file.write(result_handle.read())\n",
    "    save_file.close()\n",
    "    result_handle.close()\n",
    "\n",
    "    result_handle = open(filename)\n",
    "\n",
    "    blast_record = NCBIXML.read(result_handle)\n",
    "\n",
    "    return blast_record"
   ]
  },
  {
   "cell_type": "code",
   "execution_count": 7,
   "metadata": {},
   "outputs": [],
   "source": [
    "flg_blast_record = blast(\"60097902\", \"blastp\", \"swissprot\", \"flg_protein_blast\")"
   ]
  },
  {
   "cell_type": "code",
   "execution_count": 71,
   "metadata": {},
   "outputs": [],
   "source": [
    "def blast_analysis(blast_record, e_value_threshold : float, coverage_threshold : float):\n",
    "    print(\"blast produced a total of\", len(blast_record.alignments), \"alignments\")\n",
    "    for alignment in blast_record.alignments:\n",
    "        for hsp in alignment.hsps:\n",
    "            coverage = hsp.align_length / blast_record.query_length\n",
    "            if hsp.expect <= e_value_threshold and coverage >= coverage_threshold:\n",
    "                print ('\\n****Alignment****')\n",
    "                print ('sequence:', alignment.title)\n",
    "                print ('length:', alignment.length)\n",
    "                print ('e value:', hsp.expect)\n",
    "                #print (hsp.query[0:75] + '...' )\n",
    "                #print( hsp.match[0:75] + '...' )\n",
    "                #print( hsp.sbjct[0:75] + '...' )"
   ]
  },
  {
   "cell_type": "code",
   "execution_count": 72,
   "metadata": {},
   "outputs": [
    {
     "name": "stdout",
     "output_type": "stream",
     "text": [
      "blast produced a total of 50 alignments\n",
      "\n",
      "****Alignment****\n",
      "sequence: gi|60097902|ref|NP_002007.1| filaggrin [Homo sapiens]\n",
      "length: 4061\n",
      "e value: 0.0\n",
      "\n",
      "****Alignment****\n",
      "sequence: gb|AFH55059.1| truncated profilaggrin [Homo sapiens]\n",
      "length: 4021\n",
      "e value: 0.0\n",
      "\n",
      "****Alignment****\n",
      "sequence: gb|KAI4082684.1| filaggrin [Homo sapiens]\n",
      "length: 4061\n",
      "e value: 0.0\n",
      "\n",
      "****Alignment****\n",
      "sequence: gb|KAI2519162.1| filaggrin [Homo sapiens]\n",
      "length: 4061\n",
      "e value: 0.0\n",
      "\n",
      "****Alignment****\n",
      "sequence: gb|PNI23036.1| FLG isoform 1 [Pan troglodytes]\n",
      "length: 4060\n",
      "e value: 0.0\n",
      "\n",
      "****Alignment****\n",
      "sequence: ref|XP_024204293.2| filaggrin [Pan troglodytes]\n",
      "length: 4060\n",
      "e value: 0.0\n",
      "\n",
      "****Alignment****\n",
      "sequence: ref|XP_030858012.2| filaggrin [Gorilla gorilla gorilla]\n",
      "length: 4060\n",
      "e value: 0.0\n",
      "\n",
      "****Alignment****\n",
      "sequence: ref|XP_050612572.1| LOW QUALITY PROTEIN: filaggrin [Macaca thibetana thibetana]\n",
      "length: 4060\n",
      "e value: 0.0\n",
      "\n",
      "****Alignment****\n",
      "sequence: ref|XP_037356708.1| filaggrin [Talpa occidentalis]\n",
      "length: 3906\n",
      "e value: 0.0\n"
     ]
    }
   ],
   "source": [
    "blast_analysis(flg_blast_record, 1e-50, 0.99)"
   ]
  }
 ],
 "metadata": {
  "kernelspec": {
   "display_name": "base",
   "language": "python",
   "name": "python3"
  },
  "language_info": {
   "codemirror_mode": {
    "name": "ipython",
    "version": 3
   },
   "file_extension": ".py",
   "mimetype": "text/x-python",
   "name": "python",
   "nbconvert_exporter": "python",
   "pygments_lexer": "ipython3",
   "version": "3.9.13"
  }
 },
 "nbformat": 4,
 "nbformat_minor": 2
}
