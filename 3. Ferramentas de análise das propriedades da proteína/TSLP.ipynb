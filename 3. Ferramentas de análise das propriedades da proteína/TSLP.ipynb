{
 "cells": [
  {
   "cell_type": "code",
   "execution_count": 2,
   "metadata": {},
   "outputs": [
    {
     "name": "stdout",
     "output_type": "stream",
     "text": [
      "TSLP:\n",
      "Nome: TSLP_HUMAN\n",
      "Descrição: RecName: Full=Thymic stromal lymphopoietin; Flags: Precursor;\n",
      "Comprimento da sequência: 159\n",
      "Keywords: ['3D-structure', 'Alternative splicing', 'Cytokine', 'Disulfide bond', 'Glycoprotein', 'Reference proteome', 'Secreted', 'Signal']\n"
     ]
    }
   ],
   "source": [
    "from Bio import ExPASy\n",
    "from Bio import SwissProt\n",
    "\n",
    "# Para TSLP\n",
    "tslp_entry = \"Q969D9\"  # Substitua pelo identificador correto\n",
    "handle_tslp = ExPASy.get_sprot_raw(tslp_entry)\n",
    "record_tslp = SwissProt.read(handle_tslp)\n",
    "\n",
    "\n",
    "# propriedades da proteína\n",
    "print(\"TSLP:\")\n",
    "print(\"Nome:\", record_tslp.entry_name)\n",
    "print(\"Descrição:\", record_tslp.description)\n",
    "print(\"Comprimento da sequência:\", record_tslp.sequence_length)\n",
    "print(\"Keywords:\", record_tslp.keywords)\n"
   ]
  },
  {
   "cell_type": "markdown",
   "metadata": {},
   "source": []
  }
 ],
 "metadata": {
  "kernelspec": {
   "display_name": "base",
   "language": "python",
   "name": "python3"
  },
  "language_info": {
   "codemirror_mode": {
    "name": "ipython",
    "version": 3
   },
   "file_extension": ".py",
   "mimetype": "text/x-python",
   "name": "python",
   "nbconvert_exporter": "python",
   "pygments_lexer": "ipython3",
   "version": "3.11.4"
  }
 },
 "nbformat": 4,
 "nbformat_minor": 2
}
