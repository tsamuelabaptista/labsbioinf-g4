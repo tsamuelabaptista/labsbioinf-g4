{
 "cells": [
  {
   "cell_type": "code",
   "execution_count": 5,
   "metadata": {},
   "outputs": [
    {
     "name": "stdout",
     "output_type": "stream",
     "text": [
      "Nome: WDR36_HUMAN\n",
      "Descrição: RecName: Full=WD repeat-containing protein 36; AltName: Full=T-cell activation WD repeat-containing protein; Short=TA-WDRP;\n",
      "Comprimento da sequência: 951\n",
      "Keywords: ['3D-structure', 'Disease variant', 'Glaucoma', 'Nucleus', 'Phosphoprotein', 'Reference proteome', 'Repeat', 'Ribosome biogenesis', 'rRNA processing', 'Sensory transduction', 'Vision', 'WD repeat']\n"
     ]
    }
   ],
   "source": [
    "from Bio import ExPASy\n",
    "from Bio import SwissProt\n",
    "\n",
    "# Para WDR36\n",
    "handle_tslp = ExPASy.get_sprot_raw(\"Q8NI36\")\n",
    "record_tslp = SwissProt.read(handle_tslp)\n",
    "\n",
    "\n",
    "# propriedades da proteína\n",
    "print(\"Nome:\", record_tslp.entry_name)\n",
    "print(\"Descrição:\", record_tslp.description)\n",
    "print(\"Comprimento da sequência:\", record_tslp.sequence_length)\n",
    "print(\"Keywords:\", record_tslp.keywords)\n"
   ]
  },
  {
   "cell_type": "code",
   "execution_count": null,
   "metadata": {},
   "outputs": [],
   "source": []
  }
 ],
 "metadata": {
  "kernelspec": {
   "display_name": "base",
   "language": "python",
   "name": "python3"
  },
  "language_info": {
   "codemirror_mode": {
    "name": "ipython",
    "version": 3
   },
   "file_extension": ".py",
   "mimetype": "text/x-python",
   "name": "python",
   "nbconvert_exporter": "python",
   "pygments_lexer": "ipython3",
   "version": "3.11.4"
  }
 },
 "nbformat": 4,
 "nbformat_minor": 2
}
