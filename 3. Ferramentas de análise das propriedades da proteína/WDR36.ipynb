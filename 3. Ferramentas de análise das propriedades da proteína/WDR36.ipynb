{
 "cells": [
  {
   "cell_type": "code",
   "execution_count": 2,
   "metadata": {},
   "outputs": [
    {
     "name": "stdout",
     "output_type": "stream",
     "text": [
      "\n",
      "WDR36:\n",
      "Nome: FRPD1_HUMAN\n",
      "Descrição: RecName: Full=FERM and PDZ domain-containing protein 1; AltName: Full=FERM domain-containing protein 2;\n",
      "Comprimento da sequência: 1578\n",
      "Keywords: ['3D-structure', 'Alternative splicing', 'Cell membrane', 'Cytoplasm', 'Membrane', 'Reference proteome']\n"
     ]
    }
   ],
   "source": [
    "from Bio import ExPASy\n",
    "from Bio import SwissProt\n",
    "\n",
    "# Para WDR36\n",
    "wdr36_entry = \"Q9Y2H3\"  # Substitua pelo identificador correto\n",
    "handle_wdr36 = ExPASy.get_sprot_raw(wdr36_entry)\n",
    "record_wdr36 = SwissProt.read(handle_wdr36)\n",
    "\n",
    "# Propriedades da proteína\n",
    "print(\"\\nWDR36:\")\n",
    "print(\"Nome:\", record_wdr36.entry_name)\n",
    "print(\"Descrição:\", record_wdr36.description)\n",
    "print(\"Comprimento da sequência:\", record_wdr36.sequence_length)\n",
    "print(\"Keywords:\", record_wdr36.keywords)"
   ]
  },
  {
   "cell_type": "code",
   "execution_count": null,
   "metadata": {},
   "outputs": [],
   "source": []
  }
 ],
 "metadata": {
  "kernelspec": {
   "display_name": "base",
   "language": "python",
   "name": "python3"
  },
  "language_info": {
   "codemirror_mode": {
    "name": "ipython",
    "version": 3
   },
   "file_extension": ".py",
   "mimetype": "text/x-python",
   "name": "python",
   "nbconvert_exporter": "python",
   "pygments_lexer": "ipython3",
   "version": "3.11.4"
  }
 },
 "nbformat": 4,
 "nbformat_minor": 2
}
