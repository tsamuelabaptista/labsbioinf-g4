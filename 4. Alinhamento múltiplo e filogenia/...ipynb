{
 "cells": [
  {
   "cell_type": "code",
   "execution_count": 5,
   "metadata": {},
   "outputs": [
    {
     "ename": "NameError",
     "evalue": "name 'blast_analysis' is not defined",
     "output_type": "error",
     "traceback": [
      "\u001b[1;31m---------------------------------------------------------------------------\u001b[0m",
      "\u001b[1;31mNameError\u001b[0m                                 Traceback (most recent call last)",
      "\u001b[1;32m~\\AppData\\Local\\Temp\\ipykernel_7792\\1861427250.py\u001b[0m in \u001b[0;36m<module>\u001b[1;34m\u001b[0m\n\u001b[0;32m      7\u001b[0m \u001b[1;31m#tenho q definir as seqs ou por a ler um ficheiro c as seq\u001b[0m\u001b[1;33m\u001b[0m\u001b[1;33m\u001b[0m\u001b[1;33m\u001b[0m\u001b[0m\n\u001b[0;32m      8\u001b[0m \u001b[1;33m\u001b[0m\u001b[0m\n\u001b[1;32m----> 9\u001b[1;33m \u001b[0mflg_filtered_blast\u001b[0m \u001b[1;33m=\u001b[0m \u001b[0mblast_analysis\u001b[0m\u001b[1;33m(\u001b[0m\u001b[0mflg_blast_record\u001b[0m\u001b[1;33m,\u001b[0m \u001b[1;36m0.05\u001b[0m\u001b[1;33m,\u001b[0m \u001b[1;36m0\u001b[0m\u001b[1;33m)\u001b[0m\u001b[1;33m\u001b[0m\u001b[1;33m\u001b[0m\u001b[0m\n\u001b[0m\u001b[0;32m     10\u001b[0m \u001b[0mflg_filtered_blast\u001b[0m\u001b[1;33m\u001b[0m\u001b[1;33m\u001b[0m\u001b[0m\n\u001b[0;32m     11\u001b[0m \u001b[1;33m\u001b[0m\u001b[0m\n",
      "\u001b[1;31mNameError\u001b[0m: name 'blast_analysis' is not defined"
     ]
    }
   ],
   "source": [
    "\n",
    "from Bio import SeqIO\n",
    "\n",
    "from Bio.SeqRecord import SeqRecord\n",
    "from Bio.Align import MultipleSeqAlignment\n",
    "from Bio.Seq import Seq \n",
    "\n",
    "\n",
    "records = list(SeqIO.parse(\"ls_orchid.gbk\", \"genbank\"))\n",
    "\n",
    "print(\"Found %i records\" % len(records))\n",
    "\n",
    "print(\"The last record\")\n",
    "last_record = records[-1]  # using Python's list tricks\n",
    "print(last_record.id)\n",
    "print(repr(last_record.seq))\n",
    "\n",
    "#tenho q definir as seqs ou por a ler um ficheiro c as seq \n",
    "\n",
    "\n",
    "\n",
    "#seqr1 = SeqRecord(Seq(seq1),id=\"seq1\")      #por ex alterar p o Seq(seq1)- p nossa seq 1-(mas p isso temos q definir antes)   e por no id especie?\n",
    "#seqr2 = SeqRecord(Seq(seq2),id=\"seq2”)\n",
    "#alin = MultipleSeqAlignment([seqr1, seqr2])\n",
    "\n",
    "\n",
    "#print (alin)\n"
   ]
  },
  {
   "cell_type": "code",
   "execution_count": null,
   "metadata": {},
   "outputs": [],
   "source": [
    "record = SeqIO.parse(open(\"NOME_FICHEIRO.fasta\"), format = \"fasta\")\n",
    "lista_seqs = [c.seq for c in record]\n",
    "seq_1 = lista_seqs[0]\n",
    "seq_2 = lista_seqs[1]\n",
    "seq_3 = lista_seqs[2]\n",
    "seq_4 = lista_seqs[3]\n",
    "\n",
    "\n",
    "seqr_1 = SeqRecord(seq_1, id = \"seq1\")\n",
    "seqr_2 = SeqRecord(seq_2, id = \"seq2\")\n",
    "seqr_3 = SeqRecord(seq_3, id = \"seq3\")\n",
    "seqr_4 = SeqRecord(seq_4, id = \"seq4\")\n",
    "\n",
    "alin = MultipleSeqAlignment([seqr_1,seqr_2,seqr_3,seqr_4])\n",
    "\n",
    "#Guardar ficheiros\n",
    "save_file = open(\"my_alignment_RE.fasta\", \"w\")\n",
    "save_file.write(format(alin, 'fasta')) \n",
    "save_file.close()\n",
    "\n",
    "#Ver alinhamentos\n",
    "alignment= open(\"my_alignment_RE.fasta\")\n",
    "alignment_records = AlignIO.parse(alignment, 'fasta')\n",
    "for record in alignment_records:\n",
    "    print(record)"
   ]
  },
  {
   "cell_type": "code",
   "execution_count": null,
   "metadata": {},
   "outputs": [],
   "source": [
    "calculator = DistanceCalculator('blosum62')\n",
    "dm = calculator.get_distance(record)\n",
    "print(f'Distance Matrix: \\n {dm} \\n ################################')    # ver a questao #\n",
    "\n",
    "#arvore p/UPGMA ii. Neighbor Joining iii____guardado no formato “newick”\n",
    "\n",
    "contructor = DistanceTreeConstructor()\n",
    "\n",
    "upgma_tree = contructor.upgma(dm)\n",
    "print(f'UPGMA Tree: \\n {upgma_tree} \\n ################################')\n",
    "\n",
    "nj_tree = contructor.nj(dm)\n",
    "print(f'Neighbor Joining Tree: \\n {nj_tree} \\n ################################')\n",
    "\n",
    "Phylo.write(upgma_tree, 'upgma_tree.nwk', 'newick')\n",
    "Phylo.write(nj_tree, 'nj_tree.nwk', 'newick')"
   ]
  },
  {
   "cell_type": "code",
   "execution_count": null,
   "metadata": {},
   "outputs": [],
   "source": [
    "#ler arvores\n",
    "\n",
    "upgmatree = Phylo.read('upgma_tree.nwk', 'newick')\n",
    "njtree = Phylo.read('nj_tree.nwk', 'newick')\n",
    "\n",
    "for clade in upgmatree.find_clades():\n",
    "    if \"Inner\" in clade.name:\n",
    "        clade.name = \"\"\n",
    "\n",
    "for clade in njtree.find_clades():\n",
    "    if \"Inner\" in clade.name:\n",
    "        clade.name = \"\"\n",
    "\n",
    "Phylo.draw(upgmatree)\n",
    "Phylo.draw(njtree)\n"
   ]
  }
 ],
 "metadata": {
  "kernelspec": {
   "display_name": "Python 3",
   "language": "python",
   "name": "python3"
  },
  "language_info": {
   "codemirror_mode": {
    "name": "ipython",
    "version": 3
   },
   "file_extension": ".py",
   "mimetype": "text/x-python",
   "name": "python",
   "nbconvert_exporter": "python",
   "pygments_lexer": "ipython3",
   "version": "3.7.1"
  }
 },
 "nbformat": 4,
 "nbformat_minor": 2
}
