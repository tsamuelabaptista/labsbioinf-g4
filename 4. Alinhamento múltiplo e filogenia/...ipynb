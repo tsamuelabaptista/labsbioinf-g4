{
 "cells": [
  {
   "cell_type": "code",
   "execution_count": null,
   "metadata": {},
   "outputs": [],
   "source": [
    "from Bio.Record import SeqRecord\n",
    "from Bio.Align import MultipleSeqAlignment\n",
    "from Bio.Seq import Seq \n",
    "\n",
    "#tenho q definir as seqs ou por a ler um ficheiro c as seq \n",
    "\n",
    "seqr1 = SeqRecord(Seq(seq1),id=\"seq1\")      #por ex alterar p o Seq(seq1)- p nossa seq 1-(mas p isso temos q definir antes)   e por no id especie?\n",
    "seqr2 = SeqRecord(Seq(seq2),id=\"seq2”)\n",
    "alin = MultipleSeqAlignment([seqr1, seqr2])\n"
   ]
  }
 ],
 "metadata": {
  "language_info": {
   "name": "python"
  }
 },
 "nbformat": 4,
 "nbformat_minor": 2
}
