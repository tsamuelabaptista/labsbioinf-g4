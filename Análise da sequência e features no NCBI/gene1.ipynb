{
 "cells": [
  {
   "cell_type": "code",
   "execution_count": null,
   "metadata": {},
   "outputs": [],
   "source": [
    "from Bio import Seq\n",
    "from Bio import SeqIO\n",
    "\n",
    "gene1 = SeqIO.read(\"NOME_DOC\", \"genbank\")\n",
    "gene1\n",
    "\n",
    "\n",
    "#verificar as anotações correspondentes aos genes de interesse;\n",
    "gene1.annotations\n",
    "\n",
    "\n",
    "#verificar e analisar a informação complementar fornecida pela lista de features e seus qualifiers\n",
    "gene1.features\n",
    "\n"
   ]
  }
 ],
 "metadata": {
  "language_info": {
   "name": "python"
  }
 },
 "nbformat": 4,
 "nbformat_minor": 2
}
