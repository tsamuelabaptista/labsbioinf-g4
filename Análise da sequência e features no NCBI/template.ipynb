{
 "cells": [
  {
   "cell_type": "code",
   "execution_count": 32,
   "metadata": {},
   "outputs": [
    {
     "data": {
      "text/plain": [
       "SeqRecord(seq=Seq('GCCCTGCACACAAACAACCTGTATTAGCCAAAGGGACCCTTCCATAAAATTTCC...CTT'), id='AH002947.2', name='AH002947', description='Homo sapiens profilaggrin (FLG) gene, complete cds', dbxrefs=[])"
      ]
     },
     "execution_count": 32,
     "metadata": {},
     "output_type": "execute_result"
    }
   ],
   "source": [
    "from Bio import Seq\n",
    "from Bio import SeqIO\n",
    "\n",
    "\n",
    "template = SeqIO.read(\"FLG.gb\", \"genbank\")\n",
    "template"
   ]
  },
  {
   "cell_type": "code",
   "execution_count": 33,
   "metadata": {},
   "outputs": [
    {
     "data": {
      "text/plain": [
       "{'molecule_type': 'DNA',\n",
       " 'topology': 'linear',\n",
       " 'data_file_division': 'PRI',\n",
       " 'date': '01-AUG-2016',\n",
       " 'accessions': ['AH002947', 'L01088', 'L01089'],\n",
       " 'sequence_version': 2,\n",
       " 'keywords': ['filaggrin', 'profilaggrin'],\n",
       " 'source': 'Homo sapiens (human)',\n",
       " 'organism': 'Homo sapiens',\n",
       " 'taxonomy': ['Eukaryota',\n",
       "  'Metazoa',\n",
       "  'Chordata',\n",
       "  'Craniata',\n",
       "  'Vertebrata',\n",
       "  'Euteleostomi',\n",
       "  'Mammalia',\n",
       "  'Eutheria',\n",
       "  'Euarchontoglires',\n",
       "  'Primates',\n",
       "  'Haplorrhini',\n",
       "  'Catarrhini',\n",
       "  'Hominidae',\n",
       "  'Homo'],\n",
       " 'references': [Reference(title='Characterization of the human epidermal profilaggrin gene. Genomic organization and identification of an S-100-like calcium binding domain at the amino terminus', ...)],\n",
       " 'comment': 'On or before Aug 1, 2016 this sequence version replaced L01088.1,\\nL01089.1, AH002947.1.'}"
      ]
     },
     "execution_count": 33,
     "metadata": {},
     "output_type": "execute_result"
    }
   ],
   "source": [
    "#verificar as anotações correspondentes aos genes de interesse;\n",
    "template.annotations"
   ]
  },
  {
   "cell_type": "code",
   "execution_count": 34,
   "metadata": {},
   "outputs": [
    {
     "data": {
      "text/plain": [
       "[SeqFeature(FeatureLocation(ExactPosition(0), ExactPosition(4929), strand=1), type='source'),\n",
       " SeqFeature(FeatureLocation(ExactPosition(232), ExactPosition(4929), strand=1), type='gene'),\n",
       " SeqFeature(FeatureLocation(ExactPosition(232), ExactPosition(239), strand=1), type='regulatory'),\n",
       " SeqFeature(FeatureLocation(ExactPosition(259), ExactPosition(313), strand=1), type='exon'),\n",
       " SeqFeature(CompoundLocation([FeatureLocation(ExactPosition(313), ExactPosition(663), strand=1), FeatureLocation(ExactPosition(763), ExactPosition(2564), strand=1)], 'order'), type='intron', location_operator='order'),\n",
       " SeqFeature(FeatureLocation(ExactPosition(663), ExactPosition(763), strand=1), type='gap'),\n",
       " SeqFeature(FeatureLocation(ExactPosition(2376), ExactPosition(2384), strand=1), type='protein_bind'),\n",
       " SeqFeature(FeatureLocation(ExactPosition(2564), ExactPosition(2723), strand=1), type='exon'),\n",
       " SeqFeature(CompoundLocation([FeatureLocation(ExactPosition(2585), ExactPosition(2723), strand=1), FeatureLocation(ExactPosition(3293), ExactPosition(4929), strand=1)], 'join'), type='CDS', location_operator='join'),\n",
       " SeqFeature(FeatureLocation(ExactPosition(2723), ExactPosition(3293), strand=1), type='intron'),\n",
       " SeqFeature(FeatureLocation(ExactPosition(3293), ExactPosition(4929), strand=1), type='exon')]"
      ]
     },
     "execution_count": 34,
     "metadata": {},
     "output_type": "execute_result"
    }
   ],
   "source": [
    "#verificar e analisar a informação complementar fornecida pela lista de features e seus qualifiers\n",
    "template.features"
   ]
  },
  {
   "cell_type": "code",
   "execution_count": 35,
   "metadata": {},
   "outputs": [
    {
     "name": "stdout",
     "output_type": "stream",
     "text": [
      "Temos  11  features\n"
     ]
    }
   ],
   "source": [
    "print(\"Temos \", len(template.features), \" features\")"
   ]
  },
  {
   "cell_type": "code",
   "execution_count": 36,
   "metadata": {},
   "outputs": [
    {
     "name": "stdout",
     "output_type": "stream",
     "text": [
      "source [0:4929](+)\n",
      "gene [232:4929](+)\n",
      "regulatory [232:239](+)\n",
      "exon [259:313](+)\n",
      "intron order{[313:663](+), [763:2564](+)}\n",
      "gap [663:763](+)\n",
      "protein_bind [2376:2384](+)\n",
      "exon [2564:2723](+)\n",
      "CDS join{[2585:2723](+), [3293:4929](+)}\n",
      "intron [2723:3293](+)\n",
      "exon [3293:4929](+)\n"
     ]
    }
   ],
   "source": [
    "for f in template.features: \n",
    "    print(f.type, f.location)"
   ]
  },
  {
   "cell_type": "code",
   "execution_count": 37,
   "metadata": {},
   "outputs": [
    {
     "name": "stdout",
     "output_type": "stream",
     "text": [
      "OrderedDict([('organism', ['Homo sapiens']), ('mol_type', ['genomic DNA']), ('db_xref', ['taxon:9606']), ('map', ['1q21']), ('sex', ['male caucasian']), ('tissue_type', ['placenta']), ('dev_stage', ['adult']), ('tissue_lib', ['Stratagene'])])\n",
      "OrderedDict([('gene', ['FLG'])])\n",
      "OrderedDict([('regulatory_class', ['TATA_box']), ('gene', ['FLG']), ('note', ['G00-119-912; putative'])])\n",
      "OrderedDict([('gene', ['FLG']), ('experiment', ['experimental evidence, no additional details recorded']), ('note', ['G00-119-912']), ('number', ['1'])])\n",
      "OrderedDict([('gene', ['FLG']), ('note', ['G00-119-912']), ('number', ['1'])])\n",
      "OrderedDict([('estimated_length', ['unknown'])])\n",
      "OrderedDict([('gene', ['FLG']), ('standard_name', ['AP1 site']), ('note', ['not known at present if this sequence is bound by thec-fos/cjun/AP1 complex, or whether this sequence isimportant for the upregulation of profilaggrin geneexpression by TPA.; G00-119-912; putative']), ('bound_moiety', ['AP1'])])\n",
      "OrderedDict([('gene', ['FLG']), ('experiment', ['experimental evidence, no additional details recorded']), ('note', ['G00-119-912']), ('number', ['2'])])\n",
      "OrderedDict([('gene', ['FLG']), ('codon_start', ['1']), ('product', ['profilaggrin']), ('protein_id', ['AAA60177.1']), ('db_xref', ['GDB:G00-119-912']), ('translation', ['MSTLLENIFAIINLFKQYSKKDKNTDTLSKKELKELLEKEFRQILKNPDDPDMVDVFMDHLDIDHNKKIDFTEFLLMVFKLAQAYYESTRKENLPISGHKHRKHSHHDKHEDNKQEENKENRKRPSSLERRNNRKGNKGRSKSPRETGGKRHESSSEKKERKGYSPTHREEEYGKNHHNSSKKEKNKTENTRLGDNRKRLSERLEEKEDNEEGVYDYENTGRMTQKWIQSGHIATYYTIQDEAYDTTDSLLEENKIYERSRSSDGKSSSQVNRSRHENTSQVPLQESRTRKRRGSRVSQDRDSEGHSEDSERHSGSASRNHHGSAWEQSRDGSRHPRSHDEDRASHGHSADSSRQSGTRHAETSSRGQTASSHEQARSSPGERHGSGHQQSADSSRHSATGRGQASSAVSDRGHRGSSGSQASDSEGHSENSDTQSVSGHGKAGLRQQSHQESTRGRSGERSGRSGSSLYQVSTHEQPDSAHGRTGTSTGGRQGSHHEQARDSSRHSASQEGQDTIRGHPGSSRGGRQGSHHEQSVNRSGHSGSHHSHTTSQGRSDASHGQSGSRSASRQTRNEEQSGDGTRHSGSRHHEA'])])\n",
      "OrderedDict([('gene', ['FLG']), ('experiment', ['experimental evidence, no additional details recorded']), ('note', ['G00-119-912']), ('number', ['2'])])\n",
      "OrderedDict([('gene', ['FLG']), ('experiment', ['experimental evidence, no additional details recorded']), ('note', ['G00-119-912']), ('number', ['3'])])\n"
     ]
    }
   ],
   "source": [
    "'''\n",
    "template.features[0].qualifiers\n",
    "template.features[1].qualifiers\n",
    "template.features[2].qualifiers\n",
    "template.features[3].qualifiers\n",
    "template.features[4].qualifiers\n",
    "template.features[5].qualifiers\n",
    "template.features[6].qualifiers\n",
    "template.features[7].qualifiers\n",
    "template.features[8].qualifiers\n",
    "template.features[9].qualifiers\n",
    "template.features[10].qualifiers  ## exemplo\n",
    "'''\n",
    "\n",
    "for i in range(11):\n",
    "    print(template.features[i].qualifiers)"
   ]
  },
  {
   "cell_type": "code",
   "execution_count": null,
   "metadata": {},
   "outputs": [],
   "source": []
  }
 ],
 "metadata": {
  "kernelspec": {
   "display_name": "base",
   "language": "python",
   "name": "python3"
  },
  "language_info": {
   "codemirror_mode": {
    "name": "ipython",
    "version": 3
   },
   "file_extension": ".py",
   "mimetype": "text/x-python",
   "name": "python",
   "nbconvert_exporter": "python",
   "pygments_lexer": "ipython3",
   "version": "3.11.4"
  }
 },
 "nbformat": 4,
 "nbformat_minor": 2
}
