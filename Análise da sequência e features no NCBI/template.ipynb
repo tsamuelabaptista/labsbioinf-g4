{
 "cells": [
  {
   "cell_type": "code",
   "execution_count": 1,
   "metadata": {},
   "outputs": [
    {
     "data": {
      "text/plain": [
       "[SeqFeature(FeatureLocation(ExactPosition(0), ExactPosition(4929), strand=1), type='source'),\n",
       " SeqFeature(FeatureLocation(ExactPosition(232), ExactPosition(4929), strand=1), type='gene'),\n",
       " SeqFeature(FeatureLocation(ExactPosition(232), ExactPosition(239), strand=1), type='regulatory'),\n",
       " SeqFeature(FeatureLocation(ExactPosition(259), ExactPosition(313), strand=1), type='exon'),\n",
       " SeqFeature(CompoundLocation([FeatureLocation(ExactPosition(313), ExactPosition(663), strand=1), FeatureLocation(ExactPosition(763), ExactPosition(2564), strand=1)], 'order'), type='intron', location_operator='order'),\n",
       " SeqFeature(FeatureLocation(ExactPosition(663), ExactPosition(763), strand=1), type='gap'),\n",
       " SeqFeature(FeatureLocation(ExactPosition(2376), ExactPosition(2384), strand=1), type='protein_bind'),\n",
       " SeqFeature(FeatureLocation(ExactPosition(2564), ExactPosition(2723), strand=1), type='exon'),\n",
       " SeqFeature(CompoundLocation([FeatureLocation(ExactPosition(2585), ExactPosition(2723), strand=1), FeatureLocation(ExactPosition(3293), ExactPosition(4929), strand=1)], 'join'), type='CDS', location_operator='join'),\n",
       " SeqFeature(FeatureLocation(ExactPosition(2723), ExactPosition(3293), strand=1), type='intron'),\n",
       " SeqFeature(FeatureLocation(ExactPosition(3293), ExactPosition(4929), strand=1), type='exon')]"
      ]
     },
     "execution_count": 1,
     "metadata": {},
     "output_type": "execute_result"
    }
   ],
   "source": [
    "from Bio import Seq\n",
    "from Bio import SeqIO\n",
    "\n",
    "\n",
    "template = SeqIO.read(\"FLG.gb\", \"genbank\")\n",
    "template\n",
    "\n",
    "\n",
    "#verificar as anotações correspondentes aos genes de interesse;\n",
    "template.annotations\n",
    "\n",
    "\n",
    "#verificar e analisar a informação complementar fornecida pela lista de features e seus qualifiers\n",
    "template.features\n",
    "\n"
   ]
  }
 ],
 "metadata": {
  "kernelspec": {
   "display_name": "base",
   "language": "python",
   "name": "python3"
  },
  "language_info": {
   "codemirror_mode": {
    "name": "ipython",
    "version": 3
   },
   "file_extension": ".py",
   "mimetype": "text/x-python",
   "name": "python",
   "nbconvert_exporter": "python",
   "pygments_lexer": "ipython3",
   "version": "3.11.4"
  }
 },
 "nbformat": 4,
 "nbformat_minor": 2
}
