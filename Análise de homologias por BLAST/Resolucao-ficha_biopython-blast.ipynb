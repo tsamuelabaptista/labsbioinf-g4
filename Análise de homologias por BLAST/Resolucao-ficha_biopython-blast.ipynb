{
 "cells": [
  {
   "cell_type": "markdown",
   "metadata": {},
   "source": [
    "## Ficha de Blast com BioPython"
   ]
  },
  {
   "cell_type": "code",
   "execution_count": 1,
   "metadata": {},
   "outputs": [],
   "source": [
    "from Bio.Blast import NCBIXML \n",
    "from Bio.Blast import NCBIWWW \n",
    "from Bio import SeqIO"
   ]
  },
  {
   "cell_type": "markdown",
   "metadata": {},
   "source": [
    "### Parte I"
   ]
  },
  {
   "cell_type": "markdown",
   "metadata": {},
   "source": [
    "1. Grave o ficheiro “interl.fasta” no seu ambiente de trabalho. Carregue a sequência de proteína que contém (no formato Fasta). Verifique que esta tem 178 aminoácidos."
   ]
  },
  {
   "cell_type": "code",
   "execution_count": 2,
   "metadata": {},
   "outputs": [
    {
     "name": "stdout",
     "output_type": "stream",
     "text": [
      "178\n"
     ]
    }
   ],
   "source": [
    "record = SeqIO.read(open(\"interl.fasta\"), format=\"fasta\") \n",
    "print (len(record.seq))"
   ]
  },
  {
   "cell_type": "markdown",
   "metadata": {},
   "source": [
    "2. Usando as funções do BioPython efetue uma pesquisa por sequências similares no Blast, usando a base de dados “nr” (non-redundant). Grave o resultado anterior num ficheiro XML."
   ]
  },
  {
   "cell_type": "code",
   "execution_count": 3,
   "metadata": {},
   "outputs": [],
   "source": [
    "result_handle = NCBIWWW.qblast(\"blastp\", \"nr\", record.format(\"fasta\"))"
   ]
  },
  {
   "cell_type": "code",
   "execution_count": 4,
   "metadata": {},
   "outputs": [],
   "source": [
    "save_file = open(\"interl-blast.xml\", \"w\")\n",
    "save_file.write(result_handle.read()) \n",
    "save_file.close() \n",
    "result_handle.close()"
   ]
  },
  {
   "cell_type": "markdown",
   "metadata": {},
   "source": [
    "3. Realize o parsing do ficheiro anterior com as funções do BioPython. Analise os parâmetros globais da pesquisa, verificando: a base de dados usada, a matriz de substituição e os parâmetros para os espaçamentos."
   ]
  },
  {
   "cell_type": "code",
   "execution_count": 5,
   "metadata": {},
   "outputs": [
    {
     "name": "stdout",
     "output_type": "stream",
     "text": [
      "PARAMETERS:\n",
      "Database: nr\n",
      "Matrix: BLOSUM62\n",
      "Gap penalties:  (11, 1)\n"
     ]
    }
   ],
   "source": [
    "result_handle = open(\"interl-blast.xml\")\n",
    "blast_record = NCBIXML.read(result_handle)\n",
    "\n",
    "print (\"PARAMETERS:\")\n",
    "print (\"Database: \" + blast_record.database)\n",
    "print (\"Matrix: \" + blast_record.matrix)\n",
    "print (\"Gap penalties: \", blast_record.gap_penalties)"
   ]
  },
  {
   "cell_type": "markdown",
   "metadata": {},
   "source": [
    "4. Usando o objeto anterior, verifique o número de alinhamentos no registo. Analise com pormenor o primeiro destes alinhamentos verificando o “accession” da sequência que fez match, o id do hit, a sua definição e o número de HSPs do alinhamento. Mediante os resultados, qual é a proteína que lhe foi dada no ficheiro ?"
   ]
  },
  {
   "cell_type": "code",
   "execution_count": 6,
   "metadata": {},
   "outputs": [
    {
     "name": "stdout",
     "output_type": "stream",
     "text": [
      "number hits:  50\n",
      "FIRST ALIGNMENT:\n",
      "Accession: AAV38450\n",
      "Hit id: gb|AAV38450.1|\n",
      "Definition: interleukin 10, partial [synthetic construct] >gb|AAX36832.1| interleukin 10, partial [synthetic construct] >gb|AAX43106.1| interleukin 10, partial [synthetic construct] >gb|AAX43183.1| interleukin 10, partial [synthetic construct]\n",
      "Alignment length:  179\n",
      "Number of HSPs:  1\n"
     ]
    }
   ],
   "source": [
    "print (\"number hits: \", len(blast_record.alignments) )\n",
    "first_alignment = blast_record.alignments[0]\n",
    "\n",
    "print (\"FIRST ALIGNMENT:\")\n",
    "print (\"Accession: \" + first_alignment.accession)\n",
    "print (\"Hit id: \" + first_alignment.hit_id)\n",
    "print (\"Definition: \" + first_alignment.hit_def)\n",
    "print (\"Alignment length: \", first_alignment.length)\n",
    "print (\"Number of HSPs: \", len(first_alignment.hsps))"
   ]
  },
  {
   "cell_type": "markdown",
   "metadata": {},
   "source": [
    "5. Para o HSP do alinhamento anterior, verifique: o e-value, o score, o tamanho do alinhamento, o número de caracteres iguais. Verifique o alinhamento completo."
   ]
  },
  {
   "cell_type": "code",
   "execution_count": 7,
   "metadata": {},
   "outputs": [
    {
     "name": "stdout",
     "output_type": "stream",
     "text": [
      "E-value:  1.81582e-129\n",
      "Score:  952.0\n",
      "Length:  178\n",
      "Identities:  178\n",
      "MHSSALLCCLVLLTGVRASPGQGTQSENSCTHFPGNLPNMLRDLRDAFSRVKTFFQMKDQLDNLLLKESLLEDFKGYLGCQALSEMIQFY\n",
      "MHSSALLCCLVLLTGVRASPGQGTQSENSCTHFPGNLPNMLRDLRDAFSRVKTFFQMKDQLDNLLLKESLLEDFKGYLGCQALSEMIQFY\n",
      "MHSSALLCCLVLLTGVRASPGQGTQSENSCTHFPGNLPNMLRDLRDAFSRVKTFFQMKDQLDNLLLKESLLEDFKGYLGCQALSEMIQFY\n",
      "LEEVMPQAENQDPDIKAHVNSLGENLKTLRLRLRRCHRFLPCENKSKAVEQVKNAFNKLQEKGIYKAMSEFDIFINYIEAYMTMKIRN\n",
      "LEEVMPQAENQDPDIKAHVNSLGENLKTLRLRLRRCHRFLPCENKSKAVEQVKNAFNKLQEKGIYKAMSEFDIFINYIEAYMTMKIRN\n",
      "LEEVMPQAENQDPDIKAHVNSLGENLKTLRLRLRRCHRFLPCENKSKAVEQVKNAFNKLQEKGIYKAMSEFDIFINYIEAYMTMKIRN\n"
     ]
    }
   ],
   "source": [
    "hsp = first_alignment.hsps[0]\n",
    "print (\"E-value: \", hsp.expect)\n",
    "print (\"Score: \", hsp.score)\n",
    "print (\"Length: \", hsp.align_length)\n",
    "\n",
    "print (\"Identities: \", hsp.identities)\n",
    "\n",
    "print (hsp.query[:90])\n",
    "print (hsp.match[:90])\n",
    "print (hsp.sbjct[:90])\n",
    "\n",
    "print (hsp.query[90:])\n",
    "print (hsp.match[90:])\n",
    "print (hsp.sbjct[90:])\n"
   ]
  },
  {
   "cell_type": "markdown",
   "metadata": {},
   "source": [
    "6. Liste os acession numbers, as definições e os e-values dos 5 melhores alinhamentos. !"
   ]
  },
  {
   "cell_type": "code",
   "execution_count": 8,
   "metadata": {
    "scrolled": true
   },
   "outputs": [
    {
     "name": "stdout",
     "output_type": "stream",
     "text": [
      "Accession: AAV38450\n",
      "Definition: interleukin 10, partial [synthetic construct] >gb|AAX36832.1| interleukin 10, partial [synthetic construct] >gb|AAX43106.1| interleukin 10, partial [synthetic construct] >gb|AAX43183.1| interleukin 10, partial [synthetic construct]\n",
      "E-value:  1.81582e-129\n",
      "Accession: NP_000563\n",
      "Definition: interleukin-10 isoform 1 precursor [Homo sapiens] >sp|P22301.1| RecName: Full=Interleukin-10; Short=IL-10; AltName: Full=Cytokine synthesis inhibitory factor; Short=CSIF; Flags: Precursor [Homo sapiens] >gb|AAX36387.1| interleukin 10 [synthetic construct] >gb|PSJ20588.1| hypothetical protein CVH10_16755 [Halomonas sp. ND22Bw] >emb|SJX28384.1| unnamed protein product, partial [Human ORFeome Gateway entry vector] >gb|AAA63207.1| interleukin 10 [Homo sapiens] >gb|AAA80104.1| interleukin 10 [Homo sapiens]\n",
      "E-value:  2.65951e-129\n",
      "Accession: AKI71928\n",
      "Definition: IL10, partial [synthetic construct]\n",
      "E-value:  6.75998e-129\n",
      "Accession: NP_001129092\n",
      "Definition: interleukin-10 precursor [Pan troglodytes] >ref|XP_003822966.1| interleukin-10 isoform X2 [Pan paniscus] >ref|XP_016783106.1| interleukin-10 isoform X1 [Pan troglodytes] >gb|PNJ00397.1| IL10 isoform 1 [Pan troglodytes] >tpe|CAA9999834.1| TPA: interferon 2A [Pan troglodytes]\n",
      "E-value:  1.03713e-128\n",
      "Accession: XP_004028338\n",
      "Definition: interleukin-10 isoform X2 [Gorilla gorilla gorilla]\n",
      "E-value:  2.49541e-128\n"
     ]
    }
   ],
   "source": [
    "for i in range(5):\n",
    "    alignment = blast_record.alignments[i]\n",
    "    print (\"Accession: \" + alignment.accession)\n",
    "    print (\"Definition: \" + alignment.hit_def)\n",
    "    for hsp in alignment.hsps:\n",
    "        print (\"E-value: \", hsp.expect)"
   ]
  },
  {
   "cell_type": "markdown",
   "metadata": {},
   "source": [
    "7. Identifique as espécies de cada uma dessas sequências"
   ]
  },
  {
   "cell_type": "code",
   "execution_count": 9,
   "metadata": {},
   "outputs": [
    {
     "name": "stdout",
     "output_type": "stream",
     "text": [
      "Organisms:\n",
      "synthetic construct\n",
      "Homo sapiens\n",
      "synthetic construct\n",
      "Pan troglodytes\n",
      "Gorilla gorilla gorilla\n"
     ]
    }
   ],
   "source": [
    "# collect organisms\n",
    "import re\n",
    "specs = []\n",
    "for i in range(5):\n",
    "    alignment = blast_record.alignments[i]\n",
    "    definition = alignment.hit_def\n",
    "    x = re.search(\"\\[(.*?)\\]\", definition).group(1)\n",
    "    specs.append(x)\n",
    "\n",
    "print (\"Organisms:\")\n",
    "for s in specs: print(s)"
   ]
  },
  {
   "cell_type": "markdown",
   "metadata": {},
   "source": [
    "### Parte II"
   ]
  },
  {
   "cell_type": "markdown",
   "metadata": {},
   "source": [
    "1. Considere o ficheiro “O14727.fasta” que contém a sequência da proteína humana APAF (UniProt APAF_HUMAN; O14727). Carregue o mesmo em formato Fasta e verifique que a proteína tem 1248 aminoácidos."
   ]
  },
  {
   "cell_type": "code",
   "execution_count": 10,
   "metadata": {},
   "outputs": [
    {
     "name": "stdout",
     "output_type": "stream",
     "text": [
      "1248\n"
     ]
    }
   ],
   "source": [
    "seqrecord = SeqIO.read(open(\"O14727.fasta\"), format=\"fasta\") \n",
    "print (len(seqrecord.seq))"
   ]
  },
  {
   "cell_type": "markdown",
   "metadata": {},
   "source": [
    "2. Usando as funções do BioPython efetue uma pesquisa por sequências similares no Blast, usando a base de dados “swissprot”. Grave o resultado anterior num ficheiro XML."
   ]
  },
  {
   "cell_type": "code",
   "execution_count": 11,
   "metadata": {},
   "outputs": [],
   "source": [
    "result_handle = NCBIWWW.qblast(\"blastp\", \"swissprot\", seqrecord.format(\"fasta\"))"
   ]
  },
  {
   "cell_type": "code",
   "execution_count": 12,
   "metadata": {},
   "outputs": [],
   "source": [
    "save_file = open(\"apaf-blast-sp.xml\", \"w\")\n",
    "save_file.write(result_handle.read()) \n",
    "save_file.close() \n",
    "result_handle.close()"
   ]
  },
  {
   "cell_type": "code",
   "execution_count": 13,
   "metadata": {},
   "outputs": [],
   "source": [
    "result_handle = open(\"apaf-blast-sp.xml\")\n",
    "record = NCBIXML.read(result_handle)"
   ]
  },
  {
   "cell_type": "markdown",
   "metadata": {},
   "source": [
    "3. Realize o parsing do ficheiro anterior com as funções do BioPython. Analise os parâmetros globais da pesquisa, verificando: a base de dados usada, a matriz de substituição e os parâmetros para os espaçamentos."
   ]
  },
  {
   "cell_type": "code",
   "execution_count": 14,
   "metadata": {},
   "outputs": [
    {
     "name": "stdout",
     "output_type": "stream",
     "text": [
      "PARAMETERS:\n",
      "Database: swissprot\n",
      "Matrix: BLOSUM62\n",
      "Gap penalties:  (11, 1)\n"
     ]
    }
   ],
   "source": [
    "print (\"PARAMETERS:\")\n",
    "print (\"Database: \" + record.database)\n",
    "print (\"Matrix: \" + record.matrix)\n",
    "print (\"Gap penalties: \", record.gap_penalties)"
   ]
  },
  {
   "cell_type": "markdown",
   "metadata": {},
   "source": [
    "4. Identifique a lista de accession numbers, os e-values e os comprimentos do alinhamento para os alinhamentos retornados pela pesquisa."
   ]
  },
  {
   "cell_type": "code",
   "execution_count": 15,
   "metadata": {},
   "outputs": [
    {
     "name": "stdout",
     "output_type": "stream",
     "text": [
      "number hits:  50\n"
     ]
    }
   ],
   "source": [
    "nhits = len(record.alignments) \n",
    "print (\"number hits: \", nhits)"
   ]
  },
  {
   "cell_type": "code",
   "execution_count": 16,
   "metadata": {},
   "outputs": [
    {
     "name": "stdout",
     "output_type": "stream",
     "text": [
      "E-values and length of alignments:\n",
      "O14727 - 0.0 length:1248\n",
      "Q9EPV5 - 0.0 length:1249\n",
      "O88879 - 0.0 length:1249\n",
      "Q9I9H8 - 0.0 length:1260\n",
      "Q8YRI1 - 7.65095e-65 length:618\n",
      "Q8YV57 - 7.4713e-62 length:630\n",
      "Q8YTC2 - 1.46192e-61 length:1137\n",
      "Q55563 - 2.84501e-55 length:665\n",
      "Q00808 - 6.64114e-45 length:479\n",
      "Q9M2Z2 - 1.26219e-33 length:310\n",
      "P49695 - 2.71321e-31 length:290\n",
      "A8NEG8 - 2.81379e-29 length:281\n",
      "Q9V3J8 - 1.20045e-27 length:311\n",
      "P61964 - 3.82246e-27 length:311\n",
      "Q2KIG2 - 3.82246e-27 length:311\n",
      "A0CH87 - 1.52653e-26 length:359\n",
      "A0DB19 - 1.78729e-26 length:359\n",
      "Q3Y8L7 - 2.07166e-26 length:303\n",
      "B7PS00 - 2.49951e-26 length:307\n",
      "Q54KL5 - 3.24223e-26 length:310\n",
      "F6ZT52 - 3.72082e-26 length:300\n",
      "C3XVT5 - 5.38307e-26 length:307\n",
      "Q5M786 - 7.34739e-26 length:311\n",
      "Q8W1K8 - 7.44512e-25 length:168\n",
      "B8PD53 - 1.60605e-24 length:294\n",
      "Q9D7H2 - 1.69689e-24 length:311\n",
      "P25387 - 2.95138e-24 length:370\n",
      "C4Q0P6 - 3.04259e-24 length:307\n",
      "A2QP30 - 4.0154e-24 length:280\n",
      "D3Z7A5 - 4.86736e-24 length:305\n",
      "Q5BK30 - 5.90473e-24 length:305\n",
      "B8P4B0 - 7.64069e-24 length:294\n",
      "Q4RJN5 - 8.74288e-24 length:300\n",
      "Q17N69 - 5.7916e-23 length:299\n",
      "Q803D2 - 1.03714e-22 length:304\n",
      "Q4V7Z1 - 1.05382e-22 length:300\n",
      "O24076 - 1.52378e-22 length:308\n",
      "Q9C4Z6 - 1.53668e-22 length:299\n",
      "Q9LV28 - 1.5805e-22 length:299\n",
      "Q4ICM0 - 1.84872e-22 length:289\n",
      "Q6NZH4 - 2.28375e-22 length:300\n",
      "Q25189 - 2.38211e-22 length:302\n",
      "Q8N136 - 3.11485e-22 length:311\n",
      "Q4V8C4 - 3.73286e-22 length:263\n",
      "Q8K450 - 4.07993e-22 length:307\n",
      "Q90ZL4 - 4.62731e-22 length:300\n",
      "B8N9H4 - 5.40288e-22 length:283\n",
      "C4JZS6 - 5.68904e-22 length:282\n",
      "A2CEH0 - 6.03136e-22 length:300\n",
      "Q5IS43 - 6.09183e-22 length:300\n"
     ]
    }
   ],
   "source": [
    "res = []\n",
    "for alignment in record.alignments:\n",
    "    evalue = alignment.hsps[0].expect\n",
    "    accession = alignment.accession\n",
    "    leng = alignment.hsps[0].align_length\n",
    "    res.append(accession + \" - \" + str(evalue) + \" length:\" + str(leng) )\n",
    "\n",
    "print(\"E-values and length of alignments:\")\n",
    "for s in res: print(s)"
   ]
  },
  {
   "cell_type": "markdown",
   "metadata": {},
   "source": [
    "5. Repita o processo de Blast mas agora restringindo a pesquisa ao organismo Saccharomyces cerevisiae (na função qblast use o argumento entrez_query = \"Saccharomyces cerevisiae[organism]\" ) e grave os resultados."
   ]
  },
  {
   "cell_type": "code",
   "execution_count": 17,
   "metadata": {},
   "outputs": [],
   "source": [
    "result_handle2 = NCBIWWW.qblast(\"blastp\", \"swissprot\", seqrecord.format(\"fasta\"), entrez_query = \"Saccharomyces cerevisiae[organism]\" )\n",
    "\n",
    "save_file = open(\"apaf-blast-sc.xml\", \"w\")\n",
    "save_file.write(result_handle2.read()) \n",
    "save_file.close() \n",
    "result_handle2.close()"
   ]
  },
  {
   "cell_type": "markdown",
   "metadata": {},
   "source": [
    "6. Analise os resultados em 5, nomeadamente o alinhamento com menor e-value (primeiro resultado da lista). Identifique o accession (registo da Uniprot da sequência obtida), a sua descrição e o número de HSPs. Verifique o alinhamento obtido para cada HSP, verificando também o início do HSP na query e na sequência (sbjct). Note que na estrutura de um HSP tem acesso aos atributos query_start e sbjct_start."
   ]
  },
  {
   "cell_type": "code",
   "execution_count": 18,
   "metadata": {},
   "outputs": [
    {
     "name": "stdout",
     "output_type": "stream",
     "text": [
      "Accession: P25382\n",
      "Hit id: sp|P25382.3|\n",
      "Definition: RecName: Full=Ribosome assembly protein 4; AltName: Full=Notchless protein homolog 1; AltName: Full=Ribosome biogenesis factor RSA4 [Saccharomyces cerevisiae S288C]\n",
      "Number of HSPs:  5\n",
      "E-value:  8.81809e-25\n",
      "Length:  346\n",
      "Identities:  86\n",
      "Query start:  629\n",
      "Sbjct start:  158\n",
      "RIASCGADKTLQVFKAETGEKLLEIKAHEDEVLCCAFSTDDRFIATCSVDKKVKIWNSMTGE-LVHTYDEHSEQVNC-----CHFTNSSH\n",
      "R+ +   D T +++  +T   +  +K H + VLC ++S D   IAT S+D  +++W+  +G+ L      HS+ +        H      \n",
      "RMVTGAGDNTARIWDCDTQTPMHTLKGHYNWVLCVSWSPDGEVIATGSMDNTIRLWDPKSGQCLGDALRGHSKWITSLSWEPIHLVKPGS\n",
      "\n",
      "E-value:  2.72376e-11\n",
      "Length:  220\n",
      "Identities:  60\n",
      "Query start:  610\n",
      "Sbjct start:  315\n",
      "VVRPHTDAVYHACFSED-GQRIASCGADKTLQVFKAETGEKLLEIKAHEDEVLCCAFSTDDRFIATCSVDKKVKIWNSM-TGELVHTYDE\n",
      "+++ H   V H   S D   RI +            E  +K LE      E +C      +  + T S D  + +WN + + + +     \n",
      "ILKSHAHWVNHLSLSTDYALRIGAFDHTGKKPSTPEEAQKKALE----NYEKICKKNGNSEEMMVTASDDYTMFLWNPLKSTKPIARMTG\n",
      "\n",
      "E-value:  6.9812e-11\n",
      "Length:  331\n",
      "Identities:  73\n",
      "Query start:  838\n",
      "Sbjct start:  141\n",
      "GHHSTIQYCDFSPQ-NHLAVVALSQYCVELWNTDSRSKVADCRGHLSWVHGVMFSPDGSSFLTSSDDQTIRLWETKK-VCKNSAVMLKQE\n",
      "GH STI    F+P  +   V         +W+ D+++ +   +GH +WV  V +SPDG    T S D TIRLW+ K   C   A+    +\n",
      "GHGSTILCSAFAPHTSSRMVTGAGDNTARIWDCDTQTPMHTLKGHYNWVLCVSWSPDGEVIATGSMDNTIRLWDPKSGQCLGDALRGHSK\n",
      "\n",
      "E-value:  1.08415e-10\n",
      "Length:  105\n",
      "Identities:  33\n",
      "Query start:  1084\n",
      "Sbjct start:  142\n",
      "HQGTVL-SCDISHDATKFSSTSADKTAKIWSFDLLLPLHELRGHNGCVRCSAFSVDSTLLATGDDNGEIRIWNVSNGELLHLCAPLSEEG\n",
      "H  T+L S    H +++  + + D TA+IW  D   P+H L+GH   V C ++S D  ++ATG  +  IR+W+  +G+ L        + \n",
      "HGSTILCSAFAPHTSSRMVTGAGDNTARIWDCDTQTPMHTLKGHYNWVLCVSWSPDGEVIATGSMDNTIRLWDPKSGQCL-------GDA\n",
      "\n",
      "E-value:  1.33862e-08\n",
      "Length:  174\n",
      "Identities:  40\n",
      "Query start:  570\n",
      "Sbjct start:  345\n",
      "EPETSEVYQQAKLQAKQEV---------------DNGMLYLEWINKKNITNLSRLVVRPHTDAVYHACFSEDGQRIASCGADKTLQVFKA\n",
      "+P T E  Q+  L+  +++               D+  ++L W   K+   ++R+    H   V H  FS DG+ I S   D +++++  \n",
      "KPSTPEEAQKKALENYEKICKKNGNSEEMMVTASDDYTMFL-WNPLKSTKPIARMTG--HQKLVNHVAFSPDGRYIVSASFDNSIKLWDG\n",
      "\n"
     ]
    }
   ],
   "source": [
    "result_handle2 = open(\"apaf-blast-sc.xml\")\n",
    "record2 = NCBIXML.read(result_handle2)\n",
    "\n",
    "first_alignment = record2.alignments[0]\n",
    "\n",
    "print (\"Accession: \" + first_alignment.accession)\n",
    "print (\"Hit id: \" + first_alignment.hit_id)\n",
    "print (\"Definition: \" + first_alignment.hit_def)\n",
    "\n",
    "print (\"Number of HSPs: \", len(first_alignment.hsps))\n",
    "\n",
    "for hsp in first_alignment.hsps:\n",
    "    print (\"E-value: \", hsp.expect)\n",
    "    print (\"Length: \", hsp.align_length)\n",
    "    print (\"Identities: \", hsp.identities)\n",
    "    print (\"Query start: \", hsp.query_start)\n",
    "    print (\"Sbjct start: \", hsp.sbjct_start)\n",
    "    print (hsp.query[0:90])\n",
    "    print (hsp.match[0:90])\n",
    "    print (hsp.sbjct[0:90])\n",
    "    print (\"\")"
   ]
  },
  {
   "cell_type": "markdown",
   "metadata": {},
   "source": [
    "7. Analisando com atenção os resultados anteriores, bem como consultando o registo Uniprot da sequência analisada em 6 (nomeadamente o seu tamanho), o que conclui em relação à existência de genes homólogos ao APAF em S. cerevisiae. Confirme a sua ideia comparando este registo Uniprot com o da query e verificando as funções das duas proteínas."
   ]
  },
  {
   "cell_type": "markdown",
   "metadata": {},
   "source": [
    "Note-se que a sequência não tem homólogos: alinhamentos são em apenas em parte das sequências em domínios que não definem a função principal da proteina humana. Note-se as diferencas entre as duas em termos de tamanho e na função (vendo registos uniprot)"
   ]
  },
  {
   "cell_type": "code",
   "execution_count": null,
   "metadata": {},
   "outputs": [],
   "source": []
  }
 ],
 "metadata": {
  "kernelspec": {
   "display_name": "Python 3 (ipykernel)",
   "language": "python",
   "name": "python3"
  },
  "language_info": {
   "codemirror_mode": {
    "name": "ipython",
    "version": 3
   },
   "file_extension": ".py",
   "mimetype": "text/x-python",
   "name": "python",
   "nbconvert_exporter": "python",
   "pygments_lexer": "ipython3",
   "version": "3.9.7"
  }
 },
 "nbformat": 4,
 "nbformat_minor": 4
}
